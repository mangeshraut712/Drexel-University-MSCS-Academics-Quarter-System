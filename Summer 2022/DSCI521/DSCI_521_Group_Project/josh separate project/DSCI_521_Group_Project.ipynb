{
 "cells": [
  {
   "cell_type": "markdown",
   "metadata": {
    "id": "Koi8aMrCFZYB"
   },
   "source": [
    "# DSCI 521 Group project (Summer 21/22)\n",
    "\n",
    "### Project submission group\n",
    "- Group member 1\n",
    "    - Name: Josh Clark\n",
    "    - Email: jc4577@drexel.edu"
   ]
  },
  {
   "cell_type": "markdown",
   "metadata": {
    "id": "6Y16V1SHF57i"
   },
   "source": [
    "## Introduction\n",
    "\n",
    "Natural Language Processing has come a long way in the past few decades. Something that was once science fiction and seemed impossible 20 years ago is now present for free in any smartphone through Google, Siri, or Cortana if you're one of the few that actually bought a Windows phone. We can talk to a machine and it can break down our voice, derive meaning from our sentences, and execute commands or answer questions. We can search the web with a question written in plain text and get meaningful answers and websites returned to us. It has helped advance civilization and helped countless industries. However, despite being able to extract meaning and information from text, one thing that machines are notoriously bad at (even in science fiction) is understanding emotion and sentiment.\n",
    "\n",
    "If computers could infer emotion and sentiment from text, through the use of some API for example, there could be a broad array of applications for it. A few of them include:\n",
    "* **Monitoring social media for hate speech, bigotry, and discrimination automatically.** The internet is plagued with bullying and arguing and it frequently becomes a problem on many platforms to have enough manpower to moderate things. In most situations, the fact that it can't be adequately controlled actually acts to encourage it. The internet is a no man's land of free speech, and that can sometimes be taken advantage of for illegitimate reasons by those who oppress others.\n",
    "* **Detecting mental health issues and self harm (or a desire to hurt others) in social media posts, messaging apps, and YouTube videos.** Mental health issues have been on the rise in recent years and most of it can go undetected by humans when someone appears to be normal. Identifying high risk scenarios quickly, such as when someone chooses to take their own life or the lives of others, is vital in preventing these unfortunate disasters, and many come with indications and red flags beforehand that are only noticed later. Being able to detect emotional outcries, such as one last goodbye message to a loved one, or subtle regular trends, such as melancholy daily Facebook posts, can also help programs to assist with those who feel neglected or are secretly crying for help.\n",
    "* **Prioritizing customer complaints and product reviews.** One application that may secure more funding for this technology by big industries does actually have many positive impacts beyond simple money making. Although many people make wild accusations and big shows when the product they bought doesn't meet their expectations, and these issues do certainly need to be addressed, identifying unusually intense complaints, by both quantity and severity, is most important.\n",
    "\n",
    "These are all scenarios where human involvement is necessary, but machines, just like they have always done, allow us to cover more ground by automating simple tasks and simplifying larger ones. Many of these problems can be addressed by extracting simple facts from text, such as what the problem is, but identifying the severity of the problem from the choice of wording can aid in prioritizing solutions and knowing which problems affect people in different ways. Not every complaint is out of anger. Some are out of fear or worry, and others are because of surprise or sadness. Positive sentiments, such as happiness and love, are important as well for many of the same reasons.\n",
    "\n",
    "This project serves to demonstrate that emotions and sentiment can be learned given the proper data much the same as simpler positive/negative connotation can traditionally. The dataset we'll be using is called \"Emotion Detection from Text\" and contains exactly 40,000 Twitter posts with labels for 13 different sentiments that will be used as the target class. The words that make up each tweet, once sanitized, will be used as our features. We can leverage this with a Logistic Regression model to try to predict, given a 2/3 portioned training set, if we can predict the sentiment of unseen tweets in the remaining 1/3 testing set.\n",
    "\n",
    "The dataset itself can be found on Kaggle.com here:\n",
    "https://www.kaggle.com/datasets/pashupatigupta/emotion-detection-from-text"
   ]
  },
  {
   "cell_type": "markdown",
   "metadata": {
    "id": "kyPygtY3o2_o"
   },
   "source": [
    "## My approach\n",
    "\n",
    "The very first thing we need to do is read in the dataset and look at it. Let's create a function that will let us reload the dataset without having to specify the filename, and take a look at what it contains."
   ]
  },
  {
   "cell_type": "code",
   "execution_count": 73,
   "metadata": {
    "colab": {
     "base_uri": "https://localhost:8080/"
    },
    "id": "6IQ1kWJWGGXA",
    "outputId": "33d63f9e-330c-4698-9f68-366e2634fa45"
   },
   "outputs": [
    {
     "name": "stdout",
     "output_type": "stream",
     "text": [
      "     tweet_id   sentiment                                            content\n",
      "0  1956967341       empty  @tiffanylue i know  i was listenin to bad habi...\n",
      "1  1956967666     sadness  Layin n bed with a headache  ughhhh...waitin o...\n",
      "2  1956967696     sadness                Funeral ceremony...gloomy friday...\n",
      "3  1956967789  enthusiasm               wants to hang out with friends SOON!\n",
      "4  1956968416     neutral  @dannycastillo We want to trade with someone w...\n",
      "5  1956968477       worry  Re-pinging @ghostridah14: why didn't you go to...\n",
      "6  1956968487     sadness  I should be sleep, but im not! thinking about ...\n",
      "7  1956968636       worry               Hmmm. http://www.djhero.com/ is down\n",
      "8  1956969035     sadness            @charviray Charlene my love. I miss you\n",
      "9  1956969172     sadness         @kelcouch I'm sorry  at least it's Friday?\n",
      "Dataset size:(40000, 3)\n"
     ]
    }
   ],
   "source": [
    "import pandas as pd\n",
    "\n",
    "def loadDataset():\n",
    "  return pd.read_csv('./data/tweet_emotions.csv', delimiter=',')\n",
    "\n",
    "TwitterDataset = loadDataset()\n",
    "print(TwitterDataset[:10])\n",
    "print(f\"Dataset size:{TwitterDataset.shape}\")"
   ]
  },
  {
   "cell_type": "markdown",
   "metadata": {},
   "source": [
    "It looks like we have 40,000 tweets, as promised, with columns for the tweet ID (which we won't need), the sentiment for the tweet, and the actual text. As to be expected with social media posts, there is a lot of misspelling, texting slang, and other variables like Twitter handles, URLs, and punctuation that will cause a lot of issues when extracting the actual words. We will deal with that in a moment, but first let's see how many tweets we have for each sentiment."
   ]
  },
  {
   "cell_type": "code",
   "execution_count": 74,
   "metadata": {
    "colab": {
     "base_uri": "https://localhost:8080/"
    },
    "id": "_NEyBwolGxTt",
    "outputId": "e0615746-c2a4-462d-ae7f-eb1d74f16738"
   },
   "outputs": [
    {
     "data": {
      "text/plain": [
       "neutral       8638\n",
       "worry         8459\n",
       "happiness     5209\n",
       "sadness       5165\n",
       "love          3842\n",
       "surprise      2187\n",
       "fun           1776\n",
       "relief        1526\n",
       "hate          1323\n",
       "empty          827\n",
       "enthusiasm     759\n",
       "boredom        179\n",
       "anger          110\n",
       "Name: sentiment, dtype: int64"
      ]
     },
     "execution_count": 74,
     "metadata": {},
     "output_type": "execute_result"
    }
   ],
   "source": [
    "# Value counts of emotions\n",
    "TwitterDataset['sentiment'].value_counts()"
   ]
  },
  {
   "cell_type": "markdown",
   "metadata": {},
   "source": [
    "Looks like some emotions such as \"neutral\" and \"worry\" have a lot of tweets, but other emotions like \"boredom\" and \"anger\" barely have any. Let's try to visualize the distribution better with a bar graph."
   ]
  },
  {
   "cell_type": "code",
   "execution_count": 75,
   "metadata": {
    "colab": {
     "base_uri": "https://localhost:8080/",
     "height": 293
    },
    "id": "8NgfZ3TCIijJ",
    "outputId": "a877fbca-78af-4c4c-8214-2499436a3e78"
   },
   "outputs": [
    {
     "data": {
      "image/png": "[encoded data removed]",
      "text/plain": [
       "<Figure size 432x288 with 1 Axes>"
      ]
     },
     "metadata": {
      "needs_background": "light"
     },
     "output_type": "display_data"
    }
   ],
   "source": [
    "from matplotlib import pyplot as plt\n",
    "\n",
    "def graphValueCounts(dataset):\n",
    "  valueCounts = dataset.value_counts()\n",
    "  fig, ax = plt.subplots()\n",
    "  plt.setp(ax.get_xticklabels(), rotation=30, ha='right')\n",
    "  _ = plt.bar(valueCounts.index, valueCounts)\n",
    "\n",
    "graphValueCounts(TwitterDataset['sentiment'])"
   ]
  },
  {
   "cell_type": "markdown",
   "metadata": {},
   "source": [
    "Yes, it looks like there is quite a difference in representation for the different sentiments. We will need to address this so that this imbalance doesn't affect our classifier."
   ]
  },
  {
   "cell_type": "markdown",
   "metadata": {
    "id": "HKz4eqycNTj7"
   },
   "source": [
    "## Usefulness of sentiments and class imbalance\n",
    "\n",
    "The ability for an ML model to \"understand\" a particular class comes from how much data you give it to represent the class. Often with imbalanced datasets, class labels with many samples tend to perform very well, with both precision and recall. Labels with fewer samples, however, are _less_ understood and there may be reasonably high precision, which is the ability to correctly identify when a sample _does_ have this label, but poor recall, which is the ability to correctly identify when a sample _does not_ have this label. This is because a lower sample count also means a lower count for each feature, which in turn causes a compounding error on the overall label prediction. The model has more information from the class prior, knowing how likely labels are to occur overall, and not as much information on what constitutes minority labels, which results in preferring majority labels when it is \"less confident\" in its prediction.\n",
    "\n",
    "This data was likely collected with love vs hate, happiness vs sadness, worry vs relief, and fun vs boredom goals, but many of these simply don't have enough samples to work with and many aren't as interesting or \"useful\" for our investigation. Let's merge fun into happiness, and hate into anger since they describe very similar things. Let's also take out boredom, enthusiasm, relief, and empty because they're not as interesting and have low sample counts."
   ]
  },
  {
   "cell_type": "code",
   "execution_count": 76,
   "metadata": {
    "colab": {
     "base_uri": "https://localhost:8080/",
     "height": 428
    },
    "id": "tfYWneRHNcko",
    "outputId": "5d9e26ce-9e80-46a6-e5bd-6fa473e7bdba"
   },
   "outputs": [
    {
     "name": "stdout",
     "output_type": "stream",
     "text": [
      "neutral      8638\n",
      "worry        8459\n",
      "happiness    6985\n",
      "sadness      5165\n",
      "love         3842\n",
      "surprise     2187\n",
      "anger        1433\n",
      "Name: sentiment, dtype: int64\n"
     ]
    },
    {
     "data": {
      "image/png": "[encoded data removed]",
      "text/plain": [
       "<Figure size 432x288 with 1 Axes>"
      ]
     },
     "metadata": {
      "needs_background": "light"
     },
     "output_type": "display_data"
    }
   ],
   "source": [
    "# Reload dataset so this cell can be run in succession\n",
    "TwitterDataset = loadDataset()\n",
    "\n",
    "# Drop the tweet_id column because we don't need it\n",
    "TwitterDataset.drop('tweet_id', axis=1, inplace=True)\n",
    "\n",
    "# Combine 'happiness' and 'fun' into just 'happiness'\n",
    "TwitterDataset['sentiment'].replace(to_replace='fun', value='happiness', inplace = True)\n",
    "\n",
    "# Combine 'anger' and 'hate' into just 'anger'\n",
    "TwitterDataset['sentiment'].replace(to_replace='hate', value='anger', inplace = True)\n",
    "\n",
    "# Remove 'boredom', 'enthusiasm', 'relief', and 'empty'\n",
    "TwitterDataset = TwitterDataset[~TwitterDataset['sentiment'].isin(['boredom', 'enthusiasm', 'relief', 'empty'])]\n",
    "\n",
    "# Reset index so that its ready to be filtered again\n",
    "TwitterDataset.reset_index(drop=True, inplace=True)\n",
    "\n",
    "# Show the exact count of each sentiment\n",
    "print(TwitterDataset['sentiment'].value_counts())\n",
    "\n",
    "# Display new reduced sentiment value counts\n",
    "graphValueCounts(TwitterDataset['sentiment'])"
   ]
  },
  {
   "cell_type": "markdown",
   "metadata": {},
   "source": [
    "This is better. There are less sentiments overall to worry about, but there is still an obvious imbalance that needs to be addressed. Although this will affect our final scores for these emotions, let's cap them all at 3000. This should give relatively equal representation without bringing them all down low like anger."
   ]
  },
  {
   "cell_type": "code",
   "execution_count": 77,
   "metadata": {
    "colab": {
     "base_uri": "https://localhost:8080/",
     "height": 428
    },
    "id": "hN7hI-h1bq4F",
    "outputId": "6e4d6de2-2e82-49d6-bd35-1eb58850c061"
   },
   "outputs": [
    {
     "name": "stdout",
     "output_type": "stream",
     "text": [
      "sadness      3000\n",
      "worry        3000\n",
      "love         3000\n",
      "neutral      3000\n",
      "happiness    3000\n",
      "surprise     2187\n",
      "anger        1433\n",
      "Name: sentiment, dtype: int64\n"
     ]
    },
    {
     "data": {
      "image/png": "[encoded data removed]",
      "text/plain": [
       "<Figure size 432x288 with 1 Axes>"
      ]
     },
     "metadata": {
      "needs_background": "light"
     },
     "output_type": "display_data"
    }
   ],
   "source": [
    "# Randomly select only 3k samples max from each sentiment\n",
    "cap = 3000\n",
    "combinedSamplesIndex = pd.Index([])\n",
    "for sentiment in TwitterDataset['sentiment'].unique():\n",
    "    # Grab the subset that has this sentiment\n",
    "    sentimentSubset = TwitterDataset[TwitterDataset['sentiment'] == sentiment]\n",
    "    # Grab cap random samples from this subset, or keep the old max if its already smaller\n",
    "    cappedSubset = sentimentSubset.sample(n=min(cap, sentimentSubset.shape[0]), axis=0)\n",
    "    # Take the indices of these samples from the original dataset and combine them\n",
    "    combinedSamplesIndex = combinedSamplesIndex.union(cappedSubset.index)\n",
    "# Now use these combined indices to reduce the dataset\n",
    "TwitterDataset = TwitterDataset.iloc[combinedSamplesIndex]\n",
    "# Reset the index again\n",
    "TwitterDataset.reset_index(drop=True, inplace=True)\n",
    "\n",
    "# Show the exact count of each now\n",
    "print(TwitterDataset['sentiment'].value_counts())\n",
    "\n",
    "# Display new capped sentiment value counts as a graph\n",
    "graphValueCounts(TwitterDataset['sentiment'])"
   ]
  },
  {
   "cell_type": "markdown",
   "metadata": {
    "id": "72BmKau3gSVC"
   },
   "source": [
    "## Data cleaning\n",
    "\n",
    "Now that we have a relatively even dataset, we will need to sanitize the input data by removing \"nonsense words\" from the tweet texts so that we are only working with meaningful words. Things like website URLs, Twitter handles, random numbers, punctuation, and emojis, and anything else that doesn't contribute adequate information need to be removed. All words will have to be forced to lowercase and punctuation inside or adjacent to words will be removed as well. Any texting slang will have to be reversed as much as possible to combine with correctly spelled out words. Unfortunately, misspelled words will have to be included, despite likely only appearing a few times each, because it will be near to impossible to remove or fix without some major processing and a database of correctly spelled words, or a specially built library which I was unable to find.\n",
    "\n",
    "\"Nonsense words\", due to their extremely low likelihood of appearing more than once, and the fact that they rarely contribute much to the meaning of a sentence, act to confuse the classifier model by offering large amounts of useless information that drowns out features that are more representative of the tweet's emotion. Stopwords, such as \"and\" and \"the\", will also need to be removed for the same reason."
   ]
  },
  {
   "cell_type": "markdown",
   "metadata": {
    "id": "HGC_lBfcgvw-"
   },
   "source": [
    "### Cleaning data in preparation for tokenization\n",
    "\n",
    "First let's take another look at the dataset as is."
   ]
  },
  {
   "cell_type": "code",
   "execution_count": 78,
   "metadata": {
    "colab": {
     "base_uri": "https://localhost:8080/"
    },
    "id": "q6fLc6sgjLCD",
    "outputId": "e3e820f1-8ddc-4ada-a397-2e880bff0360"
   },
   "outputs": [
    {
     "name": "stdout",
     "output_type": "stream",
     "text": [
      "  sentiment                                            content\n",
      "0   sadness  Layin n bed with a headache  ughhhh...waitin o...\n",
      "1   sadness                Funeral ceremony...gloomy friday...\n",
      "2     worry               Hmmm. http://www.djhero.com/ is down\n",
      "3   sadness         @kelcouch I'm sorry  at least it's Friday?\n",
      "4   sadness  Ugh! I have to beat this stupid song to get to...\n",
      "5   sadness  @BrodyJenner if u watch the hills in london u ...\n",
      "6  surprise                                       Got the news\n",
      "7   sadness      The storm is here and the electricity is gone\n",
      "8      love                               @annarosekerr agreed\n",
      "9   sadness  How are YOU convinced that I have always wante...\n"
     ]
    }
   ],
   "source": [
    "print(TwitterDataset[:10])"
   ]
  },
  {
   "cell_type": "markdown",
   "metadata": {},
   "source": [
    "You can see many previously mentioned examples of nonsense words all throughout these tweets. We can use regex to remove some of these, but we can also use the neattext library which simplifies some of the more complex regular expressions."
   ]
  },
  {
   "cell_type": "code",
   "execution_count": 79,
   "metadata": {
    "colab": {
     "base_uri": "https://localhost:8080/"
    },
    "id": "fCijMJVE2Tqa",
    "outputId": "93616f74-9559-412f-e175-3a51ef5825f3"
   },
   "outputs": [
    {
     "name": "stdout",
     "output_type": "stream",
     "text": [
      "Requirement already satisfied: neattext in c:\\programdata\\anaconda3\\envs\\drexel\\lib\\site-packages (0.1.3)\n",
      "Note: you may need to restart the kernel to use updated packages.\n"
     ]
    }
   ],
   "source": [
    "pip install neattext"
   ]
  },
  {
   "cell_type": "code",
   "execution_count": 80,
   "metadata": {
    "colab": {
     "base_uri": "https://localhost:8080/"
    },
    "id": "fRipYWH7hzRQ",
    "outputId": "69f51b40-ca8a-4beb-f09f-552a78cd3a41"
   },
   "outputs": [
    {
     "name": "stdout",
     "output_type": "stream",
     "text": [
      "  sentiment                                            content\n",
      "0   sadness          layin and bed headache ughhhh waitin call\n",
      "1   sadness                     funeral ceremony gloomy friday\n",
      "2     worry                                              hmmm \n",
      "3   sadness                                    im sorry friday\n",
      "4   sadness                          ugh beat stupid song rude\n",
      "5   sadness  u watch hills london you realise tourture week...\n",
      "6  surprise                                           got news\n",
      "7   sadness                             storm electricity gone\n",
      "8      love                                             agreed\n",
      "9   sadness  convinced wanted you signals damn think lost f...\n"
     ]
    }
   ],
   "source": [
    "import re\n",
    "import neattext as nt\n",
    "\n",
    "# Remove \"nonsense words\" that shouldn't be included including usernames, punctuation, and stopwords\n",
    "def cleanText(content):\n",
    "    # Make everything lowercase\n",
    "    content = content.lower()\n",
    "    \n",
    "    # Remove website URLs\n",
    "    content = re.sub('((https?|ftp|smtp):\\/\\/)?(www.)?[a-z0-9]+\\.[a-z]+(\\/[a-z0-9-_#]+\\/?)*', ' ', content)\n",
    "\n",
    "    # Remove ending punctuation and hyphens between words and separate with a space instead\n",
    "    content = re.sub('(?<=\\w)([\\.!?,-]+)(?=\\w+)',' ', content)\n",
    "    \n",
    "    # Remove twitter handles\n",
    "    content = re.sub('(@\\w+)', '', content)\n",
    "    \n",
    "    # Use neattext to automate some text cleaning\n",
    "    tf = nt.TextFrame(content)\n",
    "    tf.remove_urls()\n",
    "    \n",
    "    # Switch to normal regex to remove ending punctuation and hyphens between words\n",
    "    content = tf.text\n",
    "    content = re.sub('(?<=\\w)([\\.!?-]+)(?=\\w+)','', content)\n",
    "    \n",
    "    # Switch back to neattext for the other functions\n",
    "    tf = nt.TextFrame(content)\n",
    "    tf.remove_emails()\n",
    "    tf.remove_phone_numbers()\n",
    "    tf.remove_numbers()\n",
    "    tf.remove_emojis()\n",
    "    tf.remove_stopwords()\n",
    "    \n",
    "    # Switch to regex to remove twitter handles\n",
    "    content = tf.text\n",
    "    content = re.sub('(@\\w+)', '', content)\n",
    "    \n",
    "    # Use neattext again to remove punctuation\n",
    "    tf = nt.TextFrame(content)\n",
    "    tf.remove_special_characters()\n",
    "    \n",
    "    # Use regex to undo some texting slang to combine with correctly spelled words\n",
    "    content = tf.text\n",
    "    content = re.sub('(?<=\\W)(u)(?=\\W)', 'you', content)\n",
    "    content = re.sub('(?<=\\W)(bc)(?=\\W)', 'because', content)\n",
    "    content = re.sub('(?<=\\W)(bf)(?=\\W)', 'boyfriend', content)\n",
    "    content = re.sub('(?<=\\W)(gf)(?=\\W)', 'girlfriend', content)\n",
    "    content = re.sub('(?<=\\W)(n)(?=\\W)', 'and', content)\n",
    "    content = re.sub('(?<=\\W)(rn)(?=\\W)', 'right now', content)\n",
    "    content = re.sub('(?<=\\W)(r)(?=\\W)', 'are', content)\n",
    "    content = re.sub('(?<=\\W)(y)(?=\\W)', 'why', content)\n",
    "    content = re.sub('(?<=\\W)(b)(?=\\W)', 'be', content)\n",
    "    content = re.sub('(?<=\\W)(w)(?=\\W)', 'with', content)\n",
    "    \n",
    "    # Remove successive whitespace\n",
    "    content = re.sub('\\s{2,}', ' ', content)\n",
    "    \n",
    "    return content\n",
    "\n",
    "# Create a new object for the processed tweets and print the first 10\n",
    "CleanDataset = TwitterDataset.copy()\n",
    "CleanDataset['content'] = CleanDataset['content'].apply(cleanText)\n",
    "print(CleanDataset[:10])"
   ]
  },
  {
   "cell_type": "markdown",
   "metadata": {},
   "source": [
    "This looks much better and is probably the best we can do given the original data. We can now tokenize these words per tweet and build a model."
   ]
  },
  {
   "cell_type": "markdown",
   "metadata": {
    "id": "xTgypU-LiLTX"
   },
   "source": [
    "## Building a statistical model\n",
    "\n",
    "Before deriving a word count from these tweets, we need to split the dataset into a training set and a testing set. The training set will be used to build our stats for the classifier model, while the testing set will act as new unseen data that we can use to test the reliability of the model in practice."
   ]
  },
  {
   "cell_type": "code",
   "execution_count": 81,
   "metadata": {},
   "outputs": [
    {
     "name": "stdout",
     "output_type": "stream",
     "text": [
      "       sentiment                                            content\n",
      "0        sadness                           lip pierced minutes died\n",
      "1           love                              love hair blowin wind\n",
      "2      happiness  hahaha cartoon mascots go monster nice details...\n",
      "3          worry  ss gym project finally finished damn filthy ho...\n",
      "4           love                            happy mothers day moms \n",
      "...          ...                                                ...\n",
      "12408       love                        lol good luck love vid ybwm\n",
      "12409       love  wish enjoy drink outside beautiful evening nee...\n",
      "12410    neutral                                   way santa monica\n",
      "12411   surprise                   happy mothers day american mamas\n",
      "12412   surprise          cheers tony btw notice swear words tweets\n",
      "\n",
      "[12413 rows x 2 columns]\n",
      "     sentiment                                            content\n",
      "0        anger                        platypuses mammals lay eggs\n",
      "1      sadness  sourish limbs preventing gg friday happy v lon...\n",
      "2      neutral              client consult valley ranch home work\n",
      "3      neutral  jack green today good killer walking west hill...\n",
      "4        anger      boredddddddd work tomorrow sunday hate clarks\n",
      "...        ...                                                ...\n",
      "6202     worry  try read paul mckenna book thin good advice ba...\n",
      "6203      love  ciara great snl kim mentioned snl tonight just...\n",
      "6204     worry            nerdy am found star wars day today love\n",
      "6205  surprise  called retro dear wear fifties fashion birthda...\n",
      "6206   neutral                                    plans way forth\n",
      "\n",
      "[6207 rows x 2 columns]\n"
     ]
    }
   ],
   "source": [
    "# Split the data\n",
    "CleanDataset_shuffled = CleanDataset.sample(frac=1).reset_index(drop=True)\n",
    "splitIndex = int(2/3 * CleanDataset_shuffled.shape[0])\n",
    "trainingSet = CleanDataset_shuffled[:splitIndex].reset_index(drop=True)\n",
    "testingSet = CleanDataset_shuffled[splitIndex:].reset_index(drop=True)\n",
    "\n",
    "# Display the two sets and their sizes\n",
    "print(trainingSet)\n",
    "print(testingSet)"
   ]
  },
  {
   "cell_type": "markdown",
   "metadata": {},
   "source": [
    "### Deriving word counts per sentiment\n",
    "\n",
    "Now that we have good clean text, we can start adding up the count of each word for every sentiment that it occurs in. We are looking to create a numpy array with the unique words as rows and the sentiments as columns. Each cell in the matrix will be how many times that word occured in a tweet with that sentiment."
   ]
  },
  {
   "cell_type": "code",
   "execution_count": 82,
   "metadata": {
    "id": "jwtjaGvoiiRp"
   },
   "outputs": [
    {
     "name": "stdout",
     "output_type": "stream",
     "text": [
      "Total number of words: 15168\n",
      "Average tweet length in words: 6.720\n",
      "First 10 words:\n",
      "['lip' 'pierced' 'minutes' 'died' 'love' 'hair' 'blowin' 'wind' 'hahaha'\n",
      " 'cartoon']\n",
      "Sentiment counts for the first 10 words:\n",
      "[[  2   2   0   0   1   0   0]\n",
      " [  1   1   0   1   0   0   0]\n",
      " [  5  12   8   3   6   2   5]\n",
      " [ 12   8   4   3   2   1   0]\n",
      " [ 46  39  34 447  13  33  60]\n",
      " [ 11  12  19   8   5   5  12]\n",
      " [  0   0   0   1   0   0   1]\n",
      " [  1   0   1   2   0   3   1]\n",
      " [  3   3   9  10   3   6  18]\n",
      " [  0   0   0   0   1   0   1]]\n"
     ]
    }
   ],
   "source": [
    "import numpy as np\n",
    "\n",
    "# Get list of sentiments so we don't have to call this multiple times\n",
    "sentiments = list(CleanDataset['sentiment'].unique())\n",
    "# A list to keep track of all unique words\n",
    "allWords_list = []\n",
    "# A starting ndarray for our statistics\n",
    "wordStats = np.empty((0,len(sentiments)), dtype=np.int64)\n",
    "# A template for new rows\n",
    "newRow = np.array([0 for sentiment in sentiments])\n",
    "\n",
    "tweetWordCounts = []\n",
    "\n",
    "# Go through all words in all tweets and add them up\n",
    "for _, tweet in trainingSet.iterrows():\n",
    "    tweetWordCounts.append(len(tweet['content'].split()))\n",
    "    for word in tweet['content'].split():\n",
    "        # New words get added to allWords and we add a row to wordStats\n",
    "        if word not in allWords_list:\n",
    "            allWords_list.append(word)\n",
    "            wordStats = np.vstack((wordStats, newRow.copy()))\n",
    "        # Get indices for the word and sentiment\n",
    "        wordIndex = allWords_list.index(word)\n",
    "        sentimentIndex = sentiments.index(tweet['sentiment'])\n",
    "        # Increment that spot in the ndarray\n",
    "        wordStats[wordIndex, sentimentIndex] += 1\n",
    "\n",
    "# Make this an ndarray to make it compatible with wordStats, but keep the\n",
    "# list form so we can use .index() to quickly find a particular word's location\n",
    "allWords = np.array(allWords_list)\n",
    "\n",
    "# Print out some stats\n",
    "print(f\"Total number of words: {allWords.shape[0]}\")\n",
    "print(f\"Average tweet length in words: {np.mean(tweetWordCounts):.3f}\")\n",
    "\n",
    "# Print out first 10 words\n",
    "print(f\"First 10 words:\")\n",
    "print(allWords[:10])\n",
    "\n",
    "# Print out stats for first 10 words\n",
    "print(f\"Sentiment counts for the first 10 words:\")\n",
    "print(wordStats[:10,:])"
   ]
  },
  {
   "cell_type": "markdown",
   "metadata": {},
   "source": [
    "This looks good. You can see that some words occur a lot more than others, such as \"day\", and some occur very infrequently, such as \"route\". This is the nature of the english language however, or any language actually, and is unavoidable except for extremely large datasets. Let's show some of the stats that we've gathered. Let's see what the top 10 words are for each sentiment and how many times they occur. Then we can see the top 10 words of any sentiment and how often they occur."
   ]
  },
  {
   "cell_type": "code",
   "execution_count": 83,
   "metadata": {},
   "outputs": [
    {
     "name": "stdout",
     "output_type": "stream",
     "text": [
      "Top 10 words for \"sadness\" and their counts:\n",
      "['im' 'sad' 'work' 'day' 'like' 'miss' 'today' 'cant' 'got' 'sorry']\n",
      "[343 161 128 126 122 117 108 103  98  90]\n",
      "\n",
      "Top 10 words for \"worry\" and their counts:\n",
      "['im' 'like' 'today' 'day' 'cant' 'going' 'you' 'work' 'know' 'got']\n",
      "[273 118 101 100  98  98  90  88  87  86]\n",
      "\n",
      "Top 10 words for \"surprise\" and their counts:\n",
      "['im' 'oh' 'you' 'day' 'got' 'like' 'going' 'know' 'good' 'cant']\n",
      "[136  83  77  77  72  70  63  62  61  61]\n",
      "\n",
      "Top 10 words for \"love\" and their counts:\n",
      "['love' 'day' 'happy' 'mothers' 'im' 'you' 'good' 'thanks' 'like' 'lol']\n",
      "[447 423 328 302 188 178 163 101  95  79]\n",
      "\n",
      "Top 10 words for \"anger\" and their counts:\n",
      "['hate' 'im' 'like' 'work' 'cant' 'sucks' 'got' 'good' 'want' 'day']\n",
      "[138 106  70  60  49  48  44  38  36  34]\n",
      "\n",
      "Top 10 words for \"neutral\" and their counts:\n",
      "['im' 'day' 'like' 'you' 'work' 'good' 'know' 'going' 'today' 'time']\n",
      "[157 113  88  81  80  73  63  62  61  53]\n",
      "\n",
      "Top 10 words for \"happiness\" and their counts:\n",
      "['im' 'day' 'good' 'lol' 'happy' 'fun' 'you' 'like' 'haha' 'got']\n",
      "[220 218 182 145 120 117 114  91  89  89]\n",
      "\n",
      "Top 10 words for any sentiment and their counts:\n",
      "['im' 'day' 'good' 'love' 'you' 'like' 'happy' 'got' 'work' 'cant']\n",
      "[1423 1091  673  672  660  654  568  493  480  474]\n"
     ]
    }
   ],
   "source": [
    "# Print the top 10 words for each sentiment\n",
    "for sentiment in sentiments:\n",
    "    # Get sorted indices for this sentiment\n",
    "    sentimentIndex = sentiments.index(sentiment)\n",
    "    # Get the indices of the descending sorted occurances of words for this sentiment\n",
    "    wordCountIndices = wordStats[:,sentimentIndex].argsort()[::-1]\n",
    "    \n",
    "    print(f\"Top 10 words for \\\"{sentiment}\\\" and their counts:\")\n",
    "    print(allWords[wordCountIndices][:10])\n",
    "    print(wordStats[wordCountIndices,sentimentIndex][:10])\n",
    "    print()\n",
    "\n",
    "# Get total count for each word\n",
    "totalWordCounts = wordStats.sum(axis=1)\n",
    "wordCountIndices = totalWordCounts.argsort()[::-1]\n",
    "\n",
    "print(\"Top 10 words for any sentiment and their counts:\")\n",
    "print(allWords[wordCountIndices][:10])\n",
    "print(totalWordCounts[wordCountIndices][:10])"
   ]
  },
  {
   "cell_type": "markdown",
   "metadata": {},
   "source": [
    "One last step before we can use this in our classifier: we need to _normalize_ the array. Most classifiers, including the one we'll be using, treat each feature equally, so words that have a much higher count will affect the model more. We need to know instead just the _proportion_ of occurances across all sentiments for each word, so we'll divide by the sum of all occurances of each word."
   ]
  },
  {
   "cell_type": "code",
   "execution_count": 84,
   "metadata": {},
   "outputs": [
    {
     "name": "stdout",
     "output_type": "stream",
     "text": [
      "[[0.4        0.4        0.         ... 0.2        0.         0.        ]\n",
      " [0.33333333 0.33333333 0.         ... 0.         0.         0.        ]\n",
      " [0.12195122 0.29268293 0.19512195 ... 0.14634146 0.04878049 0.12195122]\n",
      " ...\n",
      " [0.         0.         1.         ... 0.         0.         0.        ]\n",
      " [0.         0.         0.         ... 0.         0.         1.        ]\n",
      " [0.         0.         0.         ... 0.         0.         0.        ]]\n",
      "(15168, 7)\n"
     ]
    }
   ],
   "source": [
    "# Turn this ndarray from discrete counts to a probability distribution for each word\n",
    "wordStats_normalized = wordStats / wordStats.sum(axis=1)[:,np.newaxis]\n",
    "\n",
    "# Show the final statistics model\n",
    "print(wordStats_normalized)\n",
    "print(wordStats_normalized.shape)"
   ]
  },
  {
   "cell_type": "markdown",
   "metadata": {},
   "source": [
    "This will be useful for a Naive Bayes classifier, which unfortunately had to be cut for sake of time, but is one route we could take for further study."
   ]
  },
  {
   "cell_type": "markdown",
   "metadata": {},
   "source": [
    "### One hot encoding occurrances of words in each tweet\n",
    "\n",
    "For Logistic Regression, we instead need to \"one hot encode\" the words in all tweets. This means we have to tally how many times a word appears in each tweet so that each tweet has a count for every known word. This will make a very large and sparse matrix of values where there are many 0s because there are many more unique words than there are words in each tweet, but we will be using sklearn which handles this efficiently. Before we do this however, we will need a function that filters the words in a tweet to only those that we know. We will simply tokenize the words in the string and only include those in our database of words. This is functionally equivalent to string.split() for the training set, but we will need this for the testing set so we do not try to index a word in new data that doesn't exist in our model."
   ]
  },
  {
   "cell_type": "code",
   "execution_count": 85,
   "metadata": {},
   "outputs": [
    {
     "data": {
      "text/plain": [
       "['god', 'rest']"
      ]
     },
     "execution_count": 85,
     "metadata": {},
     "output_type": "execute_result"
    }
   ],
   "source": [
    "# Tokenize a tweet, but only keep those words we know\n",
    "def splitTweetIntoWords(tweetText):\n",
    "    listOfWords = []\n",
    "    for word in tweetText.split():\n",
    "        if word in allWords_list:\n",
    "            listOfWords.append(word)\n",
    "    return listOfWords\n",
    "\n",
    "# Test it\n",
    "splitTweetIntoWords(\"god rest ye merry gentlemen\")"
   ]
  },
  {
   "cell_type": "markdown",
   "metadata": {},
   "source": [
    "This works well! Depending on how we randomly selected the initial tweets earlier, some of these words may be included but likely some of them won't. Now we need to actually one hot encode words from a series of tweets into a sparse matrix. Since we now know the number of unique words in our dataset, we know the shape ahead of time and it should run much faster."
   ]
  },
  {
   "cell_type": "code",
   "execution_count": 86,
   "metadata": {},
   "outputs": [
    {
     "name": "stdout",
     "output_type": "stream",
     "text": [
      "[[1 1 1 ... 0 0 0]\n",
      " [0 0 0 ... 0 0 0]\n",
      " [0 0 0 ... 0 0 0]\n",
      " ...\n",
      " [0 0 0 ... 0 0 0]\n",
      " [0 0 0 ... 0 0 0]\n",
      " [0 0 0 ... 0 0 0]]\n",
      "(10, 15168)\n"
     ]
    }
   ],
   "source": [
    "# One hot encode the words a series of tweets into an (nTweets,nAllWords) ndarray\n",
    "def oneHotEncodeTweetWords(tweetSeries):\n",
    "    # Instantiate output ndarray\n",
    "    output = np.ndarray((tweetSeries.shape[0],allWords.shape[0]), dtype=np.int64)\n",
    "    for tweetIndex, tweetText in enumerate(tweetSeries):\n",
    "        # Count each word for this tweet\n",
    "        for word in splitTweetIntoWords(tweetText):\n",
    "            output[tweetIndex,allWords_list.index(word)] += 1\n",
    "    return output\n",
    "\n",
    "# Test this on the first 10 tweets in the training set\n",
    "test = oneHotEncodeTweetWords(trainingSet['content'][:10])\n",
    "print(test)\n",
    "print(test.shape)"
   ]
  },
  {
   "cell_type": "markdown",
   "metadata": {},
   "source": [
    "Now that we have a function, all we have to do is run it on both our training set and our testing set!"
   ]
  },
  {
   "cell_type": "code",
   "execution_count": 87,
   "metadata": {},
   "outputs": [
    {
     "name": "stdout",
     "output_type": "stream",
     "text": [
      "x_train completed in 8.337 seconds.\n",
      "x_test completed in 4.154 seconds.\n",
      "total words in wordStats: 83416\n",
      "total words in x_train: 83416\n"
     ]
    }
   ],
   "source": [
    "from timeit import default_timer\n",
    "\n",
    "# Create the x values for training. And just to be curious, see how long it takes\n",
    "start = default_timer()\n",
    "x_train = oneHotEncodeTweetWords(trainingSet['content'])\n",
    "print(f\"x_train completed in {default_timer()-start:.3f} seconds.\")\n",
    "\n",
    "# Do it again for the testing set\n",
    "start = default_timer()\n",
    "x_test = oneHotEncodeTweetWords(testingSet['content'])\n",
    "print(f\"x_test completed in {default_timer()-start:.3f} seconds.\")\n",
    "\n",
    "# y_train and y_test are much easier to make just converting straight to ndarray\n",
    "y_train = trainingSet['sentiment'].to_numpy(copy=True)\n",
    "y_test = testingSet['sentiment'].to_numpy(copy=True)\n",
    "\n",
    "# Ensure that both wordStats and x_train have the same total number of words\n",
    "print(f\"total words in wordStats: {wordStats.sum()}\")\n",
    "print(f\"total words in x_train: {x_train.sum()}\")"
   ]
  },
  {
   "cell_type": "markdown",
   "metadata": {
    "id": "4C6keP_7kDzC"
   },
   "source": [
    "## Tweet text sentiment classification using logistic regression\n",
    "\n",
    "Now is the moment we've been waiting for! We can finally build our machine learning model using logistic regression! We will use sklearn for this because it greatly simplifies things and condenses code for simple tasks like computing metrics. We will use the multinomial approach since we have multiclass data, and the \"lbfgs\" solver. We also need to increase the default max iterations of the gradient descent algorithm from a measely 100 to 10,000. We can then make some predictions on our training set, which should score fairly high given its what we built the model on, and the testing set, which might score a bit lower."
   ]
  },
  {
   "cell_type": "code",
   "execution_count": 88,
   "metadata": {
    "id": "d1SVEUvskisE"
   },
   "outputs": [
    {
     "name": "stdout",
     "output_type": "stream",
     "text": [
      "Actual training sentiments: ['sadness' 'love' 'happiness' 'worry' 'love' 'neutral' 'happiness' 'love'\n",
      " 'happiness' 'love']\n",
      "Predicted training sentiments: ['sadness' 'love' 'happiness' 'worry' 'love' 'neutral' 'anger' 'love'\n",
      " 'neutral' 'love']\n",
      "\n",
      "Actual testing sentiments: ['anger' 'sadness' 'neutral' 'neutral' 'anger' 'happiness' 'love'\n",
      " 'neutral' 'anger' 'anger']\n",
      "Predicted testing sentiments: ['surprise' 'love' 'neutral' 'neutral' 'anger' 'love' 'neutral' 'worry'\n",
      " 'sadness' 'worry']\n"
     ]
    }
   ],
   "source": [
    "from sklearn.linear_model import LogisticRegression\n",
    "\n",
    "# Create the model\n",
    "classifier_LR = LogisticRegression(multi_class='multinomial', solver='lbfgs', max_iter=10000)\n",
    "# Train the model\n",
    "classifier_LR.fit(x_train, y_train)\n",
    "\n",
    "# Make predictions on the training set\n",
    "yhat_train_LR = classifier_LR.predict(x_train)\n",
    "# Make predictions on the testing set\n",
    "yhat_test_LR = classifier_LR.predict(x_test)\n",
    "\n",
    "# Print out the first 10 actual and predicted sentiments for tweets in the training set\n",
    "print(f\"Actual training sentiments: {y_train[:10]}\")\n",
    "print(f\"Predicted training sentiments: {yhat_train_LR[:10]}\")\n",
    "print()\n",
    "\n",
    "# Do it again for the testing set\n",
    "print(f\"Actual testing sentiments: {y_test[:10]}\")\n",
    "print(f\"Predicted testing sentiments: {yhat_test_LR[:10]}\")"
   ]
  },
  {
   "cell_type": "markdown",
   "metadata": {},
   "source": [
    "Now all our hard work is done and we can just observe what kind of stats we get from the output. Again, we will use sklearn for this."
   ]
  },
  {
   "cell_type": "code",
   "execution_count": 89,
   "metadata": {
    "id": "y13Nd0Jvkmbg"
   },
   "outputs": [
    {
     "name": "stdout",
     "output_type": "stream",
     "text": [
      "training set:\n",
      "accuracy: 0.833\n",
      "precision: 0.846\n",
      "recall: 0.831\n",
      "f1 score: 0.836\n",
      "\n",
      "testing set:\n",
      "accuracy: 0.332\n",
      "precision: 0.335\n",
      "recall: 0.320\n",
      "f1 score: 0.323\n"
     ]
    }
   ],
   "source": [
    "from sklearn.metrics import accuracy_score, precision_recall_fscore_support\n",
    "\n",
    "# Get metrics for the training set\n",
    "accuracy_train_LR = accuracy_score(y_train, yhat_train_LR)\n",
    "precision_train_LR, recall_train_LR, f1_train_LR, _ \\\n",
    "    = precision_recall_fscore_support(y_train, yhat_train_LR, average='macro', labels=sentiments)\n",
    "\n",
    "# Get metrics for the testing set\n",
    "accuracy_test_LR = accuracy_score(y_test, yhat_test_LR)\n",
    "precision_test_LR, recall_test_LR, f1_test_LR, _ \\\n",
    "    = precision_recall_fscore_support(y_test, yhat_test_LR, average='macro', labels=sentiments)\n",
    "\n",
    "# Print everything out\n",
    "print(\"training set:\")\n",
    "print(f\"accuracy: {accuracy_train_LR:.3f}\")\n",
    "print(f\"precision: {precision_train_LR:.3f}\")\n",
    "print(f\"recall: {recall_train_LR:.3f}\")\n",
    "print(f\"f1 score: {f1_train_LR:.3f}\")\n",
    "print()\n",
    "print(\"testing set:\")\n",
    "print(f\"accuracy: {accuracy_test_LR:.3f}\")\n",
    "print(f\"precision: {precision_test_LR:.3f}\")\n",
    "print(f\"recall: {recall_test_LR:.3f}\")\n",
    "print(f\"f1 score: {f1_test_LR:.3f}\")"
   ]
  },
  {
   "cell_type": "markdown",
   "metadata": {
    "id": "_gCPKcthlb8x"
   },
   "source": [
    "## Conclusion\n",
    "\n",
    "Although our model metrics did not score very high, this is to be expected given our starting data. Although 40,000 tweets sounds like a lot, we did have to cut a lot out to account for class imbalance, and we could only extract an average of about 6.8 \"clean\" words from each tweet from our training set. For a real world application for this, we will need a much larger dataset with not only a lot of labeled samples, but many words in each sample. Having very few words to go on makes each tweet very inaccurate, and because there are so many words in the English language, there are many many words we can run into in unseen data that are likely not in our database. We will need adequate sentiment classification for every word for probably 100,000 or more unique words, and test this on much longer strings of text that give us more to go on. However, this should show that it is quite possible to predict sentiment from raw text, and doing so not only expands what we can do with NLP, but also gives us greater insight to human emotion ourselves."
   ]
  },
  {
   "cell_type": "markdown",
   "metadata": {
    "id": "5U_9whiyn_Jg"
   },
   "source": [
    "## Future work\n",
    "\n",
    "Although this project did demonstrate how we can classify emotion, there are several ways how we can improve on this, or things we could have included in this project as listed below:\n",
    "\n",
    "* Get more data for less common emotions\n",
    "* Get better libraries for cleaning and processing raw text\n",
    "* Try different types of classifiers such as Naive Bayes, Decision Trees, k Nearest Neighbors, or Support Vector Machines\n",
    "* Experiment with custom Neural Networks\n",
    "* Examine the effect of class imbalance on each sentiment\n",
    "* Examine the use of Principal Component Analysis to detect the most meaningful words instead of relying on a library to filter out stop words\n",
    "* Create more visuals to showcase the results that we find"
   ]
  },
  {
   "cell_type": "markdown",
   "metadata": {
    "id": "WM42NJnalwf5"
   },
   "source": [
    "## Works accredited\n",
    "\n",
    "Josh Clark\n",
    "* Everything"
   ]
  }
 ],
 "metadata": {
  "colab": {
   "collapsed_sections": [],
   "name": "DSCI_521_Group_Project.ipynb",
   "provenance": []
  },
  "kernelspec": {
   "display_name": "Python [conda env:Drexel]",
   "language": "python",
   "name": "conda-env-Drexel-py"
  },
  "language_info": {
   "codemirror_mode": {
    "name": "ipython",
    "version": 3
   },
   "file_extension": ".py",
   "mimetype": "text/x-python",
   "name": "python",
   "nbconvert_exporter": "python",
   "pygments_lexer": "ipython3",
   "version": "3.9.7"
  }
 },
 "nbformat": 4,
 "nbformat_minor": 1
}
