{
 "cells": [
  {
   "cell_type": "markdown",
   "id": "a08c3706-4a29-44b1-a2da-3aa60edd5c3d",
   "metadata": {},
   "source": [
    "# Project Scoping"
   ]
  },
  {
   "cell_type": "markdown",
   "id": "39656cb9-a252-4a27-96d6-73e5fe077ea2",
   "metadata": {},
   "source": [
    "- Group member 1\n",
    "    - Name: Boris Dyatkin\n",
    "    - Email: bad54@drexel.edu\n",
    "- Group member 2\n",
    "    - Name: Matt Szemborski\n",
    "    - Email: mbs337@drexel.edu\n",
    "- Group member 3\n",
    "    - Name: Miriam fuchs\n",
    "    - Email: mf3287@drexel.edu"
   ]
  },
  {
   "cell_type": "markdown",
   "id": "8bc6312e-b191-433a-b737-87702d04dd7a",
   "metadata": {},
   "source": [
    "## What areas/skills/domains does the team member presently identify with?\n"
   ]
  },
  {
   "cell_type": "markdown",
   "id": "af86727a-9426-4e92-96fa-564236bafc76",
   "metadata": {},
   "source": [
    "Miriam - Miriam is a graduate student in systems and environmental engineering. She is fairly new to python. She has some experience assessing data quality and big data trends through her work in observational astronomy.  \n",
    "\n",
    "Matt - Matt is a graduate student in Computer Science. His main skills are in web scraping and interpreting data into meaningful insights. In a previous job he was in charge of scrapping news articles, looking for keywords in the articles and interpreting that data to determine things like tone, sentiment and whether the article was overall a positive or negative for the company. He has worked with quite a few APIs and looks forward to using some new ones and developing some new skills with this project.\n",
    "\n",
    "Boris - Boris is a Post-Bachelor certificate student in Applied Data Science. He is a materials scientist by training and currently conducts project management and technical analysis for DARPA. He has completed 3 courses (CS 570, DSCI 501, and DSCI 511) in python and has previously worked with data collection from laboratory instruments, and subsequent analysis, reduction, clean-up, and graphing of this information.\n"
   ]
  },
  {
   "cell_type": "markdown",
   "id": "23c8b457-0d84-497c-b099-9d44fe332fbb",
   "metadata": {},
   "source": [
    "## Into which areas/skills/domains would the team member like to grow?"
   ]
  },
  {
   "cell_type": "markdown",
   "id": "600bb163-958d-4ff1-b55b-bc06f87f6466",
   "metadata": {},
   "source": [
    "Miriam - She is interested in strengthening her python programming skills and becoming more comfortable with analytical data science techniques. She is particularly interested in expanding her familiarity with some of the data visualization approaches contained in the matplotlib library. \n",
    "\n",
    "Matt - Matt is interested in using Python to make meaningful insights into new datasets. He is especially interested in looking at different datasets and combining them together in order to gain new, interesting insights that may have previously been overlooked or underutilized. \n",
    "\n",
    "Boris - Boris is interested in applying python to analyze both structured and unstructured data. He would like to be able to obtain key takeaways from large datasets and develop mathematical models that can adequately predict data based on existing information.\n"
   ]
  },
  {
   "cell_type": "markdown",
   "id": "3192df54-4eaa-422c-8e3a-43094c26eb3f",
   "metadata": {},
   "source": [
    "## Abstract:"
   ]
  },
  {
   "cell_type": "markdown",
   "id": "5b3a6ffe-ef85-4174-ad11-d744757dc306",
   "metadata": {},
   "source": [
    "Our DSCI 521 term project will explore the power generation capacity for varying energy sources across the United States. As we witness the increased effects of a changing climate, there is a growing imperative to consider alternative energy sources to traditional energy sources, such as coal and petroleum. To better constrain the feasibility of transitioning to cleaner energy, our analysis will investigate the energy generation and current capacity for nuclear, renewable and electric sources. We’ll also highlight trends in electricity net generation from coal, petroleum, natural gas, solar and wind. \n",
    "\n",
    "This project will be of interest to those working in the energy sector looking to gain a deeper understanding of the current state of energy generation. Our analysis will also help provide important insight to those serving roles in climate adaptation planning.\n",
    "\n",
    "For our analysis, we'll be relying on data sets from the U.S. Energy Information Administration (EIA). The EIA provides independent and open-source information on energy resources in the United States. Several of their datasets are relevant to our project. These include, but are not limited to, the monthly nuclear generation and generation capacity across the U.S., and electricity generation capacity from coal, natural gas, petroleum, solar and wind. \n",
    "\n",
    "The EIA maintains a database of interconnects between different transmission and generation nodules across the United States. This is a directional network of nodes. Each node has a different storage capacity (different amounts of megawatt-hours) based on the area and population that obtains its energy. Moreover, different quantities of energy traffic (megawatts) flow between each node at a given moment in time. The EIA outputs this information as CSV and JSON files. Therefore, each edge of the resulting network carries a different weight. Some nodes are standalone separately owned utilities that are not connected to anything. Therefore, this entire network can be modeled using the networkx python package, and use and consumption can be predicted using eigenvectors. An interesting analysis of this network can involve its simulation over time, and a comparison of the structure of the network as displayed with networkx can be contrasted against the plotting of these modules on the U.S. map. Analysis of the contrast between the two schematics may provide analysis of how effective (or ineffective) the current United States energy grid is operating.\n"
   ]
  },
  {
   "cell_type": "markdown",
   "id": "6e7998c1-d529-4f0d-a441-c4710d8307b0",
   "metadata": {},
   "source": [
    "## Datasets:"
   ]
  },
  {
   "cell_type": "markdown",
   "id": "0c2bf3ad-0051-420b-b396-11e46eb0bf80",
   "metadata": {},
   "source": [
    "U.S. Nuclear Generation and Generation Capacity:\n",
    "https://www.eia.gov/nuclear/generation/index.html\n",
    "\n",
    "U.S. Electricity Generation across various sectors:\n",
    "https://www.eia.gov/electricity/data/browser/#/topic/0?agg=2,0,1&fuel=0041&geo=vvvvvvvvvvvvo&sec=g&linechart=ELEC.GEN.SUN-US-99.M&columnchart=ELEC.GEN.SUN-US-99.M&map=ELEC.GEN.SUN-US-99.M&freq=M&ctype=linechart&ltype=pin&rtype=s&pin=&rse=0&maptype=0\n",
    "\n",
    "\n",
    "Electricity Generation from Coal:\n",
    "https://www.eia.gov/opendata/qb.php?category=711280&sdid=TOTAL.CLETPUS.M\n",
    "\n",
    "Electricity Generation from Natural Gas:\n",
    "https://www.eia.gov/opendata/qb.php?category=711280&sdid=TOTAL.NGETPUS.M\n",
    "\n",
    "Electricity Generation from Solar: \n",
    "https://www.eia.gov/opendata/qb.php?category=711280&sdid=TOTAL.SOETPUS.M\n",
    "\n",
    "Electricity Generation from Wind:\n",
    "https://www.eia.gov/opendata/qb.php?category=711280&sdid=TOTAL.WYETPUS.M\n",
    "\n",
    "Electricity Generation from Petroleum: \n",
    "https://www.eia.gov/opendata/qb.php?category=711280&sdid=TOTAL.PAETPUS.M\n",
    "\n",
    "\n",
    "\n",
    "\n"
   ]
  },
  {
   "cell_type": "code",
   "execution_count": null,
   "id": "680088ac-55a0-407f-8dda-af84c144e48c",
   "metadata": {},
   "outputs": [],
   "source": []
  }
 ],
 "metadata": {
  "kernelspec": {
   "display_name": "Python 3",
   "language": "python",
   "name": "python3"
  },
  "language_info": {
   "codemirror_mode": {
    "name": "ipython",
    "version": 3
   },
   "file_extension": ".py",
   "mimetype": "text/x-python",
   "name": "python",
   "nbconvert_exporter": "python",
   "pygments_lexer": "ipython3",
   "version": "3.8.8"
  }
 },
 "nbformat": 4,
 "nbformat_minor": 5
}
