{
  "cells": [
    {
      "cell_type": "markdown",
      "metadata": {
        "id": "jxTRPkNm7Wqx"
      },
      "source": [
        "## Module submission header\n",
        "### Submission preparation instructions \n",
        "_Completion of this header is mandatory, subject to a 2-point deduction to the assignment._ Only add plain text in the designated areas, i.e., replacing the relevant 'NA's. You must fill out all group member Names and Drexel email addresses in the below markdown list, under header __Module submission group__. It is required to fill out descriptive notes pertaining to any tutoring support received in the completion of this submission under the __Additional submission comments__ section at the bottom of the header. If no tutoring support was received, leave NA in place. You may as well list other optional comments pertaining to the submission at bottom. _Any distruption of this header's formatting will make your group liable to the 2-point deduction._\n",
        "\n",
        "### Module submission group\n",
        "- Group member 1\n",
        "    - Name: Mangesh Raut\n",
        "    - Email: mbr63@drexel.edu\n",
        "- Group member 2\n",
        "    - Name: Josh Clark\n",
        "    - Email: jc4577@drexel.edu\n",
        "- Group member 3\n",
        "    - Name: Mobin Rahimi\n",
        "    - Email: mr3596@drexel.edu\n",
        "- Group member 4\n",
        "    - Name: Will Wu\n",
        "    - Email: ww437@drexel.edu\n",
        "\n",
        "### Additional submission comments\n",
        "- Tutoring support received: NA\n",
        "- Other (other): NA"
      ]
    },
    {
      "cell_type": "markdown",
      "metadata": {
        "id": "-_6caZAw7Wqz"
      },
      "source": [
        "# Assignment group 3: Probabilistic modeling and prediction"
      ]
    },
    {
      "cell_type": "markdown",
      "metadata": {
        "id": "HH-FoUj97Wqz"
      },
      "source": [
        "## Module A _(55 pts)_ Optimizing for predicted separation\n",
        "__Data.__ For this module we'll be working with the basic baseball player heights and weights from the lecture notes. These are packaged in the following location:\n",
        "\n",
        "- `\"./data/baseball_heightweight.csv\"`\n",
        "\n",
        "__Overview.__ The purpose of this module is to provide experience with optimization and to view/investigate different optimizable functions (from error). In the __Chapter 5__ lecture notes we investigated the sum of squared errors as a function of (linear) model parameters. This made the goal of optimization (executed through gradient descent) into a 'fitting' procedure, i.e., describing a pattern that data follows.\n",
        "\n",
        "Another way we can use a line is as a 'separator': supposing some data $x_1, \\cdots, x_n$ have labels $y_1, \\cdots, y_n$ falling into two classes (coded as $\\pm 1$), which set of line-defining $w$ and $b$ parameters separate the points the best? Check out the picture  below for an intution (note: their $b$ is our $-b$).\n",
        "\n",
        "Note: even though we're talking about 'lines', and actually working with true, 2-dimensional lines throughout this module, it's important to think/code throughout this module with the expectation that each data point $x_i$ will have $m$ (potentially greater than 2) dimensions. When $m>3$, a 'line' technically refers to a plane, but after we leave the comfort of 3-dimensionality our 'lines' are technically _hyperplanes_, for which we have little experiential intuition. Hence, we'll adopt the terminology 'line' throughout, since this provides the strongest grounding of intuition."
      ]
    },
    {
      "cell_type": "markdown",
      "metadata": {
        "id": "ZICW-svx7Wq0"
      },
      "source": [
        "![SVM Margin](./img/SVM_margin.png)"
      ]
    },
    {
      "cell_type": "markdown",
      "metadata": {
        "id": "P8K4xTdR7Wq0"
      },
      "source": [
        "__A1.__ _(7 pts_) To get things started, complete the function called `read_baseball()`, which must: \n",
        "\n",
        "1. load the baseball player data with pandas into a dataframe called `bball`;\n",
        "2. filter `bball` to contain only those rows that correspond to shortstops and catchers;\n",
        "3. create an `.array()` called `y_bball` of labels, containing a `1` for each catcher and a `-1` for each shortstop;\n",
        "4. filter the remaining rows of `bball` to only the `Height` and `Weight` columns; and\n",
        "5. `return`s `y_bball` and the standardized columns of `bball`'s `.values` as an `np.array()` object."
      ]
    },
    {
      "cell_type": "code",
      "execution_count": 33,
      "metadata": {
        "id": "noWoHgVe7Wq0"
      },
      "outputs": [],
      "source": [
        "# A1:Function(7/7)\n",
        "\n",
        "import numpy as np\n",
        "import pandas as pd\n",
        "\n",
        "def read_baseball(path_to_baseball):\n",
        "    \n",
        "    bball = pd.read_csv(path_to_baseball)\n",
        "    \n",
        "    #--- Your code starts here\n",
        "    bball = bball[(bball['Position']=='Catcher')|(bball['Position']=='Shortstop')]\n",
        "    bball['Position'] = np.where(bball['Position']=='Catcher', 1, -1)\n",
        "    y_bball = bball['Position'].to_numpy()\n",
        "    bball = bball.loc[:,['Height','Weight']]\n",
        "    bball = (bball - bball.mean()) / bball.std(ddof=0)\n",
        "    bball = bball.to_numpy()\n",
        "    #--- Your code stops here\n",
        "\n",
        "    return y_bball, bball"
      ]
    },
    {
      "cell_type": "markdown",
      "metadata": {
        "id": "VSY2ukPW7Wq1"
      },
      "source": [
        "Your output should look like this:\n",
        "```\n",
        "(array([1, 1, 1, -1, 1, 1, -1, -1, 1, 1], dtype=object),\n",
        " array([[ 0.89008344, -0.84843489],\n",
        "        [ 0.89008344,  1.05110949],\n",
        "        [-0.21603967,  0.77974601],\n",
        "        [-1.87522433,  0.72547331],\n",
        "        [ 1.44314499,  2.67929038],\n",
        "        [ 1.44314499,  2.4079269 ],\n",
        "        [-0.76910122, -1.11979837],\n",
        "        [ 0.89008344,  0.18274634],\n",
        "        [ 0.89008344,  1.32247297],\n",
        "        [-0.21603967, -0.84843489]]))\n",
        "```"
      ]
    },
    {
      "cell_type": "code",
      "execution_count": 34,
      "metadata": {
        "id": "M5_f0uJo7Wq1",
        "colab": {
          "base_uri": "https://localhost:8080/"
        },
        "outputId": "35fb8967-dd9f-4660-8f17-82c4ee42537f"
      },
      "outputs": [
        {
          "output_type": "execute_result",
          "data": {
            "text/plain": [
              "(array([ 1,  1,  1, -1,  1,  1, -1, -1,  1,  1]),\n",
              " array([[ 0.89008344, -0.84843489],\n",
              "        [ 0.89008344,  1.05110949],\n",
              "        [-0.21603967,  0.77974601],\n",
              "        [-1.87522433,  0.72547331],\n",
              "        [ 1.44314499,  2.67929038],\n",
              "        [ 1.44314499,  2.4079269 ],\n",
              "        [-0.76910122, -1.11979837],\n",
              "        [ 0.89008344,  0.18274634],\n",
              "        [ 0.89008344,  1.32247297],\n",
              "        [-0.21603967, -0.84843489]]))"
            ]
          },
          "metadata": {},
          "execution_count": 34
        }
      ],
      "source": [
        "# A1:SanityCheck\n",
        "y_bball, data_bball = read_baseball(\"./data/baseball_heightweight.csv\")\n",
        "\n",
        "y_bball[:10], data_bball[:10,:]"
      ]
    },
    {
      "cell_type": "markdown",
      "metadata": {
        "id": "b54YlUPj7Wq1"
      },
      "source": [
        "__A2.__ _(5 pts)_ Since the goal with this problem will be to draw a line that separates the catchers from the shortstops, complete the function called \n",
        "\n",
        "- `plot_data(data, y)` \n",
        "\n",
        "that creates a scatter plot of the standardized heights and weights where the points are color coded with shortstops as black circles and catchers as red squares."
      ]
    },
    {
      "cell_type": "code",
      "execution_count": 39,
      "metadata": {
        "id": "lzSDjSCH7Wq1"
      },
      "outputs": [],
      "source": [
        "# A2:Function(5/5)\n",
        "\n",
        "%matplotlib inline\n",
        "import matplotlib.pyplot as plt\n",
        "def plot_data(data, y):\n",
        "\n",
        "    fig = plt.figure(figsize = (6,6))\n",
        "    \n",
        "    #--- Your code starts here\n",
        "    plt.scatter(data_bball[:,0][y_bball==-1],\n",
        "                data_bball[:,1][y_bball==-1],\n",
        "                marker=\"o\",\n",
        "                color=\"black\",\n",
        "                label=\"Shortstop\")\n",
        "    plt.scatter(data_bball[:,0][y_bball==1],\n",
        "                data_bball[:,1][y_bball==1],\n",
        "                marker=\"s\",\n",
        "                color=\"red\",\n",
        "                label=\"Catchers\")\n",
        "    #--- Your code stops here\n",
        "    \n",
        "    plt.xlabel(\"Height\", fontsize = 15)\n",
        "    plt.ylabel(\"Weight\", fontsize = 15)\n",
        "    plt.title('Standardized player heights and weights', fontsize = 15)\n",
        "    plt.legend(fontsize = 15)\n",
        "    plt.grid()\n",
        "    \n",
        "    return fig"
      ]
    },
    {
      "cell_type": "markdown",
      "metadata": {
        "id": "2f7hH1qU7Wq2"
      },
      "source": [
        "Your ouput should look like:"
      ]
    },
    {
      "cell_type": "markdown",
      "metadata": {
        "id": "FGwN2Ym37Wq2"
      },
      "source": [
        "![img](./img/A2-expected-output.png)"
      ]
    },
    {
      "cell_type": "code",
      "execution_count": 40,
      "metadata": {
        "id": "puHcprWW7Wq2",
        "colab": {
          "base_uri": "https://localhost:8080/",
          "height": 411
        },
        "outputId": "7bdbc594-c435-4ec7-f20b-5eba3abe5f1f"
      },
      "outputs": [
        {
          "output_type": "display_data",
          "data": {
            "text/plain": [
              "<Figure size 432x432 with 1 Axes>"
            ],
            "image/png": "[encoded data removed]"
          },
          "metadata": {
            "needs_background": "light"
          }
        }
      ],
      "source": [
        "# A2:SanityCheck\n",
        "\n",
        "fig = plot_data(data_bball, y_bball)"
      ]
    },
    {
      "cell_type": "markdown",
      "metadata": {
        "id": "p8hsB86I7Wq2"
      },
      "source": [
        "__A3.__ _(7 pts)_ The way we'll be drawing lines (hyperplanes) in this problem uses what's called the 'standard form'. Supposing we have vectors (rows) of features (columns) $x = [x_1, \\cdots, x_m]$, a linear relationship is defined by a vector of weights $w = [w_1,\\cdots,w_m]$ and an intercept $b$ in the form:\n",
        "$$\n",
        "w\\cdot x + b = 0\n",
        "$$\n",
        "Since our data only has two columns, we can re-arrange into slope-intercept form:\n",
        "$$\n",
        "x_2 = -\\frac{w_1}{w_2} x_1 - \\frac{b}{w_2}\n",
        "$$\n",
        "to conveniently plot a line in standard form. \n",
        "\n",
        "So, complete the `plot_boundary()` function below (that carrys forward your scatter plot from __A2__) to accept a `w` (a vector) and `b` (a scalar) arguments and&mdash;if non-zero&mdash;plot the corresponding line over the range of $x_1$ values using the slope-intercept form above. "
      ]
    },
    {
      "cell_type": "code",
      "execution_count": 41,
      "metadata": {
        "id": "NqY0tqsf7Wq2"
      },
      "outputs": [],
      "source": [
        "# A3:Function(7/7)\n",
        "\n",
        "def plot_boundary(data, y, w = np.array([]), b = 0):\n",
        "    \n",
        "    fig = plot_data(data, y)\n",
        "    \n",
        "    #--- Your code starts here\n",
        "    intercept = -b / w[1]\n",
        "    slope = -w[0] / w[1]\n",
        "    x_ = data[:,0]\n",
        "    xx = np.linspace(-3,2)\n",
        "    yy = (slope * xx) + intercept\n",
        "    plt.plot(xx, yy, c='b', label='Separator')\n",
        "    #--- Your code stops here\n",
        "    \n",
        "    plt.legend(fontsize = 15)\n",
        "    \n",
        "    return fig"
      ]
    },
    {
      "cell_type": "markdown",
      "metadata": {
        "id": "SXy4qWJV7Wq2"
      },
      "source": [
        "Your output should look like:"
      ]
    },
    {
      "cell_type": "markdown",
      "metadata": {
        "id": "9E-59kvy7Wq3"
      },
      "source": [
        "![img](./img/A3-expected-output.png)"
      ]
    },
    {
      "cell_type": "code",
      "execution_count": 42,
      "metadata": {
        "id": "V3PvjJRL7Wq3",
        "colab": {
          "base_uri": "https://localhost:8080/",
          "height": 411
        },
        "outputId": "4f246eca-1a1c-4ae8-da4a-921f09dba935"
      },
      "outputs": [
        {
          "output_type": "display_data",
          "data": {
            "text/plain": [
              "<Figure size 432x432 with 1 Axes>"
            ],
            "image/png": "[encoded data removed]"
          },
          "metadata": {
            "needs_background": "light"
          }
        }
      ],
      "source": [
        "# A3:SanityCheck\n",
        "\n",
        "fig = plot_boundary(data_bball, y_bball, w = np.array([0.25, 0.5]), b = 0)"
      ]
    },
    {
      "cell_type": "markdown",
      "metadata": {
        "id": "nuQTLBdV7Wq3"
      },
      "source": [
        "__A4.__ _(3 pts)_ Now, for any point $x$ on the line defined by $w$ and $b$, the following relationship holds:\n",
        "$$\n",
        "w\\cdot x + b = 0\n",
        "$$\n",
        "\n",
        "But our points probably don't lie exactly on a line. To tell which sides of the line they fall on, we can just look at the sign of the left hand side of the equation above:\n",
        "\n",
        "- $x$ is above the line:\n",
        "    - $\\hat{y} = w\\cdot x_i + b > 0$ \n",
        "- $x$ is below the line:\n",
        "    - $\\hat{y} = w\\cdot x_i + b < 0$\n",
        "\n",
        "What we're hoping to do is have all $x$'s either have $y,\\hat{y} < 0$ or $y,\\hat{y} > 0$. One way to test if a point is 'correctly' separated is if $y\\hat{y} > 0$, so use this test ($y\\hat{y} > 0$ means 'separated') to complete the function:\n",
        "- `separated(data, y, w, b)`\n",
        "\n",
        "that outputs a boolean mask of $n$ values where `True` corresponds to a point falling on the correct side of the line ($y\\hat{y} > 0$). When this is done, use your function to calculate/report the percent of points your line correctly separated below."
      ]
    },
    {
      "cell_type": "code",
      "execution_count": 55,
      "metadata": {
        "id": "CA8wKNpz7Wq3"
      },
      "outputs": [],
      "source": [
        "# A4:Function(3/3)\n",
        "\n",
        "def separated(data, y, w, b):\n",
        "    \n",
        "    #--- Your code starts here\n",
        "    y_hat = (data @ w) + b\n",
        "    \n",
        "    is_separated = y*y_hat >= 0\n",
        "    #--- Your code stops here\n",
        "    \n",
        "    return is_separated"
      ]
    },
    {
      "cell_type": "markdown",
      "metadata": {
        "id": "z_MRuMKt7Wq3"
      },
      "source": [
        "The `SanityCheck` should show: `70.3125 percent were separated correctly`."
      ]
    },
    {
      "cell_type": "code",
      "execution_count": 56,
      "metadata": {
        "id": "dxbyGF7R7Wq3",
        "colab": {
          "base_uri": "https://localhost:8080/"
        },
        "outputId": "cb4d14ff-ac4d-4765-ff53-b619af8d937c"
      },
      "outputs": [
        {
          "output_type": "stream",
          "name": "stdout",
          "text": [
            "70.3125 percent were separated correctly\n"
          ]
        }
      ],
      "source": [
        "# A4:SanityCheck\n",
        "\n",
        "is_sep = separated(data_bball, y_bball, np.array([0.25, 0.5]), 0)\n",
        "\n",
        "print(100*sum(is_sep)/len(y_bball), \"percent were separated correctly\")"
      ]
    },
    {
      "cell_type": "markdown",
      "metadata": {
        "id": "cQueO7FD7Wq4"
      },
      "source": [
        "__A5.__ _(5 pts)_ Now that we have our `separated()` function, use it's output mask to complete the `plot_separated(data, y, w, b)` function, which carries forward the materials from `plot_boundary`, but re-plots the color for _correctness of separation_, as well. In particular, organize your points as follows, so that:\n",
        "- incorrectly separated negative points (shortstops) are plotted over with green triangles, and\n",
        "- incorrectly separated positive points (catchers) are plotted over with yellow diamonds."
      ]
    },
    {
      "cell_type": "code",
      "execution_count": 67,
      "metadata": {
        "id": "n-D_g1yW7Wq4"
      },
      "outputs": [],
      "source": [
        "# A5:Function(5/5)\n",
        "\n",
        "def plot_separated(data, y, w, b):\n",
        "    \n",
        "    fig = plot_boundary(data_bball, y_bball, w = w, b = b)\n",
        "    \n",
        "    is_sep = separated(data, y, w, b)\n",
        "    not_sep = np.logical_not(is_sep)\n",
        "    \n",
        "    #--- Your code starts here\n",
        "    y_ns = y[not_sep]\n",
        "    data_ns = data[not_sep]\n",
        "    plt.scatter(data_ns[:,0][y_ns==-1],\n",
        "                data_ns[:,1][y_ns==-1],\n",
        "                marker = u\"^\",\n",
        "                color = \"green\",\n",
        "                label = \"Unseparated shortstops\")\n",
        "    plt.scatter(data_ns[:,0][y_ns==1],\n",
        "                data_ns[:,1][y_ns==1],\n",
        "                marker = u\"d\",\n",
        "                color = \"darkkhaki\",\n",
        "                label = \"Unseparated catchers\")\n",
        "    #--- Your code stops here\n",
        "       \n",
        "    plt.legend(fontsize = 12)\n",
        "\n",
        "    return fig"
      ]
    },
    {
      "cell_type": "markdown",
      "metadata": {
        "id": "0uaSTqrp7Wq4"
      },
      "source": [
        "Your output should look like:"
      ]
    },
    {
      "cell_type": "markdown",
      "metadata": {
        "id": "oZeXIpQj7Wq4"
      },
      "source": [
        "![img](./img/A5-expected-output.png)"
      ]
    },
    {
      "cell_type": "code",
      "execution_count": 68,
      "metadata": {
        "id": "UoLDOgA97Wq4",
        "colab": {
          "base_uri": "https://localhost:8080/",
          "height": 411
        },
        "outputId": "cc8908bc-81e4-48f4-fcca-37517eec8c85"
      },
      "outputs": [
        {
          "output_type": "display_data",
          "data": {
            "text/plain": [
              "<Figure size 432x432 with 1 Axes>"
            ],
            "image/png": "[encoded data removed]"
          },
          "metadata": {
            "needs_background": "light"
          }
        }
      ],
      "source": [
        "# A5:SanityCheck\n",
        "\n",
        "fig = plot_separated(data_bball, y_bball, w = np.array([0.25, 0.5]), b = 0)"
      ]
    },
    {
      "cell_type": "markdown",
      "metadata": {
        "id": "OqX63R9D7Wq4"
      },
      "source": [
        "__A6.__ _(5 pts)_ Now, most of all we'll want to reduce the number of points $x$ for which our prediction $\\hat{y}$ has a different sign from the true label $y$. In these (bad) cases, one will have $y\\hat{y} < 0$.\n",
        "\n",
        "However, 'edge cases' are bad, too, and since we've provided our points with unit ($y = \\pm 1$) labels it's also important to pay attention to points whose prediction have correct sign ($y\\hat{y} > 0$), but are close to the boundary (here, within one unit):\n",
        "\n",
        "$$\n",
        "y(w\\cdot x + b) = y\\hat{y} < 1\n",
        "$$\n",
        "\n",
        "Thus, our objective function will seek to _maximize_ the distance between our $(w,b)$ separating line (plane) and 'bad' points holding the relationship $y(w\\cdot x + b) = y\\hat{y} < 1$. So, for a given plane $(w,b)$ and $n$ `data` points $x_i: i=1,\\cdots n$, we'll be working with a subset of $k$ 'bad' points: $x_{i_\\ell}:\\ell=1,\\cdots k$. To identify these, complete the function:\n",
        "\n",
        "- `bad_points(data, y, w, b)`\n",
        "\n",
        "that takes `data` of $n$ rows and $m$ columns/features, line-defining parameters $w$ (a vector of $m$) and $b$ (a scalar), and outputs a boolean mask positively identifying the 'bad points' using a boolean mask, i.e., those for which:\n",
        "\n",
        "$$\n",
        "y(w\\cdot x + b) = y\\hat{y} < 1\n",
        "$$\n",
        "\n",
        "Note: this function is very similar to the requested `separated()` in __A4__."
      ]
    },
    {
      "cell_type": "code",
      "execution_count": 72,
      "metadata": {
        "id": "dUV_QGro7Wq4"
      },
      "outputs": [],
      "source": [
        "# A6:Function(5/5)\n",
        "def bad_points(data, y, w, b):\n",
        "    \n",
        "    #--- Your code starts here\n",
        "    y_hat = (data @ w) + b\n",
        "    \n",
        "    is_bad = y*y_hat < 1\n",
        "    #--- Your code stops here\n",
        "    \n",
        "    return is_bad"
      ]
    },
    {
      "cell_type": "markdown",
      "metadata": {
        "id": "y9AdegMB7Wq5"
      },
      "source": [
        "Your output should look like:\n",
        "\n",
        "```\n",
        "array([ True,  True,  True,  True, False, False,  True,  True,  True,\n",
        "        True,  True,  True, False,  True, False,  True,  True,  True,\n",
        "        True,  True,  True,  True,  True,  True, False,  True,  True,\n",
        "        True,  True,  True,  True,  True,  True,  True,  True,  True,\n",
        "        True,  True, False,  True,  True,  True,  True,  True,  True,\n",
        "        True, False,  True,  True,  True,  True,  True,  True,  True,\n",
        "        True,  True,  True,  True, False,  True,  True,  True,  True,\n",
        "        True,  True,  True,  True,  True,  True, False,  True,  True,\n",
        "        True,  True,  True,  True,  True,  True,  True,  True,  True,\n",
        "        True,  True,  True,  True,  True,  True,  True, False,  True,\n",
        "       False,  True,  True,  True,  True,  True,  True, False,  True,\n",
        "        True,  True,  True, False, False,  True,  True,  True,  True,\n",
        "        True,  True,  True,  True,  True,  True,  True,  True,  True,\n",
        "        True,  True,  True,  True,  True,  True,  True, False,  True,\n",
        "        True, False])\n",
        "```"
      ]
    },
    {
      "cell_type": "code",
      "execution_count": 73,
      "metadata": {
        "id": "zfvVbjRG7Wq5",
        "colab": {
          "base_uri": "https://localhost:8080/"
        },
        "outputId": "116af810-7641-4eaa-a6ce-c5836fffedd1"
      },
      "outputs": [
        {
          "output_type": "execute_result",
          "data": {
            "text/plain": [
              "array([ True,  True,  True,  True, False, False,  True,  True,  True,\n",
              "        True,  True,  True, False,  True, False,  True,  True,  True,\n",
              "        True,  True,  True,  True,  True,  True, False,  True,  True,\n",
              "        True,  True,  True,  True,  True,  True,  True,  True,  True,\n",
              "        True,  True, False,  True,  True,  True,  True,  True,  True,\n",
              "        True, False,  True,  True,  True,  True,  True,  True,  True,\n",
              "        True,  True,  True,  True, False,  True,  True,  True,  True,\n",
              "        True,  True,  True,  True,  True,  True, False,  True,  True,\n",
              "        True,  True,  True,  True,  True,  True,  True,  True,  True,\n",
              "        True,  True,  True,  True,  True,  True,  True, False,  True,\n",
              "       False,  True,  True,  True,  True,  True,  True, False,  True,\n",
              "        True,  True,  True, False, False,  True,  True,  True,  True,\n",
              "        True,  True,  True,  True,  True,  True,  True,  True,  True,\n",
              "        True,  True,  True,  True,  True,  True,  True, False,  True,\n",
              "        True, False])"
            ]
          },
          "metadata": {},
          "execution_count": 73
        }
      ],
      "source": [
        "# A6:SanityCheck\n",
        "bad_points(data_bball, y_bball, w = np.array([0.25, 0.5]), b = 0)"
      ]
    },
    {
      "cell_type": "markdown",
      "metadata": {
        "id": "rfYKlvlF7Wq5"
      },
      "source": [
        "__A7.__ _(5 pts)_ \"How bad\" a point is, is defined by distance&mdash;between our line (hyperplane) and the point. For a given point $x$ and line defined by $w$ and $b$, the distance is:\n",
        "$$\n",
        "d(x;w, b) = \\frac{|w\\cdot x + b|}{\\|w\\|}\n",
        "$$\n",
        "But since being on the wrong side (having the wrong sign) is extra bad, it's actually the signed distances we care about:\n",
        "$$\n",
        "d(x;w, b)_\\text{sgn} =\\frac{y(w\\cdot x + b)}{\\|w\\|}\n",
        "$$\n",
        "This makes the sum of signed distances for the 'bad points' we've found into our objective function, which we'll aim to maximize:\n",
        "$$\n",
        "\\begin{align*}\n",
        "   D (X; w, b) \n",
        "   = &\\sum_{\\ell=1}^k d_\\text{sgn}(x_{i_\\ell};w, b) \\\\\n",
        "   = &\\sum_{\\ell=1}^k \\frac{y_{i_\\ell}(w\\cdot x_{i_\\ell}+ b)}{\\|w\\|}\n",
        "\\end{align*}\n",
        "$$\n",
        "\n",
        "Since this is our objective function, we must express it's gradient components with respect to the parameters $b$ and $w_j$ (for any $j$ of the $m$ features):\n",
        "$$\n",
        "\\nabla_b(D) = \\frac{1}{\\|w\\|}\\sum_{\\ell=1}^k y_{i_\\ell}\n",
        "$$\n",
        "$$\n",
        "\\nabla_{w_j}(D) = \\frac{1}{\\|w\\|}\\sum_{\\ell=1}^k y_{i_\\ell}x_{{i_\\ell},j}\n",
        "$$"
      ]
    },
    {
      "cell_type": "markdown",
      "metadata": {
        "id": "cjv5YUvm7Wq5"
      },
      "source": [
        "Now that we have a formula, complete the `gradient(data, y, w, b)` function. Use the above formulae to accept $w$, $b$, and a `data` matrix of $x_i$ rows, and computes the gradient for the $m + 1$ parameters."
      ]
    },
    {
      "cell_type": "code",
      "execution_count": 84,
      "metadata": {
        "id": "z-MRwb7v7Wq6"
      },
      "outputs": [],
      "source": [
        "# A7:Function(5/5)\n",
        "\n",
        "def gradient(data, y, w, b):\n",
        "    \n",
        "    #--- Your code starts here\n",
        "    points = bad_points(data, y, w, b)\n",
        "    mod_w = np.sqrt(w.dot(w))\n",
        "    g_w = sum((data*y[:,None])[points]) / mod_w\n",
        "    g_b = sum((y[:,None])[points]) / mod_w\n",
        "    #--- Your code stops here\n",
        "    \n",
        "    return(g_w, g_b)"
      ]
    },
    {
      "cell_type": "markdown",
      "metadata": {
        "id": "MHHay05w7Wq6"
      },
      "source": [
        "Your output should look like:\n",
        "\n",
        "```\n",
        "(array([8.749533842943988, 77.43059665753808], dtype=object),\n",
        " array([46.51021393199562], dtype=object))\n",
        "```"
      ]
    },
    {
      "cell_type": "code",
      "execution_count": 85,
      "metadata": {
        "id": "O6sm8n-w7Wq6",
        "colab": {
          "base_uri": "https://localhost:8080/"
        },
        "outputId": "6dd47a42-26cb-4b8d-80ad-38bc655a7b24"
      },
      "outputs": [
        {
          "output_type": "execute_result",
          "data": {
            "text/plain": [
              "(array([ 8.74953384, 77.43059666]), array([46.51021393]))"
            ]
          },
          "metadata": {},
          "execution_count": 85
        }
      ],
      "source": [
        "# A7:SanityCheck\n",
        "\n",
        "gradient(data_bball, y_bball, np.array([0.25, 0.5]), 0)"
      ]
    },
    {
      "cell_type": "markdown",
      "metadata": {
        "id": "BzK5BaaT7Wq7"
      },
      "source": [
        "__A8.__ _(10 pts)_ Finally, it's time to pull things together into a gradient descent application. Specifically, complete the function\n",
        "- `GD(data, y, w, b, eta=0.001, iter_num=1000, threshold=0.001)`\n",
        "that accepts the following arguments:\n",
        "\n",
        "- `data`: a matrix of $n$ row/data points by $m$ feature/columns\n",
        "- `y`:  an array of $n$ $\\pm 1$ valued 'labels'\n",
        "- `w`, `b`: an array of initial weights and an intercept (initial parameters) \n",
        "- `eta=0.001`: the 'learning rate' i.e., 'sensitivity' knob\n",
        "- `iter_num=1000`: the max number of gradient steps to take before terminating\n",
        "- `threshold=0.001`: a fixed, minimum distance that when steps fall below terminates the algorithm\n",
        "\n",
        "To correctly implement, your code must do the following:\n",
        "1. loop over `iter_num` steps\n",
        "2. compute $w$ and $b$ gradient components\n",
        "3. determinie $w$ and $b$ steps sizes\n",
        "4. update $w$ and $b$ by _adding_ gradient components (this is technically ascent)\n",
        "5. terminate if `iter_num` steps are complete or if the most recent step is smaller than `threshold`\n",
        "6. `return` a list of the history of $w$ and $b$ values\n",
        "\n"
      ]
    },
    {
      "cell_type": "code",
      "execution_count": 86,
      "metadata": {
        "id": "j_nAh3AK7Wq7"
      },
      "outputs": [],
      "source": [
        "# A8:Function(10/10)\n",
        "\n",
        "def GD(data, y, w, b, eta=0.001, iter_num=1000, threshold=0.001):  \n",
        "    ws, bs = [], []\n",
        "\n",
        "    #--- Your code starts here\n",
        "    for i in range(iter_num):\n",
        "        g_w, g_b = gradient(data, y, w, b)\n",
        "        \n",
        "        gd_w = eta * g_w\n",
        "        gd_b = float(eta*g_b)\n",
        "        \n",
        "        w = w + gd_w; ws.append(w)\n",
        "        b = b + gd_b; bs.append(b)\n",
        "        \n",
        "        if np.sqrt(gd_w.dot(gd_w) + gd_b**2) < threshold:\n",
        "            break\n",
        "    #--- Your code stops here\n",
        "        \n",
        "    return ws, bs"
      ]
    },
    {
      "cell_type": "markdown",
      "metadata": {
        "id": "8aYSVdBb7Wq7"
      },
      "source": [
        "Your output should look like:\n",
        "\n",
        "```\n",
        "([array([-0.2968301080080123, 1.3914983198309954], dtype=object),\n",
        "  array([-0.29713378923322975, 1.3935480091803414], dtype=object),\n",
        "  array([-0.2974370297194507, 1.395594723772106], dtype=object),\n",
        "  array([-0.2998291628257651, 1.396473376991912], dtype=object),\n",
        "  array([-0.30013167624574383, 1.3985151842670263], dtype=object),\n",
        "  array([-0.3004337540237254, 1.4005540511866374], dtype=object),\n",
        "  array([-0.29912461901614235, 1.402093585917556], dtype=object),\n",
        "  array([-0.30150555953668595, 1.4029681279942574], dtype=object),\n",
        "  array([-0.3001987830550674, 1.4045048891131229], dtype=object),\n",
        "  array([-0.30096894103571364, 1.4048827724610664], dtype=object)],\n",
        " [0.43021454249377516,\n",
        "  0.4316202159347624,\n",
        "  0.4330238492921014,\n",
        "  0.43512625247660763,\n",
        "  0.4365265204046028,\n",
        "  0.4379247718418362,\n",
        "  0.4372266500291672,\n",
        "  0.43931921624937353,\n",
        "  0.4386223521667416,\n",
        "  0.4386223521667416])\n",
        "```"
      ]
    },
    {
      "cell_type": "code",
      "execution_count": 87,
      "metadata": {
        "id": "nLpDhblC7Wq7",
        "colab": {
          "base_uri": "https://localhost:8080/"
        },
        "outputId": "8e6d3295-d5fc-417c-f9bd-96ae343fc4f3"
      },
      "outputs": [
        {
          "output_type": "execute_result",
          "data": {
            "text/plain": [
              "([array([-0.29683011,  1.39149832]),\n",
              "  array([-0.29713379,  1.39354801]),\n",
              "  array([-0.29743703,  1.39559472]),\n",
              "  array([-0.29982916,  1.39647338]),\n",
              "  array([-0.30013168,  1.39851518]),\n",
              "  array([-0.30043375,  1.40055405]),\n",
              "  array([-0.29912462,  1.40209359]),\n",
              "  array([-0.30150556,  1.40296813]),\n",
              "  array([-0.30019878,  1.40450489]),\n",
              "  array([-0.30096894,  1.40488277])],\n",
              " [0.43021454249377516,\n",
              "  0.4316202159347624,\n",
              "  0.4330238492921014,\n",
              "  0.43512625247660763,\n",
              "  0.4365265204046028,\n",
              "  0.4379247718418362,\n",
              "  0.4372266500291672,\n",
              "  0.43931921624937353,\n",
              "  0.4386223521667416,\n",
              "  0.4386223521667416])"
            ]
          },
          "metadata": {},
          "execution_count": 87
        }
      ],
      "source": [
        "# A8:SanityCheck\n",
        "\n",
        "np.random.seed(42)\n",
        "ws, bs = GD(data_bball, y_bball, w = np.array([0.25, 0.5]), b = 0)\n",
        "ws[-10:], bs[-10:]"
      ]
    },
    {
      "cell_type": "markdown",
      "metadata": {
        "id": "2Zen51Qv7Wq7"
      },
      "source": [
        "__A9.__ _(3 pts)_ Now, exhibit the final (best line) using the `plot_separated()` function and report it's percent separated."
      ]
    },
    {
      "cell_type": "code",
      "execution_count": 88,
      "metadata": {
        "id": "O8GLqhXr7Wq7",
        "colab": {
          "base_uri": "https://localhost:8080/",
          "height": 428
        },
        "outputId": "dafa328a-b948-4077-b709-87e4d35da745"
      },
      "outputs": [
        {
          "output_type": "stream",
          "name": "stdout",
          "text": [
            "78.125 percent were separated\n"
          ]
        },
        {
          "output_type": "display_data",
          "data": {
            "text/plain": [
              "<Figure size 432x432 with 1 Axes>"
            ],
            "image/png": "[encoded data removed]"
          },
          "metadata": {
            "needs_background": "light"
          }
        }
      ],
      "source": [
        "# A9:Inline(2/3)\n",
        "\n",
        "#--- Your code starts here\n",
        "is_sep = separated(data_bball, y_bball, ws[-1], bs[-1])\n",
        "fig = plot_separated(data_bball, y_bball, ws[-1],bs[-1])\n",
        "separated_percent = 100*sum(is_sep)/len(y_bball)\n",
        "#--- your code stops here\n",
        "\n",
        "print(separated_percent, \"percent were separated\")"
      ]
    },
    {
      "cell_type": "markdown",
      "metadata": {
        "id": "I0m-450g7Wq8"
      },
      "source": [
        "Your percent separated should go up and your output figure should look like:\n",
        "\n",
        "![img](./img/A9-expected-output.png)"
      ]
    },
    {
      "cell_type": "markdown",
      "metadata": {
        "id": "oiwsUB8A7Wq8"
      },
      "source": [
        "Now, report the percent improvement:"
      ]
    },
    {
      "cell_type": "code",
      "execution_count": 89,
      "metadata": {
        "id": "kZBiQ1u-7Wq8",
        "colab": {
          "base_uri": "https://localhost:8080/"
        },
        "outputId": "74ff78d9-2350-4f4e-b3dd-57e9cda52558"
      },
      "outputs": [
        {
          "output_type": "stream",
          "name": "stdout",
          "text": [
            "8%\n"
          ]
        }
      ],
      "source": [
        "# A9:Inline(1/2)\n",
        "\n",
        "# About how much better did the optimized line perform: 8% or 4%?\n",
        "# Print \"8%\" or \"4%\"\n",
        "print(\"8%\")"
      ]
    },
    {
      "cell_type": "markdown",
      "metadata": {
        "id": "2Ar8AhlT7Wq8"
      },
      "source": [
        "__A10.__ (5 pts) As a last step, complete the function called `plot_convergence()` below, which accepts the full history of `ws` and `bs` that were output by your `GD` function and exhibits all lines corresponding to the steps along the way to convergence. \n",
        "\n",
        "\\[Hint. Use changing alpha or a colormap to help illustrate the transition between values of $w$ and $b$\\]."
      ]
    },
    {
      "cell_type": "code",
      "execution_count": 90,
      "metadata": {
        "id": "0x78_0vW7Wq8"
      },
      "outputs": [],
      "source": [
        "# A10:Function(5/5)\n",
        "\n",
        "def plot_convergence(data, y, ws, bs):\n",
        "\n",
        "    fig = plot_data(data, y)\n",
        "\n",
        "    #--- Your code starts here\n",
        "    for i in range(len(ws)):\n",
        "        plt.plot(data[:,0], ((-ws[i][0]/ws[i][1]) *data[:,0] -bs[i]/ws[i][1]), 'b', alpha = (0.3*i)/len(ws))\n",
        "    #--- Your code stops here\n",
        "    \n",
        "    return fig"
      ]
    },
    {
      "cell_type": "markdown",
      "metadata": {
        "id": "dnnulIWd7Wq9"
      },
      "source": [
        "Your output figure should look like:\n",
        "\n",
        "![img](./img/A10-expected-output.png)"
      ]
    },
    {
      "cell_type": "code",
      "execution_count": 91,
      "metadata": {
        "id": "9rbFe-kf7Wq9",
        "colab": {
          "base_uri": "https://localhost:8080/",
          "height": 411
        },
        "outputId": "78cb95f0-9132-4696-d9b4-2d09f2cb8e02"
      },
      "outputs": [
        {
          "output_type": "display_data",
          "data": {
            "text/plain": [
              "<Figure size 432x432 with 1 Axes>"
            ],
            "image/png": "[encoded data removed]"
          },
          "metadata": {
            "needs_background": "light"
          }
        }
      ],
      "source": [
        "# A10:SanityCheck\n",
        "\n",
        "fig = plot_convergence(data_bball, y_bball, ws, bs)"
      ]
    }
  ],
  "metadata": {
    "kernelspec": {
      "display_name": "Python 3",
      "language": "python",
      "name": "python3"
    },
    "language_info": {
      "codemirror_mode": {
        "name": "ipython",
        "version": 3
      },
      "file_extension": ".py",
      "mimetype": "text/x-python",
      "name": "python",
      "nbconvert_exporter": "python",
      "pygments_lexer": "ipython3",
      "version": "3.9.1"
    },
    "colab": {
      "name": "A3-module-A.ipynb",
      "provenance": [],
      "collapsed_sections": []
    }
  },
  "nbformat": 4,
  "nbformat_minor": 0
}