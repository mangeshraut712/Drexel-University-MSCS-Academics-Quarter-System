{
  "cells": [
    {
      "cell_type": "markdown",
      "metadata": {
        "id": "DFFenUT-7rv7"
      },
      "source": [
        "## Module submission header\n",
        "### Submission preparation instructions \n",
        "_Completion of this header is mandatory, subject to a 2-point deduction to the assignment._ Only add plain text in the designated areas, i.e., replacing the relevant 'NA's. You must fill out all group member Names and Drexel email addresses in the below markdown list, under header __Module submission group__. It is required to fill out descriptive notes pertaining to any tutoring support received in the completion of this submission under the __Additional submission comments__ section at the bottom of the header. If no tutoring support was received, leave NA in place. You may as well list other optional comments pertaining to the submission at bottom. _Any distruption of this header's formatting will make your group liable to the 2-point deduction._\n",
        "\n",
        "### Module submission group\n",
        "- Group member 1\n",
        "    - Name: Mangesh Raut\n",
        "    - Email: mbr63@drexel.edu\n",
        "- Group member 2\n",
        "    - Name: Josh Clark\n",
        "    - Email: jc4577@drexel.edu\n",
        "- Group member 3\n",
        "    - Name: Mobin Rahimi\n",
        "    - Email: mr3596@drexel.edu\n",
        "- Group member 4\n",
        "    - Name: Will Wu\n",
        "    - Email: ww437@drexel.edu\n",
        "\n",
        "### Additional submission comments\n",
        "- Tutoring support received: NA\n",
        "- Other (other): NA"
      ]
    },
    {
      "cell_type": "markdown",
      "metadata": {
        "id": "bQfqL7VY7rv-"
      },
      "source": [
        "# Assignment group 3: Probabilistic modeling and prediction"
      ]
    },
    {
      "cell_type": "markdown",
      "metadata": {
        "id": "U3mfwK4i7rv_"
      },
      "source": [
        "## Module B _(39 pts)_ Exploring conditional probability and prediction\n",
        "In this section we're going to experiment with some recipes data again, which can be obtained from Kaggle:\n",
        "\n",
        "- https://www.kaggle.com/kaggle/recipe-ingredients-dataset\n",
        "\n",
        "As usual, they're also in the assignment's directory:\n",
        "\n",
        "- `./data/train.json`"
      ]
    },
    {
      "cell_type": "markdown",
      "metadata": {
        "id": "4uwpvA4W7rv_"
      },
      "source": [
        "__B1.__ _(3 pts)_ To start, write a function called `read_recipies`, which takes a string argument called `path_to_recipes_json` that contains the path to a json file containing recipe data. The function should use the `json` package to load the data and then return `recipes`, which will be a list of dictionaries containing the converted json data.\n",
        "\n",
        "(_Hint_: This function will be _very similar_ to the one you wrote for _A2 D1_.)"
      ]
    },
    {
      "cell_type": "code",
      "execution_count": null,
      "metadata": {
        "id": "SvEZBDT97rwA"
      },
      "outputs": [],
      "source": [
        "# B1:Function(3/3)\n",
        "\n",
        "import json\n",
        "\n",
        "def read_recipes(path_to_recipes_json):\n",
        "\n",
        "    #--- Your code starts here\n",
        "    recipes = json.load(open(path_to_recipes_json,\"r\"))\n",
        "    #--- Your code ends here\n",
        "    \n",
        "    return recipes"
      ]
    },
    {
      "cell_type": "markdown",
      "metadata": {
        "id": "8lch9ef77rwB"
      },
      "source": [
        "To test your function, let's provide it with the path to the `train.json` data and print the first three recipes.\n",
        "\n",
        "Your output should look like this:\n",
        "\n",
        "```\n",
        "{'id': 10259, 'cuisine': 'greek', 'ingredients': ['feta cheese crumbles', 'garlic', 'seasoning', 'grape tomatoes', 'black olives', 'garbanzo beans', 'pepper', 'purple onion', 'romaine lettuce']} \n",
        "\n",
        "{'id': 25693, 'cuisine': 'southern_us', 'ingredients': ['ground pepper', 'ground black pepper', 'vegetable oil', 'plain flour', 'thyme', 'salt', 'green tomatoes', 'milk', 'yellow corn meal', 'eggs', 'tomatoes']} \n",
        "\n",
        "{'id': 20130, 'cuisine': 'filipino', 'ingredients': ['butter', 'green chilies', 'cooking oil', 'chicken livers', 'pepper', 'salt', 'grilled chicken breasts', 'garlic powder', 'soy sauce', 'mayonaise', 'yellow onion', 'eggs']}\n",
        "```"
      ]
    },
    {
      "cell_type": "code",
      "execution_count": null,
      "metadata": {
        "colab": {
          "base_uri": "https://localhost:8080/"
        },
        "id": "E86xClWv7rwB",
        "outputId": "28e95bbf-7a1a-436e-c84e-dc37e174f34e"
      },
      "outputs": [
        {
          "name": "stdout",
          "output_type": "stream",
          "text": [
            "{'id': 10259, 'cuisine': 'greek', 'ingredients': ['romaine lettuce', 'black olives', 'grape tomatoes', 'garlic', 'pepper', 'purple onion', 'seasoning', 'garbanzo beans', 'feta cheese crumbles']} \n",
            "\n",
            "{'id': 25693, 'cuisine': 'southern_us', 'ingredients': ['plain flour', 'ground pepper', 'salt', 'tomatoes', 'ground black pepper', 'thyme', 'eggs', 'green tomatoes', 'yellow corn meal', 'milk', 'vegetable oil']} \n",
            "\n",
            "{'id': 20130, 'cuisine': 'filipino', 'ingredients': ['eggs', 'pepper', 'salt', 'mayonaise', 'cooking oil', 'green chilies', 'grilled chicken breasts', 'garlic powder', 'yellow onion', 'soy sauce', 'butter', 'chicken livers']} \n",
            "\n"
          ]
        }
      ],
      "source": [
        "# B1:SanityCheck\n",
        "\n",
        "recipes = read_recipes('./data/train.json')\n",
        "\n",
        "for recipe in recipes[:3]:\n",
        "    print(recipe,\"\\n\")"
      ]
    },
    {
      "cell_type": "markdown",
      "metadata": {
        "id": "8l-66XqG7rwC"
      },
      "source": [
        "__B2.__ _(7 pts)_ For this problem, you will be creating a data structure to store information about ingredients' co-occurance within recipes. Instead of building a network structure, you will build an adjacency list structure. In particular, you will construct a data structure that lets you symmetrically store the number of shared recipes between pairs of ingredients:\n",
        "\n",
        "```\n",
        "    {\n",
        "        Ingredient: {\n",
        "            CoIngredient: NumSharedRecipes\n",
        "        }\n",
        "    }\n",
        "```\n",
        "\n",
        "To do this, use a default dictionary of counters (`defaultdict(lambda : Counter())`) for the co-ingredient data.\n",
        "\n",
        "Please write a function `count_coingredients` that takes our `recipes` as an argument (from _B1_). It should return a default dictionary  with the above structure, where the ingredient and co-ingredient counts are populated based on the provided recipes."
      ]
    },
    {
      "cell_type": "code",
      "execution_count": 5,
      "metadata": {
        "id": "6STGzbSf7rwD"
      },
      "outputs": [],
      "source": [
        "# B2:Function(7/7)\n",
        "\n",
        "from collections import defaultdict, Counter\n",
        "\n",
        "def count_coingredients(recipes):\n",
        "    \n",
        "    #--- Your code starts here\n",
        "    coingredients = defaultdict(lambda : Counter())\n",
        "    \n",
        "    for recipe in recipes:\n",
        "        for ingredient in recipe['ingredients']:\n",
        "            for coingredient in recipe['ingredients']:\n",
        "                coingredients[ingredient][coingredient] += 1\n",
        "    #--- Your code ends here            \n",
        "    \n",
        "    return coingredients"
      ]
    },
    {
      "cell_type": "markdown",
      "metadata": {
        "id": "SQ0fHIw-7rwE"
      },
      "source": [
        "To test the function that you created, now we will apply it to the provided receipes data. Your output should look like the following:\n",
        "\n",
        "```\n",
        "# of recipes where romaine lettuce and feta cheese crumbles co-occur:\n",
        "20\n",
        "\n",
        "# of recipes where soy sauce and lo mein noodles co-occur:\n",
        "13\n",
        "\n",
        "# of recipes in which soy sauce appears (i.e., receipes where it appears with itself):\n",
        "3296\n",
        "```"
      ]
    },
    {
      "cell_type": "code",
      "execution_count": 6,
      "metadata": {
        "colab": {
          "base_uri": "https://localhost:8080/"
        },
        "id": "ZlRiWB0t7rwE",
        "outputId": "e35464a4-6631-43a9-c622-1e51eeb41e7f"
      },
      "outputs": [
        {
          "output_type": "stream",
          "name": "stdout",
          "text": [
            "Type of coingredients object:\n",
            "<class 'collections.defaultdict'>\n",
            "\n",
            "# of recipes where romaine lettuce and feta cheese crumbles co-occur:\n",
            "20\n",
            "\n",
            "# of recipes where soy sauce and lo mein noodles co-occur:\n",
            "13\n",
            "\n",
            "# of recipes in which soy sauce appears (i.e., receipes where it appears with itself):\n",
            "3296\n"
          ]
        }
      ],
      "source": [
        "# B2:SanityCheck\n",
        "\n",
        "coingredients = count_coingredients(recipes)\n",
        "\n",
        "print(\"Type of coingredients object:\")\n",
        "print(type(coingredients))\n",
        "print()\n",
        "print(\"# of recipes where romaine lettuce and feta cheese crumbles co-occur:\")\n",
        "print(coingredients['romaine lettuce']['feta cheese crumbles'])\n",
        "print()\n",
        "print(\"# of recipes where soy sauce and lo mein noodles co-occur:\")\n",
        "print(coingredients['soy sauce']['lo mein noodles'])\n",
        "print()\n",
        "print(\"# of recipes in which soy sauce appears (i.e., receipes where it appears with itself):\")\n",
        "print(coingredients['soy sauce']['soy sauce'])"
      ]
    },
    {
      "cell_type": "markdown",
      "metadata": {
        "id": "VNyVrLyg7rwF"
      },
      "source": [
        "__B3.__ _(2 pts)_ In the response box below answer the following questions:\n",
        "- Why didn't we choose to construct an adjacency matrix from our co-ingredients data?\n",
        "- Why was this _adjacency list_ a more efficient choice for computing the co-ingredient frequencies?"
      ]
    },
    {
      "cell_type": "code",
      "execution_count": null,
      "metadata": {
        "colab": {
          "base_uri": "https://localhost:8080/"
        },
        "id": "ahSIvuqg7rwF",
        "outputId": "3f9e1f49-35f0-4fb8-e860-c1523d2730f2"
      },
      "outputs": [
        {
          "name": "stdout",
          "output_type": "stream",
          "text": [
            "Adjacency List\n"
          ]
        }
      ],
      "source": [
        "# B3:Inline(2/2)\n",
        "\n",
        "# Which approach would take up less memory to represent the\n",
        "# adjacency list structure like we used in B2, or an adjacency\n",
        "# matrix? Print your answer, either \"Adjacency List\" or \"Adjacency Matrix\"\n",
        "print(\"Adjacency List\")"
      ]
    },
    {
      "cell_type": "markdown",
      "metadata": {
        "id": "pqJx-vzF7rwF"
      },
      "source": [
        "__B4.__ _(5 pts)_ Next, let's leverage our coingredient counts to start reasoning about ingredients in terms of probabilities. Write a function `prob_ingredient` that takes three arguments: `recipes`, our recipes from _B1_, `coingredients`, which will come from _B2_, and `ingredient`, which specifies the ingredient of interest. This function should return the probability a recipe contains the `ingredient`:\n",
        "\n",
        "$$P(\\text{a recipe contains ingredient } A)$$\n",
        "\n",
        "This should be computed as:\n",
        "\n",
        "$$\\frac{\\text{number of times ingredient }A\\text{ is used in any recipe}}{\\text{number of recipes in the dataset}}$$\n",
        "\n",
        "**Hint**, you can find the number of times an ingredient appears across all recipes by looking at the number of times it co-occurs with itself in the coingredients structure."
      ]
    },
    {
      "cell_type": "code",
      "execution_count": 7,
      "metadata": {
        "id": "pQODy-GE7rwF"
      },
      "outputs": [],
      "source": [
        "# B4:Function(5/5)\n",
        "\n",
        "def prob_ingredient(recipes, coingredients, ingredient):\n",
        "    \n",
        "    #--- Your code starts here\n",
        "    probability = coingredients[ingredient][ingredient]/len(recipes)\n",
        "    #--- Your code ends here\n",
        "    \n",
        "    return probability"
      ]
    },
    {
      "cell_type": "markdown",
      "metadata": {
        "id": "Eisqzph97rwG"
      },
      "source": [
        "To test our function, lets compute the probability that a recipe contains \"feta cheese\" or \"soy sauce\". Your results should look like the following:\n",
        "```\n",
        "Probability that a recipe contains `feta cheese`:\n",
        "0.0067380700960426405\n",
        "\n",
        "Probability that a recipe contains `soy sauce`:\n",
        "0.08286820536028561\n",
        "```"
      ]
    },
    {
      "cell_type": "code",
      "execution_count": 8,
      "metadata": {
        "id": "BE_1UDxs7rwG",
        "colab": {
          "base_uri": "https://localhost:8080/"
        },
        "outputId": "862d982f-4d5b-4ed2-9e0b-62a0df097089"
      },
      "outputs": [
        {
          "output_type": "stream",
          "name": "stdout",
          "text": [
            "Probability that a recipe contains `feta cheese`:\n",
            "0.0067380700960426405\n",
            "\n",
            "Probability that a recipe contains `soy sauce`:\n",
            "0.08286820536028561\n",
            "\n"
          ]
        }
      ],
      "source": [
        "# B4:SanityCheck\n",
        "\n",
        "print(\"Probability that a recipe contains `feta cheese`:\")\n",
        "print(prob_ingredient(recipes, coingredients, \"feta cheese\"))\n",
        "print()\n",
        "print(\"Probability that a recipe contains `soy sauce`:\")\n",
        "print(prob_ingredient(recipes, coingredients, \"soy sauce\"))\n",
        "print()"
      ]
    },
    {
      "cell_type": "markdown",
      "metadata": {
        "id": "pCJPOIVP7rwG"
      },
      "source": [
        "__B5.__ _(5 pts)_ Now, write a function called `prob_ingredient_pair` that takes `recipes` and `coingredients` just like the function from _B4_. Unlike the previous function, this one will take two ingredients `ingredient_a` and `ingredient_b`. This function should return the probability that a recipe contains both of the specified ingredients:\n",
        "\n",
        "$$P(\\text{a recipe contains ingredients } A \\text{ and } B)$$\n",
        "\n",
        "This should be computed as:\n",
        "\n",
        "$$\\frac{\\text{number of times both ingredients were used in any recipe}}{\\text{number of recipes in the dataset}}$$"
      ]
    },
    {
      "cell_type": "code",
      "execution_count": 9,
      "metadata": {
        "id": "z6obT0Lm7rwG"
      },
      "outputs": [],
      "source": [
        "# B5:Function(5/5)\n",
        "\n",
        "def prob_ingredient_pair(recipes, coingredients, ingredient_a, ingredient_b):\n",
        "    \n",
        "    #--- Your code starts here\n",
        "    num_recipes = len(recipes)\n",
        "    probability = (coingredients[ingredient_a][ingredient_b]/num_recipes)\n",
        "    #--- Your code ends here\n",
        "    \n",
        "    return probability"
      ]
    },
    {
      "cell_type": "markdown",
      "metadata": {
        "id": "XSIxsJyA7rwG"
      },
      "source": [
        "To test your function, let's use it to compute the probability that a randomly chosen recipe contains both `feta cheese` and `romaine lettuce`. Your output should look like this:\n",
        "```\n",
        "Probability that a recipe contains both `feta cheese` and `romaine lettuce`:\n",
        "0.0003017046311660884\n",
        "```"
      ]
    },
    {
      "cell_type": "code",
      "execution_count": 10,
      "metadata": {
        "id": "te412eZy7rwH",
        "colab": {
          "base_uri": "https://localhost:8080/"
        },
        "outputId": "cb008dc1-ce28-4cfb-8e19-fcaec92fdf02"
      },
      "outputs": [
        {
          "output_type": "stream",
          "name": "stdout",
          "text": [
            "Probability that a recipe contains both `feta cheese` and `romaine lettuce`:\n",
            "0.0003017046311660884\n"
          ]
        }
      ],
      "source": [
        "# B5:SanityCheck\n",
        "\n",
        "print(\"Probability that a recipe contains both `feta cheese` and `romaine lettuce`:\")\n",
        "print(prob_ingredient_pair(recipes, coingredients, \"feta cheese\", \"romaine lettuce\"))"
      ]
    },
    {
      "cell_type": "markdown",
      "metadata": {
        "id": "_MT5CwW-7rwH"
      },
      "source": [
        "__B6.__ _(5 pts)_ Next, write a function called `prob_ingredient_given_ingredient` that takes the same arguments as your previous function (`recipes`, `coingredients`, `ingredient_a`, and `ingredient_b`), but instead returns the conditional probability that a recipe contains `ingredient_a` given that it already contains `ingredient_b`. This is the conditional probability:\n",
        "\n",
        "$$P(\\text{a recipe contains ingredient } A\\mid\\text{ it is a recipe that we know contains ingredient } B)$$\n",
        "\n",
        "which can be computed as a quotient from Bayes' rule:\n",
        "\n",
        "$$\n",
        "P(\\text{a recipe contains ingredient } A\\mid\\text{it is a recipe that we know contains ingredient } B)=\n",
        "\\frac{P(\\text{a recipe contains ingredients } A \\text{ and } B)}{P(\\text{a recipe contains ingredient } B)}\n",
        "$$\n",
        "\n",
        "i.e., using the output of our previous two functions. "
      ]
    },
    {
      "cell_type": "code",
      "execution_count": 11,
      "metadata": {
        "id": "LW32LDOS7rwH"
      },
      "outputs": [],
      "source": [
        "# B6:Function(5/5)\n",
        "\n",
        "def prob_ingredient_given_ingredient(recipes, coingredients, ingredient_a, ingredient_b):\n",
        "    \n",
        "    #--- Your code starts here\n",
        "    probability = (prob_ingredient_pair(recipes, coingredients, ingredient_a, ingredient_b)/\n",
        "                   prob_ingredient(recipes, coingredients, ingredient_b))\n",
        "    #--- Your code starts here\n",
        "\n",
        "    return probability"
      ]
    },
    {
      "cell_type": "markdown",
      "metadata": {
        "id": "AqJz3NoM7rwH"
      },
      "source": [
        "Next, lets test if your function works by using it to find the probability that a recipe contains `\"feta cheese\"`, given we know it contains `\"romaine lettuce\"`. Your output should look like this:\n",
        "```\n",
        "Probability a recipe contains `feta cheese` given that it contains `romaine lettuce`:\n",
        "0.044444444444444446\n",
        "```"
      ]
    },
    {
      "cell_type": "code",
      "execution_count": 12,
      "metadata": {
        "id": "b-N9TdD27rwH",
        "colab": {
          "base_uri": "https://localhost:8080/"
        },
        "outputId": "6ae8edd7-27e5-49c9-ffe6-7201db414196"
      },
      "outputs": [
        {
          "output_type": "stream",
          "name": "stdout",
          "text": [
            "Probability a recipe contains `feta cheese` given that it contains `romaine lettuce`:\n",
            "0.044444444444444446\n"
          ]
        }
      ],
      "source": [
        "# B6:SanityCheck\n",
        "\n",
        "print(\"Probability a recipe contains `feta cheese` given that it contains `romaine lettuce`:\")\n",
        "print(prob_ingredient_given_ingredient(recipes, coingredients, \"feta cheese\", \"romaine lettuce\"))"
      ]
    },
    {
      "cell_type": "markdown",
      "metadata": {
        "id": "tdoj5kWU7rwI"
      },
      "source": [
        "__B7.__ _(7 pts)_ Finally, write a function called `likely_coingredients` that takes three arguments: `recipes`, `coingredients`, and `ingredient`. Given a conditioning `ingredient`, the function should return the conditional probabilities for all ingredients where the conditional probability is non-zero (i.e., that co-occur at least once with the conditioning `ingredient`). The co-ingredients and their likelihoods should be returned in a `Counter()` object named `probs`."
      ]
    },
    {
      "cell_type": "code",
      "execution_count": 13,
      "metadata": {
        "id": "IXR3Ir-D7rwI"
      },
      "outputs": [],
      "source": [
        "# B7:Function(7/7)\n",
        "\n",
        "def likely_coingredients(recipes, coingredients, ingredient):\n",
        "    ## initilize a Counter() for the co-ingredient probabilities\n",
        "    probs = Counter()\n",
        "    \n",
        "    #--- Your code starts here\n",
        "    for coingredient in coingredients[ingredient]:\n",
        "        probs[coingredient] = prob_ingredient_given_ingredient(recipes, coingredients, coingredient, ingredient)\n",
        "    #--- Your code ends here\n",
        "    \n",
        "    return probs"
      ]
    },
    {
      "cell_type": "markdown",
      "metadata": {
        "id": "2ESWBj147rwI"
      },
      "source": [
        "Next, let's test this function by using it to find the ten ingredients that have the highest conditional probabilities given that we assume the recipe contains 'feta cheese'. Your output should look like this:\n",
        "```\n",
        "[('feta cheese', 1.0),\n",
        " ('olive oil', 0.5186567164179104),\n",
        " ('salt', 0.42537313432835827),\n",
        " ('purple onion', 0.22388059701492538),\n",
        " ('tomatoes', 0.1902985074626866),\n",
        " ('garlic cloves', 0.1902985074626866),\n",
        " ('dried oregano', 0.1902985074626866),\n",
        " ('garlic', 0.1791044776119403),\n",
        " ('pepper', 0.17537313432835822),\n",
        " ('extra-virgin olive oil', 0.17164179104477612)]\n",
        " ```"
      ]
    },
    {
      "cell_type": "code",
      "execution_count": 14,
      "metadata": {
        "id": "2soj1Ojo7rwI",
        "colab": {
          "base_uri": "https://localhost:8080/"
        },
        "outputId": "cfbd558a-a6df-45e0-f10c-3a8918323535"
      },
      "outputs": [
        {
          "output_type": "execute_result",
          "data": {
            "text/plain": [
              "[('feta cheese', 1.0),\n",
              " ('olive oil', 0.5186567164179104),\n",
              " ('salt', 0.42537313432835827),\n",
              " ('purple onion', 0.22388059701492538),\n",
              " ('tomatoes', 0.1902985074626866),\n",
              " ('garlic cloves', 0.1902985074626866),\n",
              " ('dried oregano', 0.1902985074626866),\n",
              " ('garlic', 0.1791044776119403),\n",
              " ('pepper', 0.17537313432835822),\n",
              " ('extra-virgin olive oil', 0.17164179104477612)]"
            ]
          },
          "metadata": {},
          "execution_count": 14
        }
      ],
      "source": [
        "# B7:SanityCheck\n",
        "\n",
        "likely_coingredients(recipes, coingredients, \"feta cheese\").most_common(10)"
      ]
    },
    {
      "cell_type": "markdown",
      "metadata": {
        "id": "dGKmArsf7rwI"
      },
      "source": [
        "__B8.__ _(3 pts)_ Using the output from __B7:SanityCheck__, answer the following inline question."
      ]
    },
    {
      "cell_type": "code",
      "execution_count": 15,
      "metadata": {
        "colab": {
          "base_uri": "https://localhost:8080/"
        },
        "id": "NYmIpSNl7rwI",
        "outputId": "90a5058a-c0c4-4838-ebf6-eae3826acc89"
      },
      "outputs": [
        {
          "output_type": "stream",
          "name": "stdout",
          "text": [
            "Yes\n"
          ]
        }
      ],
      "source": [
        "# B8:Inline(3/3)\n",
        "\n",
        "# Do you interpret these as fitting into a common cuisine of recipes? Print \"Yes\" or \"No\".\n",
        "print(\"Yes\")"
      ]
    },
    {
      "cell_type": "markdown",
      "metadata": {
        "id": "DUMnEiNA7rwI"
      },
      "source": [
        "__B9.__ _(2 pts)_ Finally, look at the numeric values from __B7:SanityCheck__. You'll notice that these probabilities do not add up to 1! Answer the following inline question regarding why:"
      ]
    },
    {
      "cell_type": "code",
      "execution_count": 16,
      "metadata": {
        "colab": {
          "base_uri": "https://localhost:8080/"
        },
        "id": "b-VTB3Mq7rwJ",
        "outputId": "de5a5ab7-086d-43bc-87f0-57c3bd099aad"
      },
      "outputs": [
        {
          "output_type": "stream",
          "name": "stdout",
          "text": [
            "Yes\n"
          ]
        }
      ],
      "source": [
        "# B9:Inline(2/2)\n",
        "\n",
        "# Are the occurance of ingredients from B7:SanityCheck's output mutually exclusive?\n",
        "# Print \"Yes\" or \"No\"\n",
        "print(\"Yes\")"
      ]
    }
  ],
  "metadata": {
    "colab": {
      "collapsed_sections": [],
      "name": "A3-module-B.ipynb",
      "provenance": []
    },
    "kernelspec": {
      "display_name": "Python 3",
      "language": "python",
      "name": "python3"
    },
    "language_info": {
      "codemirror_mode": {
        "name": "ipython",
        "version": 3
      },
      "file_extension": ".py",
      "mimetype": "text/x-python",
      "name": "python",
      "nbconvert_exporter": "python",
      "pygments_lexer": "ipython3",
      "version": "3.8.3"
    }
  },
  "nbformat": 4,
  "nbformat_minor": 0
}