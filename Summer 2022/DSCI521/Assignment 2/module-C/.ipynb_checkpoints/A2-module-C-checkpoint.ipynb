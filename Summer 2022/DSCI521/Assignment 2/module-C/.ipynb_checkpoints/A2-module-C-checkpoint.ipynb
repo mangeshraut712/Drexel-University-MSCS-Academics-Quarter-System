{
 "cells": [
  {
   "cell_type": "markdown",
   "metadata": {},
   "source": [
    "## Module submission header\n",
    "### Submission preparation instructions \n",
    "_Completion of this header is mandatory, subject to a 2-point deduction to the assignment._ Only add plain text in the designated areas, i.e., replacing the relevant 'NA's. You must fill out all group member Names and Drexel email addresses in the below markdown list, under header __Module submission group__. It is required to fill out descriptive notes pertaining to any tutoring support received in the completion of this submission under the __Additional submission comments__ section at the bottom of the header. If no tutoring support was received, leave NA in place. You may as well list other optional comments pertaining to the submission at bottom. _Any distruption of this header's formatting will make your group liable to the 2-point deduction._\n",
    "\n",
    "### Module submission group\n",
    "- Group member 1\n",
    "    - Name: Mangesh Raut\n",
    "    - Email: mbr63@drexel.edu\n",
    "- Group member 2\n",
    "    - Name: Josh Clark\n",
    "    - Email: jc4577@drexel.edu\n",
    "- Group member 3\n",
    "    - Name: Mobin Rahimi\n",
    "    - Email: mr3596@drexel.edu\n",
    "- Group member 4\n",
    "    - Name: Will Wu\n",
    "    - Email: ww437@drexel.edu\n",
    "\n",
    "### Additional submission comments\n",
    "- Tutoring support received: NA\n",
    "- Other (other): NA"
   ]
  },
  {
   "cell_type": "markdown",
   "metadata": {},
   "source": [
    "# Assignment group 2: Network and exploratory data analysis"
   ]
  },
  {
   "cell_type": "markdown",
   "metadata": {},
   "source": [
    "## Module C _(40 pts)_ Exploring a network of ingredients\n",
    "In this section we're going to experiment with some recipes data, but think of them as a network. These data can be obtained from Kaggle:\n",
    "\n",
    "- https://www.kaggle.com/kaggle/recipe-ingredients-dataset\n",
    "\n",
    "and are packaged with the assignment in the following directory:\n",
    "\n",
    "- `./data/train.json`"
   ]
  },
  {
   "cell_type": "markdown",
   "metadata": {},
   "source": [
    "__C1.__ _(2 pts)_ To start, write a function called `read_recipes`, which takes a string argument called `path_to_recipes_json` that contains the path to a json file containing recipe data. The function should use the `json` package to load the data and then return `recipes`, which will be a list of dictionaries containing the converted json data."
   ]
  },
  {
   "cell_type": "code",
   "execution_count": 3,
   "metadata": {},
   "outputs": [],
   "source": [
    "# C1:Function(2/2)\n",
    "\n",
    "import json\n",
    "\n",
    "def read_recipes(path_to_recipes_json):\n",
    "\n",
    "    #--- Your code starts here\n",
    "    recipes = json.load(open('./data/train.json','r'))\n",
    "    #--- Your code ends here\n",
    "    \n",
    "    return recipes\n"
   ]
  },
  {
   "cell_type": "markdown",
   "metadata": {},
   "source": [
    "To test your function, let's provide it with the path to the `train.json` data and print the first three recipes.\n",
    "\n",
    "Your output should look like this:\n",
    "\n",
    "```\n",
    "{'id': 10259, 'cuisine': 'greek', 'ingredients': ['feta cheese crumbles', 'garlic', 'seasoning', 'grape tomatoes', 'black olives', 'garbanzo beans', 'pepper', 'purple onion', 'romaine lettuce']} \n",
    "\n",
    "{'id': 25693, 'cuisine': 'southern_us', 'ingredients': ['ground pepper', 'ground black pepper', 'vegetable oil', 'plain flour', 'thyme', 'salt', 'green tomatoes', 'milk', 'yellow corn meal', 'eggs', 'tomatoes']} \n",
    "\n",
    "{'id': 20130, 'cuisine': 'filipino', 'ingredients': ['butter', 'green chilies', 'cooking oil', 'chicken livers', 'pepper', 'salt', 'grilled chicken breasts', 'garlic powder', 'soy sauce', 'mayonaise', 'yellow onion', 'eggs']}\n",
    "```"
   ]
  },
  {
   "cell_type": "code",
   "execution_count": 4,
   "metadata": {},
   "outputs": [
    {
     "name": "stdout",
     "output_type": "stream",
     "text": [
      "{'id': 10259, 'cuisine': 'greek', 'ingredients': ['romaine lettuce', 'black olives', 'grape tomatoes', 'garlic', 'pepper', 'purple onion', 'seasoning', 'garbanzo beans', 'feta cheese crumbles']} \n",
      "\n",
      "{'id': 25693, 'cuisine': 'southern_us', 'ingredients': ['plain flour', 'ground pepper', 'salt', 'tomatoes', 'ground black pepper', 'thyme', 'eggs', 'green tomatoes', 'yellow corn meal', 'milk', 'vegetable oil']} \n",
      "\n",
      "{'id': 20130, 'cuisine': 'filipino', 'ingredients': ['eggs', 'pepper', 'salt', 'mayonaise', 'cooking oil', 'green chilies', 'grilled chicken breasts', 'garlic powder', 'yellow onion', 'soy sauce', 'butter', 'chicken livers']} \n",
      "\n"
     ]
    }
   ],
   "source": [
    "# C1:SanityCheck\n",
    "\n",
    "recipes = read_recipes('./data/train.json')\n",
    "\n",
    "for recipe in recipes[:3]:\n",
    "    print(recipe,\"\\n\")"
   ]
  },
  {
   "cell_type": "markdown",
   "metadata": {},
   "source": [
    "__C2.__ _(5 pts)_ Write a function called `create_recipe_graph` that takes the output from our `read_recipes` function (i.e., `recipe_data`) and builds an _undirected_ network representation of the ingredients data using the NetworkX module. The output of this function should be a graph where nodes represent ingredients and for each pair of ingredients that appear in the same recipe there should be a link between them. Note that output graph should be of the NetworkX `.Graph()` type."
   ]
  },
  {
   "cell_type": "code",
   "execution_count": null,
   "metadata": {},
   "outputs": [],
   "source": [
    "# C2:Function(5/5)\n",
    "\n",
    "import networkx as nx\n",
    "\n",
    "def create_recipe_graph(recipe_data):\n",
    "\n",
    "    #--- Your code starts here\n",
    "\n",
    "    #---Your code ends here\n",
    "    \n",
    "    return graph"
   ]
  },
  {
   "cell_type": "markdown",
   "metadata": {},
   "source": [
    "To evaluate your function, let's apply it to the recipies we've loaded and print the edges connected to the \"feta cheese crumbles\" ingredient node.\n",
    "\n",
    "Your output should look like this:\n",
    "```\n",
    "('feta cheese crumbles', 'feta cheese crumbles')\n",
    "('feta cheese crumbles', 'garlic')\n",
    "('feta cheese crumbles', 'seasoning')\n",
    "('feta cheese crumbles', 'grape tomatoes')\n",
    "('feta cheese crumbles', 'black olives')\n",
    "('feta cheese crumbles', 'garbanzo beans')\n",
    "('feta cheese crumbles', 'pepper')\n",
    "('feta cheese crumbles', 'purple onion')\n",
    "('feta cheese crumbles', 'romaine lettuce')\n",
    "('feta cheese crumbles', 'baby spinach leaves')\n",
    "('feta cheese crumbles', 'ground cinnamon')\n",
    "('feta cheese crumbles', 'olive oil')\n",
    "('feta cheese crumbles', 'hamburger buns')\n",
    "('feta cheese crumbles', 'balsamic vinegar')\n",
    "...\n",
    "```"
   ]
  },
  {
   "cell_type": "code",
   "execution_count": null,
   "metadata": {},
   "outputs": [],
   "source": [
    "# C2:SanityCheck\n",
    "\n",
    "recipe_graph = create_recipe_graph(recipes)\n",
    "for edge in recipe_graph.edges:\n",
    "    if edge[0] == \"feta cheese crumbles\":\n",
    "        print(edge)"
   ]
  },
  {
   "cell_type": "markdown",
   "metadata": {},
   "source": [
    "__C3.__ _(8 pts)_ Utilize NetworkX and the ingredients network and find the node degrees, i.e., numbers of connections to other ingredients across the recipes. Use this to compute the network's average and median degrees, and to print the top $5$ ingredients by degree. Discuss this output and how it helps you to understand if you've constructed the network correctly."
   ]
  },
  {
   "cell_type": "markdown",
   "metadata": {},
   "source": [
    "_Response._ The top five ingredients are pretty ubiquitous in recipes, and this not too surprising. This is good&mdash;it makes sense that ingrediernts like `'salt'` would be connected to many other, i.e., in most other recipes. "
   ]
  },
  {
   "cell_type": "code",
   "execution_count": null,
   "metadata": {},
   "outputs": [],
   "source": [
    "# C3:Inline(2/8)\n",
    "\n",
    "# Return the average degree of the nodes in the graph you constructed in C2\n",
    "# (e.g., compute the degrees of every node, then use numpy to find the mean)"
   ]
  },
  {
   "cell_type": "code",
   "execution_count": null,
   "metadata": {},
   "outputs": [],
   "source": [
    "# C3:Inline(2/8)\n",
    "\n",
    "# Return the median degree of the nodes in the graph you constructed in C2\n",
    "# (e.g., compute the degrees of every node, then use numpy to find the median)"
   ]
  },
  {
   "cell_type": "code",
   "execution_count": null,
   "metadata": {},
   "outputs": [],
   "source": [
    "# C3:Inline(2/8)\n",
    "\n",
    "# Return a list of the top five ingredients by degree from this cell. \n",
    "# The list should contain tuples that contain the ingredient and the\n",
    "# degree of the ingredient. E.g., your output should be of the form:\n",
    "# `[('<ingredient1>', <degree of ingredient1>), \n",
    "#   ('<ingredient2>', <degree of ingredient2>), ...]`"
   ]
  },
  {
   "cell_type": "code",
   "execution_count": null,
   "metadata": {},
   "outputs": [],
   "source": [
    "# C3:Inline(2/8)\n",
    "\n",
    "# Look at these five ingredients with the higest degrees, do they\n",
    "# help you understand if you've constructed the network correctly?\n",
    "# Print your answer as \"Yes\" or \"No\"\n",
    "print(\"<Your Answer:Yes/No>\")"
   ]
  },
  {
   "cell_type": "markdown",
   "metadata": {},
   "source": [
    "__C4.__ _(7 pts)_ Now, write a function called `get_degree_numbers_and_counts` that accepts a NetworkX `graph` (the output from your `create_recipe_graph` function). This function should compute the degrees of each node in the graph and for each degree $k$, it counts up the number of nodes $n_k$ that have degree $k$. It should then store the unique values of $k$ in a list called `degree_numbers` and the corresponding values $n_k$ in a list called `degree_counts`, sort these two lists in order of decreasing $k$, and return them as a tuple: `(degree_numbers, degree_counts)`. \n",
    "\n",
    "\\[Hint: `from collections import Counter` for an object type that will make the counting and sorting processes very easy when starting from a list of `degrees`.\\] "
   ]
  },
  {
   "cell_type": "code",
   "execution_count": null,
   "metadata": {},
   "outputs": [],
   "source": [
    "# C4:Function(5/7)\n",
    "from collections import Counter\n",
    "\n",
    "def get_degree_numbers_and_counts(graph):\n",
    "    \n",
    "    #---Your code starts here\n",
    "\n",
    "    #---Your code ends here\n",
    "    \n",
    "    return degree_numbers, degree_counts"
   ]
  },
  {
   "cell_type": "markdown",
   "metadata": {},
   "source": [
    "Let's apply your function to get the degree_numbers and degree_counts for our recipe_graph and then look at the top five degree numbers and degree counts. Your ouput should look like this:\n",
    "`((15, 12, 11, 10, 14), (174, 169, 162, 155, 150))`"
   ]
  },
  {
   "cell_type": "code",
   "execution_count": null,
   "metadata": {},
   "outputs": [],
   "source": [
    "# C4:SanityCheck\n",
    "degree_numbers, degree_counts = get_degree_numbers_and_counts(recipe_graph)    \n",
    "degree_numbers[:5], degree_counts[:5]"
   ]
  },
  {
   "cell_type": "code",
   "execution_count": null,
   "metadata": {},
   "outputs": [],
   "source": [
    "# C4:Inline(2/7)\n",
    "\n",
    "# Look at the the top five most common degree numbers (the mode)\n",
    "# and any difference in these values from the average and median degrees reported\n",
    "# in __C3__. Do you believe these data are skewed? Print \"Yes\" or \"No\"\n",
    "print(\"<Your Answer:Yes or No>\")"
   ]
  },
  {
   "cell_type": "markdown",
   "metadata": {},
   "source": [
    "__C5.__ _(5 pts)_ Your next job is to create a function called `plot_degree_numbers_and_counts` that takes  `degree_numbers` and `degree_counts` (e.g., like the data you generated in _C4_) and outputs a matplotlib scatter plot visualizing the _logarithms_ of these values, using the numpy utility `np.log10()` on each. The x-axis of the figure should be $Log_{10}($num nodes$)$ and the y-axis should be the $Log_{10}($degree$)$. When visualizing the scatter plot data, set the size of each point to be 10 (i.e, `s=10`), the color to be `'k'`, and the marker to be `'.'`. The function should return the matplotlib figure object."
   ]
  },
  {
   "cell_type": "code",
   "execution_count": null,
   "metadata": {},
   "outputs": [],
   "source": [
    "# C5:Function(4/5)\n",
    "\n",
    "%matplotlib inline\n",
    "from matplotlib import pyplot as plt\n",
    "\n",
    "def plot_degree_numbers_and_counts(degree_numbers, degree_counts):\n",
    "    \n",
    "    fig = plt.figure(figsize = (5,5))\n",
    "\n",
    "    #--- Your code starts here\n",
    "    \n",
    "    #--- Your code ends here\n",
    "\n",
    "    plt.xlabel(\"$Log_{10}($degree$)$\", size = 15)\n",
    "    plt.ylabel(\"$Log_{10}($num nodes$)$\", size = 15)\n",
    "    \n",
    "    return fig"
   ]
  },
  {
   "cell_type": "markdown",
   "metadata": {},
   "source": [
    "Let's test your function by using it to generate a plot for our recipie numbers and counts. Your resulting figure should look like this:\n",
    "\n",
    "![Expected Output](img/c5-expected-output.png)\n"
   ]
  },
  {
   "cell_type": "code",
   "execution_count": null,
   "metadata": {},
   "outputs": [],
   "source": [
    "# C5:SanityCheck\n",
    "fig = plot_degree_numbers_and_counts(degree_numbers, degree_counts)"
   ]
  },
  {
   "cell_type": "code",
   "execution_count": null,
   "metadata": {},
   "outputs": [],
   "source": [
    "# C5:Inline(1/5)\n",
    "\n",
    "# Look at the visualization, do the two transformed quantitiees appear to exhibit a relationship? Print \"Yes\" or \"No\".\n",
    "print(\"<Your Answer:Yes or No>\")"
   ]
  },
  {
   "cell_type": "markdown",
   "metadata": {},
   "source": [
    "__C6.__ _(3 pts)_ For a given node $u$ in our network $G$, let $\\Gamma(u)$ denote the set of $u$'s neighbors, i.e., set of nodes linked to $u$.\n",
    "\n",
    "In this part of the assignment we'll be utilizing the Jaccard coefficient (__Chapter 3.1.5.2__) similarity function on neighborhoods of nodes to determine the foods most likely to link to one anothers, i.e., appear in a recipe together heretofore unseen.\n",
    "\n",
    "In particular, the Jaccard coefficient of nodes $u$ and $v$ is defined as\n",
    "\n",
    "$$\\frac{|\\Gamma(u) \\cap \\Gamma(v)|}{|\\Gamma(u) \\cup \\Gamma(v)|}$$\n",
    "\n",
    "where $\\Gamma(u)$ denotes the set of neighbors of $u$ and can be computed through networkx utilizing the `nx.jaccard_coefficient(G, ebunch=None)` utility.\n",
    "\n",
    "To begin, apply the `nx.jaccard_coefficient()` function to a few seemingly dispirate and a few seemingly similar ingredients (to your sensibilities). Once this is done, remark on the function of the measure in the response box below. Does this measure work as expected?"
   ]
  },
  {
   "cell_type": "code",
   "execution_count": null,
   "metadata": {},
   "outputs": [],
   "source": [
    "# C6:Inline(1/3)\n",
    "\n",
    "# Apply the nx.jaccard_coefficient() function to the recipe graph\n",
    "# to compute the similarity between the ingredients 'salmon' and\n",
    "# 'chocolate'. Return the similarity score from this cell (e.g.,\n",
    "# it will be a numerical value like `0.0374822283838`).\n"
   ]
  },
  {
   "cell_type": "code",
   "execution_count": null,
   "metadata": {},
   "outputs": [],
   "source": [
    "# C6:Inline(1/3)\n",
    "\n",
    "# Apply the nx.jaccard_coefficient() function to the recipe graph\n",
    "# to compute the similarity between the ingredients 'coffee' and\n",
    "# 'chocolate'. Return the similarity score from this cell (e.g.,\n",
    "# it will be a numerical value like `0.0374822283838`).\n"
   ]
  },
  {
   "cell_type": "code",
   "execution_count": null,
   "metadata": {},
   "outputs": [],
   "source": [
    "# C6:Inline(1/3)\n",
    "\n",
    "# Do these outputs make sense? I.e., do the two ingredients we \n",
    "# think of as more similar \"coffee\" and \"chocolate\" have a higher\n",
    "# similarity score than those we think of as less similar?\n",
    "# print \"Yes\" or \"No\"\n",
    "print(\"<Your Answer:Yes or No>\")"
   ]
  },
  {
   "cell_type": "markdown",
   "metadata": {},
   "source": [
    "__C7.__ _(5 pts)_ Next, write a function called `unlinked`, which takes a NetworkX `graph` and the name of a node in the graph (`node_name`). This function should create a list of node `names` using the `graph.nodes()` method and corresponding adjacency matrtix from `nx.to_numpy_matrix(...)`. The function shoul then returns a list of the names of all other nodes (ingredients) for which the node (queried ingredient, `node_name`) shares no link. "
   ]
  },
  {
   "cell_type": "markdown",
   "metadata": {},
   "source": [
    "_Response._ Yes, since many recipes have `'salt'` as an ingredient it  make sense that the result will be much larger for `'chocolate'`."
   ]
  },
  {
   "cell_type": "code",
   "execution_count": null,
   "metadata": {},
   "outputs": [],
   "source": [
    "# C7:Function(4/5)\n",
    "\n",
    "def unlinked(graph, node_name):\n",
    "    \n",
    "    #---Your code starts here\n",
    "\n",
    "    #---Your code ends here\n",
    "    \n",
    "    return unlinked_nodes"
   ]
  },
  {
   "cell_type": "markdown",
   "metadata": {},
   "source": [
    "Let's test this function by using it to evaluate the outputs for 'salt' and 'chocolate'. Let's also look at the size of the outputs for each. Your output should look like this:\n",
    "\n",
    "```\n",
    "Unlinked from salt: ['white almond bark', 'Johnsonville Andouille Dinner Sausage', 'giardiniera', 'Oscar Mayer Deli Fresh Smoked Ham', 'yellow cake mix']\n",
    "Unlinked from chocolate: ['feta cheese crumbles', 'seasoning', 'grape tomatoes', 'black olives', 'garbanzo beans']\n",
    "\n",
    "# of nodes unlinked from salt: 1834\n",
    "# of nodes unlinked from chocolate: 6515\n",
    "```"
   ]
  },
  {
   "cell_type": "code",
   "execution_count": null,
   "metadata": {},
   "outputs": [],
   "source": [
    "# C7:SanityCheck\n",
    "\n",
    "unlinked_from_salt = unlinked(recipe_graph, \"salt\")\n",
    "unlinked_from_chocolate = unlinked(recipe_graph, \"chocolate\")\n",
    "\n",
    "print(\"Unlinked from salt:\", unlinked_from_salt[:5])\n",
    "print(\"Unlinked from chocolate:\", unlinked_from_chocolate[:5])\n",
    "print()\n",
    "print(\"# of nodes unlinked from salt: {}\".format(len(unlinked_from_salt)))\n",
    "print(\"# of nodes unlinked from chocolate: {}\".format(len(unlinked_from_chocolate)))"
   ]
  },
  {
   "cell_type": "code",
   "execution_count": null,
   "metadata": {},
   "outputs": [],
   "source": [
    "# C7:Inline(1/5)\n",
    "\n",
    "# Compare the size of outputs from this function for the two quired nodes:\n",
    "# `'salt'` and `'chocolate'`. Does the output make sense? Print \"Yes\" or \"No\"\n",
    "print(\"<Your Answer:Yes or No>\")"
   ]
  },
  {
   "cell_type": "markdown",
   "metadata": {},
   "source": [
    "__C8.__ _(5 pts)_ Finally, write a function called `likely_ingredients` that takes two arguments, a networkx `graph` and the name of a node (`node_name`). Given these inputs the function should apply the `unlinked` function you wrote in _C7_ to compute all the nodes that are unlinked from the target node. Then the function should use the `nx.jaccard_coefficient(...)` function to compute the jaccard coefficient between our target node and each of the nodes in its unlinked list. Finally, the function should sort these values by the Jaccard coefficient and return the resulting list (`sorted_similarities`). The output of this function (`sorted_similiarities`) should be a list of tuples of the following format:\n",
    "```\n",
    "[('<node_name>', 'unlinked_node1_name', 0.3333333333333),\n",
    " ('<node_name>', 'unlinked_node2_name', 0.2222222222222),\n",
    " ...]\n",
    "```"
   ]
  },
  {
   "cell_type": "code",
   "execution_count": null,
   "metadata": {},
   "outputs": [],
   "source": [
    "# C8:Function(4/5)\n",
    "\n",
    "def likely_ingredients(graph, node_name):\n",
    "    \n",
    "    #---Your code starts here\n",
    "\n",
    "    #---Your code ends here\n",
    "    \n",
    "    return sorted_similarities"
   ]
  },
  {
   "cell_type": "markdown",
   "metadata": {},
   "source": [
    "Now, let's test your functino by using it to compute the top 5 most similar unlinked nodes for \"whisky\" and \"chocolate\". Your output should look like this:\n",
    "```\n",
    "[('whiskey', 'apple cider', 0.25663716814159293),\n",
    " ('whiskey', 'Irish whiskey', 0.24489795918367346),\n",
    " ('whiskey', 'firmly packed light brown sugar', 0.24203821656050956),\n",
    " ('whiskey', 'dark corn syrup', 0.24124513618677043),\n",
    " ('whiskey', 'pitted date', 0.24)]\n",
    "\n",
    "[('chocolate', 'instant espresso powder', 0.2540192926045016),\n",
    " ('chocolate', 'whole almonds', 0.24731182795698925),\n",
    " ('chocolate', 'mexican chocolate', 0.23825503355704697),\n",
    " ('chocolate', 'semi-sweet chocolate morsels', 0.23636363636363636),\n",
    " ('chocolate', 'coffee liqueur', 0.2283464566929134)]\n",
    " ```"
   ]
  },
  {
   "cell_type": "code",
   "execution_count": null,
   "metadata": {},
   "outputs": [],
   "source": [
    "# C8:SanityCheck\n",
    "\n",
    "from pprint import pprint\n",
    "pprint(likely_ingredients(recipe_graph, \"whiskey\")[:5])\n",
    "print()\n",
    "pprint(likely_ingredients(recipe_graph, \"chocolate\")[:5])"
   ]
  },
  {
   "cell_type": "code",
   "execution_count": null,
   "metadata": {},
   "outputs": [],
   "source": [
    "# C8:Inline(1/5)\n",
    "\n",
    "# Do you think this analysis provides information useful for determining\n",
    "# substitutions, constructing new recipe pairings, or both?\n",
    "# Print \"pairings\", \"subsitutions\", or \"both\"\n",
    "print(\"<Your Answer:pairings, substitutions, or both\")"
   ]
  }
 ],
 "metadata": {
  "kernelspec": {
   "display_name": "Python 3 (ipykernel)",
   "language": "python",
   "name": "python3"
  },
  "language_info": {
   "codemirror_mode": {
    "name": "ipython",
    "version": 3
   },
   "file_extension": ".py",
   "mimetype": "text/x-python",
   "name": "python",
   "nbconvert_exporter": "python",
   "pygments_lexer": "ipython3",
   "version": "3.9.12"
  }
 },
 "nbformat": 4,
 "nbformat_minor": 4
}
