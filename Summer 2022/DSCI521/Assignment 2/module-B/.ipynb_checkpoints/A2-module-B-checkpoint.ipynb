{
 "cells": [
  {
   "cell_type": "markdown",
   "metadata": {},
   "source": [
    "## Module submission header\n",
    "### Submission preparation instructions \n",
    "_Completion of this header is mandatory, subject to a 2-point deduction to the assignment._ Only add plain text in the designated areas, i.e., replacing the relevant 'NA's. You must fill out all group member Names and Drexel email addresses in the below markdown list, under header __Module submission group__. It is required to fill out descriptive notes pertaining to any tutoring support received in the completion of this submission under the __Additional submission comments__ section at the bottom of the header. If no tutoring support was received, leave NA in place. You may as well list other optional comments pertaining to the submission at bottom. _Any distruption of this header's formatting will make your group liable to the 2-point deduction._\n",
    "\n",
    "### Module submission group\n",
    "- Group member 1\n",
    "    - Name: Mangesh Raut\n",
    "    - Email: mbr63@drexel.edu\n",
    "- Group member 2\n",
    "    - Name: Josh Clark\n",
    "    - Email: jc4577@drexel.edu\n",
    "- Group member 3\n",
    "    - Name: Mobin Rahimi\n",
    "    - Email: mr3596@drexel.edu\n",
    "- Group member 4\n",
    "    - Name: Will Wu\n",
    "    - Email: ww437@drexel.edu\n",
    "\n",
    "### Additional submission comments\n",
    "- Tutoring support received: NA\n",
    "- Other (other): NA"
   ]
  },
  {
   "cell_type": "markdown",
   "metadata": {},
   "source": [
    "# Assignment group 2: Network and exploratory data analysis"
   ]
  },
  {
   "cell_type": "markdown",
   "metadata": {},
   "source": [
    "## Module B _(64 pts)_ Data Visualization and Interpretation\n",
    "We have two goals for this exercise:\n",
    "    \n",
    "1. Summarization through measures of commonality, centrality, variation, association, and regularity.\n",
    "2. Visualization through succicnt and intuitive representations that allow you to see all of the data.\n",
    "    \n",
    "The dataset we will be using is Philly's employees salary Dataset:\n",
    "\n",
    "- https://www.opendataphilly.org/dataset/employee-salaries-overtime/resource/e97432a2-a6a7-466e-9025-32a1da4b14e5\n",
    "\n",
    "also packaged in the assignment's data directory for conveniience:\n",
    "\n",
    "```\n",
    "./data/employee_salaries.csv\n",
    "```\n",
    "\n",
    "We will be using some native `pandas` and `matplotlib` to summarize and visualize the dataset. Some of the questions expect you to review the lecture notes. There are also some new methods and techniques introduced in this Module. Please feel free to be creative when answering the questions."
   ]
  },
  {
   "cell_type": "markdown",
   "metadata": {},
   "source": [
    "### Note on hypothesis generation\n",
    "We'll start looking at univariate distribution of the columns to understand what is in our dataset, and eventually use biavariate and multivariate analysis to explore existing hypotheses. However, in some instances it's the new hypotheses that arise from these visualizations that are the most insightful!\n",
    "\n",
    "So, as you answer the questions and create visualizations, please make a note any hypotheses or conclusions you can draw from your observations. These visualization methods not only help you understand what is in your data, but also become initial insights in determining the existing relationships that exist between attributes in the data."
   ]
  },
  {
   "cell_type": "markdown",
   "metadata": {},
   "source": [
    "__B1.__ _(2 pts)_ To start, write a function called `read_salaries`, which takes a string argument called `path_to_salaries_json` that contains the path to a json file containing salaries data and loads the dataset with `pandas` into a dataframe."
   ]
  },
  {
   "cell_type": "code",
   "execution_count": 1,
   "metadata": {},
   "outputs": [],
   "source": [
    "#B1:Function(2/2)\n",
    "\n",
    "import pandas as pd\n",
    "\n",
    "def read_salaries(path_to_salaries_csv):\n",
    "    \n",
    "    #--- Your code starts here\n",
    "    df = pd.read_csv('./data/employee_salaries.csv')\n",
    "    #--- Your code ends here\n",
    "    \n",
    "    return df\n"
   ]
  },
  {
   "cell_type": "markdown",
   "metadata": {},
   "source": [
    "To test your function, let's provide it with the path to the `employee_salaries.csv` data and print its `.head()`.\n",
    "\n",
    "Your output should look like this:\n",
    "\n",
    "```\n",
    "   objectid  calendar_year  quarter   last_name first_name  \\\n",
    "0         1           2016        1  CHILIBERTI   ROSEMARY   \n",
    "1         2           2016        1       SMITH       KARI   \n",
    "2         3           2016        1   BRUMSKILL     SANDRA   \n",
    "3         4           2016        1   ALEXANDER   KHADEJAH   \n",
    "4         5           2016        1        HILL       SEAN   \n",
    "\n",
    "                              title                  department  \\\n",
    "0                ADM TECHNICIAN III          COMMON PLEAS COURT   \n",
    "1                 SENIOR CREW CHIEF  MANAGING DIRECTOR'S OFFICE   \n",
    "2             SCHOOL CROSSING GUARD           POLICE DEPARTMENT   \n",
    "3  CLERK TEMPORARY-SUMMER-$7.00/HR.          COMMON PLEAS COURT   \n",
    "4               PROBATION OFFICER 2          COMMON PLEAS COURT   \n",
    "\n",
    "   annual_salary  ytd_overtime_gross  \n",
    "0        50543.0                 0.0  \n",
    "1        34842.0                 0.0  \n",
    "2            0.0                 0.0  \n",
    "3            0.0                 0.0  \n",
    "4        56206.0                 0.0  \n",
    "```"
   ]
  },
  {
   "cell_type": "code",
   "execution_count": 2,
   "metadata": {},
   "outputs": [
    {
     "name": "stdout",
     "output_type": "stream",
     "text": [
      "   objectid  calendar_year  quarter   last_name first_name  \\\n",
      "0         1           2016        1  CHILIBERTI   ROSEMARY   \n",
      "1         2           2016        1       SMITH       KARI   \n",
      "2         3           2016        1   BRUMSKILL     SANDRA   \n",
      "3         4           2016        1   ALEXANDER   KHADEJAH   \n",
      "4         5           2016        1        HILL       SEAN   \n",
      "\n",
      "                              title                  department  \\\n",
      "0                ADM TECHNICIAN III          COMMON PLEAS COURT   \n",
      "1                 SENIOR CREW CHIEF  MANAGING DIRECTOR'S OFFICE   \n",
      "2             SCHOOL CROSSING GUARD           POLICE DEPARTMENT   \n",
      "3  CLERK TEMPORARY-SUMMER-$7.00/HR.          COMMON PLEAS COURT   \n",
      "4               PROBATION OFFICER 2          COMMON PLEAS COURT   \n",
      "\n",
      "   annual_salary  ytd_overtime_gross  \n",
      "0        50543.0                 0.0  \n",
      "1        34842.0                 0.0  \n",
      "2            0.0                 0.0  \n",
      "3            0.0                 0.0  \n",
      "4        56206.0                 0.0  \n"
     ]
    }
   ],
   "source": [
    "# B1:SanityCheck\n",
    "\n",
    "df = read_salaries(\"./data/employee_salaries.csv\")\n",
    "print(df.head())"
   ]
  },
  {
   "cell_type": "markdown",
   "metadata": {},
   "source": [
    "__B2.__ _(3 pts)_ Determine and print 1) the number of times each year is represented by the dataset."
   ]
  },
  {
   "cell_type": "code",
   "execution_count": 3,
   "metadata": {},
   "outputs": [
    {
     "name": "stdout",
     "output_type": "stream",
     "text": [
      "years:  {2016, 2017, 2018}\n",
      "number or years: 3\n",
      "number of departments: 57\n",
      "number of titles: 1965\n"
     ]
    }
   ],
   "source": [
    "# B2:Inline(2/3)\n",
    "\n",
    "# return the number of times each year is represented in the dataset\n",
    "\n",
    "#--- Your code starts here\n",
    "years = set(df['calendar_year'])\n",
    "print('years: ',years)\n",
    "print('number or years:',len(years))\n",
    "dep = set(df['department'])\n",
    "print('number of departments:',len(dep))\n",
    "print('number of titles:',df['title'].nunique())\n",
    "#--- Your code ends here"
   ]
  },
  {
   "cell_type": "code",
   "execution_count": null,
   "metadata": {},
   "outputs": [],
   "source": [
    "# B2:Inline(1/3)\n",
    "\n",
    "# look at the number of time each year was represented in the dataset\n",
    "# and determine which year is most abundantly present\n",
    "# Print your answer as \"2016\", \"2017\", or \"2018\"\n",
    "print(\"<Your Answer: 2016, 2017, or 2018>\")"
   ]
  },
  {
   "cell_type": "markdown",
   "metadata": {},
   "source": [
    "__B3.__ _(2 pts)_ For this assignment, we will restrict to five departments with some of the highest number of employees, but they should be more or less of the same scale to get started. Since the Police Department has three times as many as the other top 6 departments, we'll ignore them (the Police) for now. \n",
    "\n",
    "So, write a function called `get_top5_nonpolice` stores the top 2&ndash;6 `department` strings in a `list` called `top5_nonpolice`."
   ]
  },
  {
   "cell_type": "code",
   "execution_count": null,
   "metadata": {},
   "outputs": [],
   "source": [
    "#B3:Function(2/2)\n",
    "\n",
    "def get_top5_nonpolice(df):\n",
    "    \n",
    "    #--- Your code starts here\n",
    "    \n",
    "    \n",
    "    #--- Your code ends here\n",
    "    \n",
    "    return top5_nonpolice"
   ]
  },
  {
   "cell_type": "markdown",
   "metadata": {},
   "source": [
    "Your output should look like this:\n",
    "\n",
    "```\n",
    "['COMMON PLEAS COURT', 'FIRE DEPARTMENT', 'PHILA. PRISONS', 'WATER DEPARTMENT', 'RECREATION DEPARTMENT']\n",
    "```"
   ]
  },
  {
   "cell_type": "code",
   "execution_count": null,
   "metadata": {},
   "outputs": [],
   "source": [
    "#B3:SanityCheck\n",
    "departments = get_top5_nonpolice(df)\n",
    "print(departments)"
   ]
  },
  {
   "cell_type": "markdown",
   "metadata": {},
   "source": [
    "__B4.__ _(3 pts)_ Next, restrict the data to just those rows corresponding to the departments determined in __B3__ and exhibit how the data have been restricted to just these.\n",
    "\n",
    "Your output should look like:\n",
    "\n",
    "```\n",
    "COMMON PLEAS COURT       28081\n",
    "FIRE DEPARTMENT          28011\n",
    "PHILA. PRISONS           24838\n",
    "WATER DEPARTMENT         23566\n",
    "RECREATION DEPARTMENT    21269\n",
    "Name: department, dtype: int64\n",
    "```\n",
    "\n",
    "[Hint. use your `departments` to create a boolean mask for the rows.]"
   ]
  },
  {
   "cell_type": "code",
   "execution_count": null,
   "metadata": {},
   "outputs": [],
   "source": [
    "# B4:Inline(2/3)\n",
    "\n",
    "#--- Your code starts here\n",
    "\n",
    "\n",
    "#--- Your code ends here\n",
    "\n",
    "#check to see if we have it right\n",
    "print (df['department'].value_counts())"
   ]
  },
  {
   "cell_type": "code",
   "execution_count": null,
   "metadata": {},
   "outputs": [],
   "source": [
    "# B2:Inline(1/3)\n",
    "\n",
    "# look at the number of employees in each of these departments\n",
    "# and determine which department has the least employees:\n",
    "# Print your answer as \"Fire\", \"Water\", or \"Recreation\"\n",
    "print(\"<Your Answer: Fire, Water, or Recreation>\")"
   ]
  },
  {
   "cell_type": "markdown",
   "metadata": {},
   "source": [
    "__B5.__ _(5 pts)_ For our analysis, it may be interesting to have knowledge of employee gender, but these data are not a part of those distributed. So, download the `gender_guesser` module using your package manager of choice, e.g.:\n",
    "```\n",
    ">>> pip install gender_guesser\n",
    "```\n",
    "This module predicts gender based on first name&mdash;read up more about this package (see https://pypi.org/project/gender-guesser/), it can be very useful for feature engineering!\n",
    "\n",
    "Once you've accessed the package's contents, complete the `add_gender_column(df)` function, below. In particular, initialize the `gender_guesser.detector.Detector()` class for case insensitivity (`case_sensitive=False`), and apply the resulting instance's `.get_gender()` method to the `'first_name'` column of the assignment data and combine the `'male'` with `'mostly male'` and `'female'` with the `'mostly female'` output in a new column called `'gender'`."
   ]
  },
  {
   "cell_type": "code",
   "execution_count": null,
   "metadata": {},
   "outputs": [],
   "source": [
    "# B5:Function(3/5)\n",
    "\n",
    "import gender_guesser.detector as gender\n",
    "\n",
    "def add_gender_column(df):\n",
    "    \n",
    "    #--- Your code starts here\n",
    "    \n",
    "\n",
    "    \n",
    "    #--- Your code ends here\n",
    "    \n",
    "    return df"
   ]
  },
  {
   "cell_type": "markdown",
   "metadata": {},
   "source": [
    "For reference, your output should look like:\n",
    "\n",
    "```\n",
    "  first_name  gender\n",
    "0   ROSEMARY  female\n",
    "4       SEAN    male\n",
    "6      LINDA  female\n",
    "8      JAMES    male\n",
    "9      LOUIS    male\n",
    "```"
   ]
  },
  {
   "cell_type": "code",
   "execution_count": null,
   "metadata": {},
   "outputs": [],
   "source": [
    "# B5:SanityCheck\n",
    "\n",
    "df = add_gender_column(df)\n",
    "print(df[['first_name', 'gender']].head())"
   ]
  },
  {
   "cell_type": "markdown",
   "metadata": {},
   "source": [
    "When this is all complete, fill in the `percentages` object with the percent of the dataset now labeled `'male'` and `'female'`, respectively. For reference, your output should look like:\n",
    "\n",
    "```\n",
    "male:  66.95450830836285\n",
    "female:  33.04549169163715\n",
    "```"
   ]
  },
  {
   "cell_type": "code",
   "execution_count": null,
   "metadata": {},
   "outputs": [],
   "source": [
    "# B5:Inline(2/5)\n",
    "\n",
    "percentages = {'male': 0., 'female': 0.}\n",
    "\n",
    "#--- Your code starts here\n",
    "\n",
    "\n",
    "#--- Your code ends here\n",
    "\n",
    "print('male: ', percentages['male'] )\n",
    "print('female: ', percentages['female'])"
   ]
  },
  {
   "cell_type": "markdown",
   "metadata": {},
   "source": [
    "__B6.__ _(2 pts)_ Here, your job is to calculate the distribution of qaurters, i.e., the percentge of the remaining data that fall into the four different values held by the `quarter` column. You should be able to answer if each value actually makes up a 'quarter' of the data, and for reference your output should look like:\n",
    "\n",
    "```\n",
    "1:  26.34159629528739\n",
    "2:  27.29047489330791\n",
    "3:  28.56260782711341\n",
    "4:  17.805320984291292\n",
    "```\n",
    "\n",
    "\\[Hint. You can take a quick look at the distribution by using `.value_counts()` method. This could also be helpful for part __B4__!\\]"
   ]
  },
  {
   "cell_type": "code",
   "execution_count": null,
   "metadata": {},
   "outputs": [],
   "source": [
    "# B6:Inline(2/2)\n",
    "\n",
    "quarter_percentages = {1: 0., 2: 0., 3: 0., 4: 0.}\n",
    "\n",
    "#--- Your code starts here\n",
    "\n",
    "\n",
    "#--- Your code stops here\n",
    "\n",
    "print (\"1: \", quarter_percentages[1])\n",
    "print (\"2: \", quarter_percentages[2])\n",
    "print (\"3: \", quarter_percentages[3])\n",
    "print (\"4: \", quarter_percentages[4])"
   ]
  },
  {
   "cell_type": "markdown",
   "metadata": {},
   "source": [
    "__B7.__ _(7 pts)_ Now, write a function called `barplot(df, column, title, top = 5)`, designed to take a `column` name from the dataframe `df` corresponding to a _categorical_ variable, like `'department'`. This function should create a bar plot for the specified `column`. Make sure your graphs have the proper axis labels and `title` considering of the specified `column`.\n",
    "\n",
    "__Important.__ The `top` argument specifies the number of `top` ocurring categories to display on the bar plot. This makes it possible to select how much of the distribution to observe!\n",
    "\n",
    "\\[Hint. Use the dataframe `.value_counts()` and `.head()` methods for convenience!\\]"
   ]
  },
  {
   "cell_type": "code",
   "execution_count": null,
   "metadata": {},
   "outputs": [],
   "source": [
    "# B7:Function(5/7)\n",
    "\n",
    "import matplotlib.pyplot as plt\n",
    "\n",
    "def barplot(df, column, title, top = 5):\n",
    "    \n",
    "    ## It's width by height, so let's make this one wide!\n",
    "    fig = plt.figure(figsize = (8, 4))\n",
    "\n",
    "    #--- Your code starts here\n",
    "    \n",
    "    \n",
    "    #--- Your code ends here\n",
    "\n",
    "    ## Set the tick and label fontsize\n",
    "    plt.tick_params(labelsize = 15)\n",
    "\n",
    "    ## Set the title\n",
    "    _ = plt.title(title, fontsize = 15)\n",
    "\n",
    "    ## Set the x,y-labels\n",
    "    _ = plt.xticks(rotation = 'vertical', fontsize = 13)\n",
    "    _ = plt.ylabel(\"Number of employees\", fontsize = 13)\n",
    "    \n",
    "    return fig"
   ]
  },
  {
   "cell_type": "markdown",
   "metadata": {},
   "source": [
    "When this is complete, test your function's ability on the `'title'` column of the dataset. The resulting figure should look like this:\n",
    "\n",
    "![Expected Output](img/b7-expected-output.png)"
   ]
  },
  {
   "cell_type": "code",
   "execution_count": null,
   "metadata": {},
   "outputs": [],
   "source": [
    "# B7:SanityCheck\n",
    "\n",
    "fig = barplot(df, 'title', \"Titles\", top = 10)"
   ]
  },
  {
   "cell_type": "code",
   "execution_count": null,
   "metadata": {},
   "outputs": [],
   "source": [
    "# B7:Inline(2/7)\n",
    "\n",
    "# Which position title was more abundant:\n",
    "# Correctional Officer or Sergeant?\n",
    "print(\"<Your Answer: Officer or Sergeant>\")"
   ]
  },
  {
   "cell_type": "markdown",
   "metadata": {},
   "source": [
    "__B8.__ _(5 pts)_ Here, we'll do the same thing but now for histograms and the numeric columns. In particular, write a function called `histogram(df, column, title)`, designed to take a `column` name from the dataframe `df` corresponding to a _numeric_ variable, like `'annual_salary'`. This function should create a histogram for the specified `column`. \n",
    "\n",
    "Make sure your graph uses `plt.title` on the `title` column in considering the specified `column`."
   ]
  },
  {
   "cell_type": "code",
   "execution_count": null,
   "metadata": {},
   "outputs": [],
   "source": [
    "# B8:Function(3/5)\n",
    "\n",
    "def histogram(df, column, title):\n",
    "    ## It's width by height, so let's make this one wide!\n",
    "    fig = plt.figure(figsize = (8, 4))\n",
    "\n",
    "    #--- Your code starts here\n",
    "    \n",
    "    \n",
    "    #--- Your code ends here\n",
    "    \n",
    "    ## Set the tick and label fontsize\n",
    "    plt.tick_params(labelsize = 15)\n",
    "\n",
    "    ## Set the x,y-labels\n",
    "    _ = plt.xticks(fontsize = 13)\n",
    "    _ = plt.ylabel(\"Number of employees\", fontsize = 13)\n",
    "    \n",
    "    return fig"
   ]
  },
  {
   "cell_type": "markdown",
   "metadata": {},
   "source": [
    "When this is complete, exhibit your functions output on the `'annual_salary'` column. Your output should look like:\n",
    "\n",
    "![Expected Output](img/b8-expected-output.png)"
   ]
  },
  {
   "cell_type": "code",
   "execution_count": null,
   "metadata": {},
   "outputs": [],
   "source": [
    "# B8:SanityCheck\n",
    "\n",
    "fig = histogram(df, 'annual_salary', \"Annual salaries\")"
   ]
  },
  {
   "cell_type": "code",
   "execution_count": null,
   "metadata": {},
   "outputs": [],
   "source": [
    "# B8:Inline(2/5)\n",
    "\n",
    "# Does $100,000 salary appear to be above or below \n",
    "# the distribution center, e.g., above or below the mean/median?\n",
    "print(\"<Your Answer: Above or Below>\")"
   ]
  },
  {
   "cell_type": "markdown",
   "metadata": {},
   "source": [
    "__B9.__ _(2 pts)_ Next up, let's investigate the `\"annual_salary\"` column a bit further. Specifically, let's look at a boxplot of this column using `matplotlib.pyplot.plot.boxplot` as in the Chapter 3 notes. \n",
    "\n",
    "For reference, your output should look like:\n",
    "\n",
    "![Expected Output](img/b9-expected-output.png)"
   ]
  },
  {
   "cell_type": "code",
   "execution_count": null,
   "metadata": {},
   "outputs": [],
   "source": [
    "# B9:Inline(1/2)\n",
    "\n",
    "fig = plt.figure(figsize = (6, 6))\n",
    "\n",
    "#--- Your code starts here\n",
    "\n",
    "\n",
    "\n",
    "#--- Your code ends ehre\n",
    "\n",
    "_ = plt.ylabel(\"Annual Salary\", fontsize = 13)\n",
    "_ = plt.xlabel(\"\", fontsize = 13)\n",
    "_ = plt.xticks(fontsize = 0)"
   ]
  },
  {
   "cell_type": "markdown",
   "metadata": {},
   "source": [
    "Now describe what you see!"
   ]
  },
  {
   "cell_type": "code",
   "execution_count": null,
   "metadata": {},
   "outputs": [],
   "source": [
    "# B9:Inline(1/2)\n",
    "\n",
    "# Are there more high or low outliers in the distribution?\n",
    "print(\"<Your Answer: High or Low>\")"
   ]
  },
  {
   "cell_type": "markdown",
   "metadata": {},
   "source": [
    "__B10.__ _(3 pts)_ Now that we can see the outliers, use the `np.percentile()` function and boolean masks to identify which employees have _high_ outlier salaries. Supposing $IQR$ refers to the size of the interquartile range of this column, utilize the boxplot visualization's criterion for 'outlier':\n",
    "\n",
    "- Outlier: a point that falls $1.5$ times an $IQR$ distance _above_ the 3rd quartile.\n"
   ]
  },
  {
   "cell_type": "code",
   "execution_count": null,
   "metadata": {},
   "outputs": [],
   "source": [
    "# B10:Inline(2/3)\n",
    "\n",
    "import numpy as np\n",
    "\n",
    "#--- Your code starts here\n",
    "\n",
    "\n",
    "\n",
    "#--- Your code ends here\n"
   ]
  },
  {
   "cell_type": "markdown",
   "metadata": {},
   "source": [
    "When this is complete, use this boolean mask on the dataframe to print the `.head()` of our outlier employees and see what they do, earn, etc. For reference, your output should look like:\n",
    "\n",
    "```\n",
    "     first_name                                title  annual_salary  gender\n",
    "125       GLENN             CHIEF COMPLIANCE OFFICER       116860.0    male\n",
    "140    JEREMIAH                  DEPUTY COMMISSIONER       132911.0    male\n",
    "287    ROSEANNE                              CHIEF 1       104575.0  female\n",
    "295     MICHAEL        FIRE PARAMEDIC SERVICES CHIEF       106654.0    male\n",
    "369       DAVID                  DEPUTY COMMISSIONER       127506.0    male\n",
    "461     RICHARD        FIRE PARAMEDIC SERVICES CHIEF       106654.0    male\n",
    "558      ROBERT           DEPUTY PRISON COMMISSIONER       121044.0    male\n",
    "759     PATRICK                    FIRE DEPUTY CHIEF       117081.0    male\n",
    "882     MICHAEL  WATER ENGINEERING ASSISTANT MANAGER       110345.0    male\n",
    "1000     JOSEPH                 FIRE BATTALION CHIEF       104922.0    male\n",
    "```"
   ]
  },
  {
   "cell_type": "code",
   "execution_count": null,
   "metadata": {},
   "outputs": [],
   "source": [
    "# B10:SanityCheck\n",
    "\n",
    "print(df[outlier_salaries][['first_name', 'title', 'annual_salary', 'gender']].head(10))"
   ]
  },
  {
   "cell_type": "code",
   "execution_count": null,
   "metadata": {},
   "outputs": [],
   "source": [
    "# B10:Inline(1/3)\n",
    "\n",
    "# Review your output, do there appear to be \n",
    "# more higher-earning males or females in the data?\n",
    "print(\"<Your Answer: Males or Females>\")"
   ]
  },
  {
   "cell_type": "markdown",
   "metadata": {},
   "source": [
    "__B11.__ (5 pts) Now that we've got a sense of the outliers, let's see if we can up our visualization game. Both the boxplot and histogram provide different information on the structure of the distribution of salaries. It would be great if we could compare these! However, the best comparison will occur if the box is rotated and placed below the histogram so that the location of box, whiskers, etc. falls along (parallel to) the x-axis of the histogram.\n",
    "\n",
    "In particular, use the `ax = fig.add_subplot(num_rows, num_cols, panel_number)` method on a figure object (the output of `plt.figure()`) to create different axes for the boxplot and histogram, taking care to label axes as needed. \n",
    "\n",
    "Be sure that your boxplot should be displayed sideways and appear below the histogram using `vert=False` and additionally, please use `bins = 25` for your histogram. For reference, your output should look like:\n",
    "\n",
    "![Expected Output](img/b11-expected-output.png)"
   ]
  },
  {
   "cell_type": "code",
   "execution_count": null,
   "metadata": {},
   "outputs": [],
   "source": [
    "# B11:Inline(4/5)\n",
    "\n",
    "fig = plt.figure(figsize = (8, 4))\n",
    "\n",
    "#--- Your code starts here\n",
    "\n",
    "\n",
    "#--- Your code ends here"
   ]
  },
  {
   "cell_type": "code",
   "execution_count": null,
   "metadata": {},
   "outputs": [],
   "source": [
    "# B11:Inline(1/5)\n",
    "\n",
    "# Reviewing this alignment of figures, are there actually\n",
    "# low-paid outliers at the bottom or are they volunteers,\n",
    "# i.e., have a categorically different relationship to 'wage'\n",
    "print(\"<Your Answer: Outlier or Volunteer>\")"
   ]
  },
  {
   "cell_type": "markdown",
   "metadata": {},
   "source": [
    "__B12.__ _(5 pts)_ Notice that while we know how much the employees earned in gross overtime, it's not entirely clear which individuals have actually _worked_ the most overtime hours. According to [a government guideline](https://www.opm.gov/policy-data-oversight/pay-leave/pay-administration/fact-sheets/computing-hourly-rates-of-pay-using-the-2087-hour-divisor/):\n",
    "\n",
    "> Hourly rates of basic pay are computed by dividing an employee's annual rate of basic pay by 2087 hours.\n",
    "\n",
    "So, using the assumption that overtime hours are payed out at $1.5$ times an employee's annual salary, complete the `add_overtime` function to compute the number of overtime hours worked by each employee in the dataset and store this in the dataframe under a new column called `'ytd_overtime_gross_hours'`. Be sure to handle remove any NAs or Infs from the result!\n",
    "\n",
    "\\[Hint. Assuming these individuals _do_ work full time hours, how many overtime hours _could_ an individual _actually_ work in a year?\\] "
   ]
  },
  {
   "cell_type": "code",
   "execution_count": null,
   "metadata": {},
   "outputs": [],
   "source": [
    "# B12:Function(3/5)\n",
    "\n",
    "def add_overtime(df):\n",
    "\n",
    "    #--- Your code starts here\n",
    "\n",
    "\n",
    "\n",
    "    #--- Your code ends here\n",
    "    \n",
    "    return df"
   ]
  },
  {
   "cell_type": "markdown",
   "metadata": {},
   "source": [
    "When this is complete, print the `.head(10)` of your resulting dataframe on the following columns:\n",
    "\n",
    "- `columns = [\"annual_salary\", \"ytd_overtime_gross\", \"overtime_hours\"]`\n",
    "\n",
    "and sort by the new `\"overtime_hours\"` column in descending order. For reference, your output should look like:\n",
    "\n",
    "```\n",
    "        annual_salary  ytd_overtime_gross  overtime_hours\n",
    "256043         3715.0            15373.20     5757.535828\n",
    "202438         3715.0            13442.91     5034.608016\n",
    "330139         3808.0             8884.70     3246.213043\n",
    "277171         3715.0             8438.10     3160.217981\n",
    "242361        47196.0            97221.21     2866.071493\n",
    "113170         3607.0             7222.53     2785.956956\n",
    "113697        47196.0            92005.08     2712.300505\n",
    "324361         7459.0            13522.89     2522.435664\n",
    "245009        47196.0            83196.27     2452.617672\n",
    "242768        47310.0            82181.65     2416.868929\n",
    "```"
   ]
  },
  {
   "cell_type": "code",
   "execution_count": null,
   "metadata": {},
   "outputs": [],
   "source": [
    "# B12:SanityCheck\n",
    "\n",
    "df = add_overtime(df)\n",
    "columns = [\"annual_salary\", \"ytd_overtime_gross\", \"overtime_hours\"]\n",
    "print(df[columns].sort_values(by = 'overtime_hours', ascending = False).head(10))"
   ]
  },
  {
   "cell_type": "code",
   "execution_count": null,
   "metadata": {},
   "outputs": [],
   "source": [
    "# B12:Inline(2/5)\n",
    "\n",
    "# Consider that if not all employees are 'full time', that their computed\n",
    "# overtime_hours will likely be incorrect, even if they gross overtime!\n",
    "# So if some top-overtime-earning employees are 'part time', the results\n",
    "# will not actually be a correct representation of how much overtime\n",
    "# the different employees worked. Do you think the top employee's (df index 256043)\n",
    "# calculated overtime hours are represented correctly or incorrectly?\n",
    "print(\"<Your Answer: Correct or Incorrect>\")"
   ]
  },
  {
   "cell_type": "markdown",
   "metadata": {},
   "source": [
    "__B13.__ _(5 pts)_ Our overall interest may be to understand the `'annual_salaries'` column, and one avenue towards understanding this variable is through exploration of relationships with the others. So here's one question we might ask:\n",
    "        \n",
    "- Do employees who work overtime have higher salaries? If so how much?\n",
    "\n",
    "To approach this question, complete the `compare_salary_overtime` function by making a scatter plot between these columns and labeling it with their correlation (using `scipy.stats.pearsonr` and rounding to two decimal places). Be sure to accomadate for density (use `alpha = 0.01` and marker size: `s = 3`) in the picture as you interpret. "
   ]
  },
  {
   "cell_type": "code",
   "execution_count": null,
   "metadata": {},
   "outputs": [],
   "source": [
    "# B13:Function(3/5)\n",
    "\n",
    "import scipy.stats\n",
    "\n",
    "# print(scipy.stats.pearsonr(df['annual_salary'], df['ytd_overtime_gross']))\n",
    "\n",
    "def compare_salary_overtime(df):\n",
    "    fig = plt.figure(figsize = (6, 6))\n",
    "\n",
    "    #--- Your code starts here\n",
    "    \n",
    "\n",
    "\n",
    "    #--- Your code ends here\n",
    "    \n",
    "    ## Set the tick and label fontsize\n",
    "    plt.tick_params(labelsize = 13)\n",
    "\n",
    "    ## Set the title and legend\n",
    "    _ = plt.title(\"Annual salary vs. gross overtime pay\", fontsize = 13)\n",
    "    _ = plt.legend(fontsize = 13)\n",
    "\n",
    "    ## Set the x,y-labels\n",
    "    _ = plt.xlabel('Annual salary', fontsize = 13)\n",
    "    _ = plt.ylabel(\"Gross overtime\", fontsize = 13)\n",
    "    \n",
    "    return fig"
   ]
  },
  {
   "cell_type": "markdown",
   "metadata": {},
   "source": [
    "When this is complete, discuss any relationship that you see (or don't) between the columns in the response box below. For reference, your output should look like:\n",
    "\n",
    "![Expected Output](img/b13-expected-output.png)"
   ]
  },
  {
   "cell_type": "code",
   "execution_count": null,
   "metadata": {},
   "outputs": [],
   "source": [
    "# B13:SanityCheck\n",
    "\n",
    "fig = compare_salary_overtime(df)"
   ]
  },
  {
   "cell_type": "code",
   "execution_count": null,
   "metadata": {},
   "outputs": [],
   "source": [
    "# B13:Inline(2/5)\n",
    "\n",
    "# Reviewing the output, do the high-outlier salary earners\n",
    "# appear to be working more or less overtime than the non-outliers?\n",
    "print(\"<Your Answer: More or Less>\")"
   ]
  },
  {
   "cell_type": "markdown",
   "metadata": {},
   "source": [
    "__B14.__ _(5 pts)_ Now let's explore another hypothesis&mdash;that gender affects to pay. It will be good to  compare similarly-sized groups, so first group the rows by both `'gender'` and `'title'` to observe the gender ratios. \n",
    "\n",
    "In particular, use the `.groupby(column_list)` method to create generator of grouped rows. Using the `column_list = ['gender', 'title']` argument will allow extraction of two groups (one for each gender) with a matching `'title'`. "
   ]
  },
  {
   "cell_type": "code",
   "execution_count": null,
   "metadata": {},
   "outputs": [],
   "source": [
    "# B14:Function(3/5)\n",
    "def extract_comparison_groups(df, title):\n",
    "    \n",
    "    #--- Your code starts here\n",
    "\n",
    "    \n",
    "    \n",
    "    #--- Your code ends here\n",
    "    \n",
    "    return males, females"
   ]
  },
  {
   "cell_type": "markdown",
   "metadata": {},
   "source": [
    "Now, reviewing the results for the `'CORRECTIONAL OFFICER'` title, store the two resulting groups as `males` and `females` dataframes, and print the `.head()` of each. For reference, your output should look like:\n",
    "\n",
    "```\n",
    "      annual_salary  ytd_overtime_gross  overtime_hours\n",
    "6851        40420.0             1744.89       60.062435\n",
    "6949        41658.0             5376.59      179.572444\n",
    "7025        46042.0             4702.67      142.108977\n",
    "7067        45821.0             3668.93      111.405351\n",
    "7094        40420.0             8146.82      280.429051\n",
    "      annual_salary  ytd_overtime_gross  overtime_hours\n",
    "6868        45711.0             2194.46       66.794105\n",
    "6952        46042.0              862.20       26.054637\n",
    "6986        45711.0             6016.95      183.141544\n",
    "7007        46042.0             4430.94      133.897627\n",
    "7055        40420.0             1761.84       60.645886\n",
    "```"
   ]
  },
  {
   "cell_type": "code",
   "execution_count": null,
   "metadata": {},
   "outputs": [],
   "source": [
    "# B14:SanityCheck\n",
    "title = \"CORRECTIONAL OFFICER\"\n",
    "\n",
    "males, females = extract_comparison_groups(df, title)\n",
    "        \n",
    "print(females[columns].head())\n",
    "print(males[columns].head())"
   ]
  },
  {
   "cell_type": "code",
   "execution_count": null,
   "metadata": {},
   "outputs": [],
   "source": [
    "# B14:Inline(2/5)\n",
    "\n",
    "# Reviewing the output, which of the two categories,\n",
    "# male or femal, exhibits more employees earning \n",
    "# above $45,000 per year?\n",
    "print(\"<Your Answer: Male or Female>\")"
   ]
  },
  {
   "cell_type": "markdown",
   "metadata": {},
   "source": [
    "__B15.__ (2 pts) determine if there is a difference between your male and female salaries on average. For reference, your output should look like:\n",
    "\n",
    "```\n",
    "females:  46594.41814439519 males:  46336.176814199054\n",
    "```"
   ]
  },
  {
   "cell_type": "code",
   "execution_count": null,
   "metadata": {},
   "outputs": [],
   "source": [
    "# B15:Inline(1/2)\n",
    "\n",
    "females_average = 0.\n",
    "males_average = 0.\n",
    "\n",
    "#--- Your code starts here\n",
    "\n",
    "\n",
    "\n",
    "#--- Your code ends ehre\n",
    "\n",
    "print('females: ', females_average, 'males: ', males_average)"
   ]
  },
  {
   "cell_type": "code",
   "execution_count": null,
   "metadata": {},
   "outputs": [],
   "source": [
    "# B15:Inline(1/2)\n",
    "\n",
    "# Does it appear from the averages that there is a\n",
    "# advantage to being male for a Correctional Officer's salary?\n",
    "print(\"<Your Answer: Yes or No>\")"
   ]
  },
  {
   "cell_type": "markdown",
   "metadata": {},
   "source": [
    "__B16.__ (3 pts) That's a lot of work still to compare two means, and there's a lot of different titles to compare. Grouping `'gender'` against a single other `'title'` is just a comparison of `'gender'` against a single `'title'` category, as opposed to the generalization of comparing `'gender'` across _all_ of the categories in the `'title'` column for the `'annual_salary'` value. It turns out, `pandas` has some very convenient utility for this with the `pd.pivot_table()` function:\n",
    "\n",
    "- ```df.pivot_table(columns = cols, aggfunc = aggfuncs)```\n",
    "\n",
    "Here, `cols` will be our two categorical columns to compare and we'll use `aggfuncs = ['mean', 'std', 'count']`. Using this, apply the `pd.pivot_table()` function to the `'title'` and `'gender'` columns.\n",
    "\n",
    "After you run the `pd.pivot_table()` function store the resulting dataframe as `avg_salary_gender_v_title`, and prinit/interpret the first two professions listed. Your output should look like:\n",
    "\n",
    "```\n",
    "title         ACCOUNT CLERK               ACCOUNTANT              \n",
    "gender               female       male        female          male\n",
    "annual_salary  37066.805755  37932.625  50256.363636  54909.823529 \n",
    "\n",
    "title         ACCOUNT CLERK                ACCOUNTANT             \n",
    "gender               female         male       female         male\n",
    "annual_salary    1967.68908  1964.854325  4761.705402  8940.140503 \n",
    "\n",
    "title         ACCOUNT CLERK      ACCOUNTANT     \n",
    "gender               female male     female male\n",
    "annual_salary           139   16         22   34 \n",
    "```"
   ]
  },
  {
   "cell_type": "code",
   "execution_count": null,
   "metadata": {},
   "outputs": [],
   "source": [
    "# B16:Inline(2/3)\n",
    "\n",
    "pivot_df = df[['annual_salary', 'title', 'gender']]\n",
    "#--- Your code starts here\n",
    "\n",
    "\n",
    "#--- Your code ends here\n",
    "\n",
    "print(avg_salary_gender_v_title['mean'].iloc[:,:4], \"\\n\")\n",
    "print(avg_salary_gender_v_title['std'].iloc[:,:4], \"\\n\")\n",
    "print(avg_salary_gender_v_title['count'].iloc[:,:4], \"\\n\")"
   ]
  },
  {
   "cell_type": "code",
   "execution_count": null,
   "metadata": {},
   "outputs": [],
   "source": [
    "# B16:Inline(1/3)\n",
    "\n",
    "# Reviewing the two positions, which appears to exhibit\n",
    "# more of a gender impalance in annual_salary?\n",
    "print(\"<Your Answer: Account Clerk or Accountant>\")"
   ]
  },
  {
   "cell_type": "markdown",
   "metadata": {},
   "source": [
    "__B17.__ (3 pts) Finally, your job here is to explore the of the 25 `'title'`s with largest difference in average pay between genders using `avg_salary_gender_v_title` dataframe.\n",
    "\n",
    "Next, compute the `male - female` differences, by title and sort by absolute values. Since the `avg_salary_gender_v_title` object is multi-indexed by `(gender, title)` tuples, the collection of common `titles` that exhibit support from both genders has to be determined. Use this to construct an aligned `salary_differences` list which contains numerical `male - female` values for each title. Use this to sort a list of `(salary_difference, title)` tuples of from high-to-low by absolute value (use the `zip()` function within a `sorted()` operation). Note: you must still leave the differences unchanged (positive and negative values) by using the `key` argument to `sorted()` and a `lambda` function."
   ]
  },
  {
   "cell_type": "code",
   "execution_count": null,
   "metadata": {},
   "outputs": [],
   "source": [
    "# B17:Inline(2/3)\n",
    "\n",
    "male_titles = [x[0] for x in avg_salary_gender_v_title['mean'].columns if 'male' in x]\n",
    "female_titles = [x[0] for x in avg_salary_gender_v_title['mean'].columns if 'female' in x]\n",
    "\n",
    "titles = [x for x in set(male_titles + female_titles) \n",
    "          if (x, 'male') in avg_salary_gender_v_title['mean'].columns and\n",
    "             (x, 'female') in avg_salary_gender_v_title['mean'].columns]\n",
    "\n",
    "#--- Your code starts here\n",
    "\n",
    "\n",
    "#--- your code ends here"
   ]
  },
  {
   "cell_type": "markdown",
   "metadata": {},
   "source": [
    "When complete, review your output for the `top_10` most disproportional titles. The outpus should be:\n",
    "\n",
    "```\n",
    "[(42760.0, 'LABOR,PROCUREMENT & LITIGATION ATTORNEY'),\n",
    " (-22430.79876160991, 'RECREATION ATTENDANT'),\n",
    " (-20169.318181818177, 'SENIOR ACCOUNTANT'),\n",
    " (17855.993788819876, 'CLERICAL ASSISTANT'),\n",
    " (13753.545454545456, 'PARKS OPERATIONS DIRECTOR'),\n",
    " (-11580.833333333332, 'GRADUATE INTERN'),\n",
    " (10389.63636363636, 'CHIEF FIRE EQUIPMENT DISPATCHER'),\n",
    " (-9821.546153846153, 'PARKS & RECREATION OPERATIONS MANAGER'),\n",
    " (-9776.0, 'ADMINISTRATIVE TRAINEE 2'),\n",
    " (9180.199999999997, 'ACCOUNTING SUPERVISOR')]\n",
    "```"
   ]
  },
  {
   "cell_type": "code",
   "execution_count": null,
   "metadata": {},
   "outputs": [],
   "source": [
    "# B17:SanityCheck\n",
    "\n",
    "top_10 = salary_differences[:10]\n",
    "top_10"
   ]
  },
  {
   "cell_type": "code",
   "execution_count": null,
   "metadata": {},
   "outputs": [],
   "source": [
    "# B17:Inline(1/3)\n",
    "\n",
    "# Which title most disproportionately favors females.\n",
    "# Choose one of: 'GRADUATE INTERN', 'ACCOUNTING SUPERVISOR', or 'CLERICAL ASSISTANT'\n",
    "print(\"<Your Answer: GRADUATE INTERN, ACCOUNTING SUPERVISOR, or CLERICAL ASSISTANT>\")"
   ]
  },
  {
   "cell_type": "markdown",
   "metadata": {},
   "source": [
    "__B18.__ _(2 pts)_ Finally, take your `top_10` largest-difference `'title'`s and display them using a side-by-side barplot. To conveniently do this, we can use the `.plot(kind = 'bar')` on a data frame with `male` and `female` columns, with the average salary for each in each row. Name this dataframe `bar_df` and print the its head to review. For reference, this should look like:\n",
    "```\n",
    "                                                  male        female\n",
    "LABOR,PROCUREMENT & LITIGATION ATTORNEY  116860.000000  74100.000000\n",
    "RECREATION ATTENDANT                       4708.411765  27139.210526\n",
    "SENIOR ACCOUNTANT                         54983.000000  75152.318182\n",
    "CLERICAL ASSISTANT                        23797.428571   5941.434783\n",
    "PARKS OPERATIONS DIRECTOR                108890.363636  95136.818182\n",
    "```"
   ]
  },
  {
   "cell_type": "code",
   "execution_count": null,
   "metadata": {},
   "outputs": [],
   "source": [
    "# B18:Inline(1/2)\n",
    "\n",
    "# gather the top-10 most disproportional salaries\n",
    "male_salaries = [avg_salary_gender_v_title['mean'][(x[1], 'male')] for x in top_10]\n",
    "female_salaries = [avg_salary_gender_v_title['mean'][(x[1], 'female')] for x in top_10]\n",
    "\n",
    "#--- Your code starts here\n",
    "\n",
    "\n",
    "#--- Your code ends here\n",
    "\n",
    "print(bar_df.head())"
   ]
  },
  {
   "cell_type": "markdown",
   "metadata": {},
   "source": [
    "Now utilize the dataframe you've constructed to make a grouped bar plot exhibiting the average salaries for the top ten most disporportionate positions.\n",
    "\n",
    "In particular, use the dataframe `.plot()` method, since this `pandas` method for a barplot is really just wrapping `matplotlib`'s `pyplot`. This means we can use `pyplot`/`matpltlib` (proper) commands for many things like the `plt.title()`, but to make the figure size nice we have the pass the `figsize=(x_inches,y_inches)` argument to the dataframe `.plot()` method. So, as is necessary make this visualization look nice to ease your discussion (above)!\n",
    "\n",
    "For reference, your output should be:\n",
    "\n",
    "![Expected Output](img/b18-expected-output.png)"
   ]
  },
  {
   "cell_type": "code",
   "execution_count": null,
   "metadata": {},
   "outputs": [],
   "source": [
    "# B18:SanityCheck\n",
    "\n",
    "bar_df.plot(kind = 'bar', figsize=(8,4))\n",
    "\n",
    "_ = plt.ylabel('Average salary of employees')\n",
    "_ = plt.title('Top 10 most gender-disproportionate titles\\n by annual salary, City of Philadelphia')"
   ]
  },
  {
   "cell_type": "code",
   "execution_count": null,
   "metadata": {},
   "outputs": [],
   "source": [
    "# B18:Inline(1/2)\n",
    "\n",
    "# Upon reviewing your output, consider if all positions with large gender-based differences\n",
    "# appear to reflect full-time positions, and hence disproportionality. In particular, \n",
    "# assume low annual wages reflect part-time work. \n",
    "# Finally, considering this does the `'RECREATION ATTENDANT'` position\n",
    "# likely exhibit an undue social gender imbalance?\n",
    "\n",
    "print(\"<Your Answer: Yes, or No>\")"
   ]
  },
  {
   "cell_type": "code",
   "execution_count": null,
   "metadata": {},
   "outputs": [],
   "source": []
  }
 ],
 "metadata": {
  "kernelspec": {
   "display_name": "Python 3 (ipykernel)",
   "language": "python",
   "name": "python3"
  },
  "language_info": {
   "codemirror_mode": {
    "name": "ipython",
    "version": 3
   },
   "file_extension": ".py",
   "mimetype": "text/x-python",
   "name": "python",
   "nbconvert_exporter": "python",
   "pygments_lexer": "ipython3",
   "version": "3.9.12"
  }
 },
 "nbformat": 4,
 "nbformat_minor": 4
}
