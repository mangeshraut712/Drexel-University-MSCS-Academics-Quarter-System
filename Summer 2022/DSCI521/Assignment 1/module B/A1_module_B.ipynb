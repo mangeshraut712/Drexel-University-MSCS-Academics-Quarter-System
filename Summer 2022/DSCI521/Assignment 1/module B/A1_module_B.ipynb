{
  "cells": [
    {
      "cell_type": "markdown",
      "metadata": {
        "id": "ES2_FYF08R0u"
      },
      "source": [
        "## Module submission header\n",
        "### Submission preparation instructions \n",
        "_Completion of this header is mandatory, subject to a 2-point deduction to the assignment._ Only add plain text in the designated areas, i.e., replacing the relevant 'NA's. You must fill out all group member Names and Drexel email addresses in the below markdown list, under header __Module submission group__. It is required to fill out descriptive notes pertaining to any tutoring support received in the completion of this submission under the __Additional submission comments__ section at the bottom of the header. If no tutoring support was received, leave NA in place. You may as well list other optional comments pertaining to the submission at bottom. _Any distruption of this header's formatting will make your group liable to the 2-point deduction._\n",
        "\n",
        "### Module submission group\n",
        "- Group member 1\n",
        "    - Name: Mangesh Raut\n",
        "    - Email: mbr63@drexel.edu\n",
        "- Group member 2\n",
        "    - Name: Josh Clark\n",
        "    - Email: jc4577@drexel.edu\n",
        "- Group member 3\n",
        "    - Name: Mobin Rahimi\n",
        "    - Email: mr3596@drexel.edu\n",
        "- Group member 4\n",
        "    - Name: Will Wu\n",
        "    - Email: ww437@drexel.edu\n",
        "\n",
        "### Additional submission comments\n",
        "- Tutoring support received: NA\n",
        "- Other (other): NA"
      ]
    },
    {
      "cell_type": "markdown",
      "metadata": {
        "id": "nV-hJA3_8R0x"
      },
      "source": [
        "# Assignment group 1: Textual feature extraction and numerical comparison"
      ]
    },
    {
      "cell_type": "markdown",
      "metadata": {
        "id": "bct2fim18R0x"
      },
      "source": [
        "## Module B _(35 points)_ Key word in context\n",
        "\n",
        "Key word in context (KWiC) is a common format for concordance lines, i.e., contextualized instances of principal words used in a book. More generally, KWiC is essentially the concept behind the utility of 'find in page' on document viewers and web browsers. This module builds up a KWiC utility for finding key word-containing sentences, and 'most relevant' paragraphs, quickly.\n",
        "\n",
        "__B1.__ _(3 points)_ Start by writing a function called `load_book` that reads in a book based on a provided `book_id` string and returns a list of `paragraphs` from the book. When book data is loaded, you should remove the space characters at the beginning and end of the text (e.g., using `strip()`). Then, to split books into paragraphs, use the `re.split()` method to split the input in cases where there are two or more new lines. Note, that books are in the provided `data/books` directory.\n",
        "\n",
        "Note: this module is not focused on text pre-processing beyond a split into paragraphs; you do _not_ need to remove markup or non-substantive content."
      ]
    },
    {
      "cell_type": "code",
      "execution_count": 1,
      "metadata": {
        "id": "5qAz78Ea8R0y"
      },
      "outputs": [],
      "source": [
        "# B1:Function(3/3)\n",
        "\n",
        "import re\n",
        "\n",
        "def load_book(book_id):\n",
        "    \n",
        "    #---Your code start here---\n",
        "    file_path = './data/books/' + book_id +'.txt'\n",
        "    book = open(file_path, 'r').read().strip()\n",
        "    paragraphs = re.split('\\n\\n+', book) \n",
        "    #---Your code ends here---\n",
        "    \n",
        "    return paragraphs"
      ]
    },
    {
      "cell_type": "markdown",
      "metadata": {
        "id": "6LMyn3ix8R0z"
      },
      "source": [
        "To test your function, lets apply it to look at a few paragraphs from book 84."
      ]
    },
    {
      "cell_type": "code",
      "execution_count": 2,
      "metadata": {
        "id": "5i55BlC48R0z",
        "colab": {
          "base_uri": "https://localhost:8080/"
        },
        "outputId": "15004389-3f42-4ebc-c61d-43082b8655f4"
      },
      "outputs": [
        {
          "output_type": "stream",
          "name": "stdout",
          "text": [
            "723\n",
            "These reflections have dispelled the agitation with which I began my\n",
            "letter, and I feel my heart glow with an enthusiasm which elevates me\n",
            "to heaven, for nothing contributes so much to tranquillize the mind as\n",
            "a steady purpose--a point on which the soul may fix its intellectual\n",
            "eye.  This expedition has been the favourite dream of my early years. I\n",
            "have read with ardour the accounts of the various voyages which have\n",
            "been made in the prospect of arriving at the North Pacific Ocean\n",
            "through the seas which surround the pole.  You may remember that a\n",
            "history of all the voyages made for purposes of discovery composed the\n",
            "whole of our good Uncle Thomas' library.  My education was neglected,\n",
            "yet I was passionately fond of reading.  These volumes were my study\n",
            "day and night, and my familiarity with them increased that regret which\n",
            "I had felt, as a child, on learning that my father's dying injunction\n",
            "had forbidden my uncle to allow me to embark in a seafaring life.\n"
          ]
        }
      ],
      "source": [
        "# B1:SanityCheck\n",
        "paragraphs = load_book('84')\n",
        "print(len(paragraphs))\n",
        "print(paragraphs[10])\n"
      ]
    },
    {
      "cell_type": "markdown",
      "metadata": {
        "id": "YgchJBhU8R0z"
      },
      "source": [
        "__B2.__ _(10 points)_ Next, write a function called `kwic(paragraphs, search_terms)` that accepts a list of string `paragraphs` and a set of `search_term` strings. The function should:\n",
        "\n",
        "1. initialize `data` as a `defaultdict` of lists\n",
        "2. loop over the `paragraphs` and apply `spacy`'s processing to produce a `doc` for each;\n",
        "3. loop over the `doc.sents` resulting from each `paragraph`;\n",
        "4. loop over the words in each `sentence`;\n",
        "5. check: `if` a `word` is `in` the `search_terms` set;\n",
        "6. `if` (5), then `.append()` the reference under `data[word]` as a list: `[[i, j, k], sentence]`, where `i`, `j`, and `k` refer to the paragraph-in-book, sentence-in-paragraph, and word-in-sentence indices, respectively.\n",
        "\n",
        "Your output, `data`, should then be a default dictionary of lists of the format:\n",
        "```\n",
        "data['word'] = [[[i, j, k], [\"These\", \"are\", \"sentences\", \"containing\", \"the\", \"word\", \"'word'\", \".\"]],\n",
        "                ...,]\n",
        "```\n",
        "\n",
        "Note, we have imported spacy and set it up to use the `\"en\"` model. This will require you to install spacy by running `pip install spacy` and downloading the `\"en\"` model by running the command `python -m spacy download en`."
      ]
    },
    {
      "cell_type": "code",
      "execution_count": 3,
      "metadata": {
        "id": "8iLVB45l8R00"
      },
      "outputs": [],
      "source": [
        "# B2:Function(10/10)\n",
        "\n",
        "from collections import defaultdict\n",
        "import spacy\n",
        "#nlp = spacy.load(\"en\")\n",
        "nlp = spacy.load(\"en_core_web_sm\")\n",
        "\n",
        "def kwic(paragraphs, search_terms = {}):\n",
        "    \n",
        "    #---Your code starts here---\n",
        "    data = defaultdict(list)\n",
        "    for i, para in enumerate(paragraphs):\n",
        "        doc = nlp(para)\n",
        "        for j, sentence in enumerate(doc.sents):\n",
        "            for word in sentence:\n",
        "                if word.text in search_terms:\n",
        "                    if word.text in data.keys():\n",
        "                        data[word.text].append([[i,j,word.i], sentence.text.split()])\n",
        "                    else:\n",
        "                        data[word.text] = [[[i,j,word.i],sentence.text.split()]]\n",
        "    #---Your code ends here---\n",
        "    \n",
        "    return(data)"
      ]
    },
    {
      "cell_type": "markdown",
      "metadata": {
        "id": "bGi9F4uH8R01"
      },
      "source": [
        "Now, let's test your function using the paragraphs from your `load_book` function."
      ]
    },
    {
      "cell_type": "code",
      "execution_count": 4,
      "metadata": {
        "id": "ZANCBwAx8R01",
        "colab": {
          "base_uri": "https://localhost:8080/"
        },
        "outputId": "8a708ce0-c835-4013-dcfa-55eecca71814"
      },
      "outputs": [
        {
          "output_type": "execute_result",
          "data": {
            "text/plain": [
              "defaultdict(list,\n",
              "            {'Ocean': [[[10, 2, 97],\n",
              "               ['I',\n",
              "                'have',\n",
              "                'read',\n",
              "                'with',\n",
              "                'ardour',\n",
              "                'the',\n",
              "                'accounts',\n",
              "                'of',\n",
              "                'the',\n",
              "                'various',\n",
              "                'voyages',\n",
              "                'which',\n",
              "                'have',\n",
              "                'been',\n",
              "                'made',\n",
              "                'in',\n",
              "                'the',\n",
              "                'prospect',\n",
              "                'of',\n",
              "                'arriving',\n",
              "                'at',\n",
              "                'the',\n",
              "                'North',\n",
              "                'Pacific',\n",
              "                'Ocean',\n",
              "                'through',\n",
              "                'the',\n",
              "                'seas',\n",
              "                'which',\n",
              "                'surround',\n",
              "                'the',\n",
              "                'pole.']]],\n",
              "             'seas': [[[10, 2, 101],\n",
              "               ['I',\n",
              "                'have',\n",
              "                'read',\n",
              "                'with',\n",
              "                'ardour',\n",
              "                'the',\n",
              "                'accounts',\n",
              "                'of',\n",
              "                'the',\n",
              "                'various',\n",
              "                'voyages',\n",
              "                'which',\n",
              "                'have',\n",
              "                'been',\n",
              "                'made',\n",
              "                'in',\n",
              "                'the',\n",
              "                'prospect',\n",
              "                'of',\n",
              "                'arriving',\n",
              "                'at',\n",
              "                'the',\n",
              "                'North',\n",
              "                'Pacific',\n",
              "                'Ocean',\n",
              "                'through',\n",
              "                'the',\n",
              "                'seas',\n",
              "                'which',\n",
              "                'surround',\n",
              "                'the',\n",
              "                'pole.']],\n",
              "              [[21, 8, 255],\n",
              "               ['Shall',\n",
              "                'I',\n",
              "                'meet',\n",
              "                'you',\n",
              "                'again,',\n",
              "                'after',\n",
              "                'having',\n",
              "                'traversed',\n",
              "                'immense',\n",
              "                'seas,',\n",
              "                'and',\n",
              "                'returned',\n",
              "                'by',\n",
              "                'the',\n",
              "                'most',\n",
              "                'southern',\n",
              "                'cape',\n",
              "                'of',\n",
              "                'Africa',\n",
              "                'or',\n",
              "                'America?']],\n",
              "              [[30, 2, 26],\n",
              "               ['Thus',\n",
              "                'far',\n",
              "                'I',\n",
              "                'have',\n",
              "                'gone,',\n",
              "                'tracing',\n",
              "                'a',\n",
              "                'secure',\n",
              "                'way',\n",
              "                'over',\n",
              "                'the',\n",
              "                'pathless',\n",
              "                'seas,',\n",
              "                'the',\n",
              "                'very',\n",
              "                'stars',\n",
              "                'themselves',\n",
              "                'being',\n",
              "                'witnesses',\n",
              "                'and',\n",
              "                'testimonies',\n",
              "                'of',\n",
              "                'my',\n",
              "                'triumph.']],\n",
              "              [[378, 4, 117],\n",
              "               ['I',\n",
              "                'had',\n",
              "                'a',\n",
              "                'very',\n",
              "                'confused',\n",
              "                'knowledge',\n",
              "                'of',\n",
              "                'kingdoms,',\n",
              "                'wide',\n",
              "                'extents',\n",
              "                'of',\n",
              "                'country,',\n",
              "                'mighty',\n",
              "                'rivers,',\n",
              "                'and',\n",
              "                'boundless',\n",
              "                'seas.']],\n",
              "              [[668, 8, 288],\n",
              "               ['I',\n",
              "                'had',\n",
              "                'determined,',\n",
              "                'if',\n",
              "                'you',\n",
              "                'were',\n",
              "                'going',\n",
              "                'southwards,',\n",
              "                'still',\n",
              "                'to',\n",
              "                'trust',\n",
              "                'myself',\n",
              "                'to',\n",
              "                'the',\n",
              "                'mercy',\n",
              "                'of',\n",
              "                'the',\n",
              "                'seas',\n",
              "                'rather',\n",
              "                'than',\n",
              "                'abandon',\n",
              "                'my',\n",
              "                'purpose.']],\n",
              "              [[676, 14, 376],\n",
              "               ['Behold,',\n",
              "                'on',\n",
              "                'these',\n",
              "                'desert',\n",
              "                'seas',\n",
              "                'I',\n",
              "                'have',\n",
              "                'found',\n",
              "                'such',\n",
              "                'a',\n",
              "                'one,',\n",
              "                'but',\n",
              "                'I',\n",
              "                'fear',\n",
              "                'I',\n",
              "                'have',\n",
              "                'gained',\n",
              "                'him',\n",
              "                'only',\n",
              "                'to',\n",
              "                'know',\n",
              "                'his',\n",
              "                'value',\n",
              "                'and',\n",
              "                'lose',\n",
              "                'him.']]]})"
            ]
          },
          "metadata": {},
          "execution_count": 4
        }
      ],
      "source": [
        "# B2:SanityCheck\n",
        "kwic(paragraphs, {'Ocean', 'seas'})"
      ]
    },
    {
      "cell_type": "markdown",
      "metadata": {
        "id": "FtrTQWSd8R02"
      },
      "source": [
        "__B3.__ _(2 points)_ Let's test your `kwic` search function's utility using the pre-processed `paragraphs` from book `84` for the key words `Frankenstein` and `monster` in context. Answer the inline questions about these tests."
      ]
    },
    {
      "cell_type": "code",
      "execution_count": 5,
      "metadata": {
        "id": "h-SLKCYO8R02",
        "colab": {
          "base_uri": "https://localhost:8080/"
        },
        "outputId": "ea904e41-1625-4963-89e3-cb9c05b00190"
      },
      "outputs": [
        {
          "output_type": "stream",
          "name": "stdout",
          "text": [
            "# of sentences 'Frankenstein' appears in: 27\n",
            "# of sentences 'monster' appears in: 31\n",
            "\n",
            "She nursed Madame Frankenstein, my aunt, in her last illness, with the greatest affection and care and afterwards attended her own mother during a tedious illness, in a manner that excited the admiration of all who knew her, after which she again lived in my uncle's house, where she was beloved by all the family.\n",
            "\n",
            "I started from my sleep with horror; a cold dew covered my forehead, my teeth chattered, and every limb became convulsed; when, by the dim and yellow light of the moon, as it forced its way through the window shutters, I beheld the wretch--the miserable monster whom I had created.\n"
          ]
        }
      ],
      "source": [
        "# B3:SanityCheck\n",
        "results = kwic(paragraphs, {\"Frankenstein\", \"monster\"})\n",
        "\n",
        "print(\"# of sentences 'Frankenstein' appears in: {}\".format(len(results['Frankenstein'])))\n",
        "print(\"# of sentences 'monster' appears in: {}\".format(len(results['monster'])))\n",
        "print()\n",
        "\n",
        "print(\" \".join(results['Frankenstein'][7][1]))\n",
        "print()\n",
        "print(\" \".join(results['monster'][0][1]))"
      ]
    },
    {
      "cell_type": "code",
      "execution_count": 7,
      "metadata": {
        "id": "EYbIaoHi8R03",
        "colab": {
          "base_uri": "https://localhost:8080/"
        },
        "outputId": "e227cede-5cb0-409d-d1d7-68ebdf691775"
      },
      "outputs": [
        {
          "output_type": "stream",
          "name": "stdout",
          "text": [
            "Slow\n"
          ]
        }
      ],
      "source": [
        "# B3:Inline(1/2)\n",
        "\n",
        "# Is the kwic function fast or slow? Print \"Fast\" or \"Slow\"\n",
        "print(\"Slow\")"
      ]
    },
    {
      "cell_type": "code",
      "execution_count": 8,
      "metadata": {
        "id": "NUok_hAj8R03",
        "colab": {
          "base_uri": "https://localhost:8080/"
        },
        "outputId": "0ee5c016-647b-4288-a903-a40bfd0dd8c4"
      },
      "outputs": [
        {
          "output_type": "stream",
          "name": "stdout",
          "text": [
            "27\n"
          ]
        }
      ],
      "source": [
        "# B3:Inline(1/2)\n",
        "\n",
        "# How many sentences does the work Frankenstein appear in? Print the integer (0 is just a placeholder).\n",
        "print(27)"
      ]
    },
    {
      "cell_type": "markdown",
      "metadata": {
        "id": "1WVB4vxg8R03"
      },
      "source": [
        "__B4.__ _(10 pts)_ The cost of _indexing_ a given book turns out to be the limiting factor here for kwic. Presently, we have our pre-processing `load_book` function just splitting a document into paragraphs. Rewrite the `load_book` function to do some additional preprocessing. Specifically, this function should be modified to:\n",
        "\n",
        "1. split a `book` into paragraphs and loop over them, but\n",
        "2. process each paragraph with `spacy`;\n",
        "3. store the `document` as a triple-nested list, so that each word _string_ is reachable via three indices: `word = document[i][j][k]`;\n",
        "4. record an `index = defaultdict(list)` containing a list of `[i,j,k]` lists for each word; and\n",
        "5. `return document, index`\n",
        "\n",
        "Pre-computing the `index` will allow us to efficiently look up the locations of each word's instance in `document`, and the triple-list format of our document will allow us fast access to extract the sentence for KWiC. "
      ]
    },
    {
      "cell_type": "code",
      "execution_count": 10,
      "metadata": {
        "id": "q3FDNa7y8R03"
      },
      "outputs": [],
      "source": [
        "# B4:Function(10/10)\n",
        "\n",
        "def load_book(book_id):\n",
        "    \n",
        "    #---Your code starts here---\n",
        "    some = open(f\"./data/books/{book_id}.txt\",'r').read()\n",
        "    content = some.strip()\n",
        "    \n",
        "    document = []\n",
        "    index = defaultdict(list)\n",
        "    paragraphs = re.split('\\n\\n+',content)\n",
        "    \n",
        "    for i, paragraph in enumerate(paragraphs):\n",
        "        doc = nlp(paragraph)\n",
        "        document.append([])\n",
        "        \n",
        "        for j, sentence in enumerate(doc.sents):\n",
        "            document[i].append([])\n",
        "            for k, word in enumerate(sentence):\n",
        "                document[i][j].append(word.text)\n",
        "                \n",
        "                loc = [i,j,k]\n",
        "                index[word.text].append(loc)\n",
        "    #---Your code ends here---\n",
        "                    \n",
        "    return(document, index)\n"
      ]
    },
    {
      "cell_type": "markdown",
      "metadata": {
        "id": "cPxOMm3H8R04"
      },
      "source": [
        "Now, let's test your new function on `book_id` = `'84'`. We'll use the returned document to access a particular sentence and print out the `[i,j,k]` locations of the word `'monster'` from `index`."
      ]
    },
    {
      "cell_type": "code",
      "execution_count": 11,
      "metadata": {
        "id": "E06odc3V8R04"
      },
      "outputs": [],
      "source": [
        "# B4:SanityCheck\n",
        "\n",
        "# load the book\n",
        "document, index = load_book(\"84\")"
      ]
    },
    {
      "cell_type": "code",
      "execution_count": 12,
      "metadata": {
        "id": "lXiBh86m8R04",
        "colab": {
          "base_uri": "https://localhost:8080/"
        },
        "outputId": "b811fb8b-bb35-4db0-db18-a39a35a9fb1f"
      },
      "outputs": [
        {
          "output_type": "execute_result",
          "data": {
            "text/plain": [
              "[' ',\n",
              " 'There',\n",
              " ',',\n",
              " 'Margaret',\n",
              " ',',\n",
              " 'the',\n",
              " 'sun',\n",
              " 'is',\n",
              " 'forever',\n",
              " '\\n',\n",
              " 'visible',\n",
              " ',',\n",
              " 'its',\n",
              " 'broad',\n",
              " 'disk',\n",
              " 'just',\n",
              " 'skirting',\n",
              " 'the',\n",
              " 'horizon',\n",
              " 'and',\n",
              " 'diffusing',\n",
              " 'a',\n",
              " '\\n',\n",
              " 'perpetual',\n",
              " 'splendour',\n",
              " '.']"
            ]
          },
          "metadata": {},
          "execution_count": 12
        }
      ],
      "source": [
        "# B4:SanityCHeck\n",
        "\n",
        "# Output paragraph 9, sentence 5\n",
        "document[9][5]"
      ]
    },
    {
      "cell_type": "code",
      "execution_count": 13,
      "metadata": {
        "id": "FRBA96ex8R04",
        "colab": {
          "base_uri": "https://localhost:8080/"
        },
        "outputId": "a8b54a91-57cb-4f88-e8b7-88c73121e9a9"
      },
      "outputs": [
        {
          "output_type": "execute_result",
          "data": {
            "text/plain": [
              "[[124, 9, 58],\n",
              " [136, 3, 7],\n",
              " [139, 3, 5],\n",
              " [142, 1, 5],\n",
              " [243, 3, 30],\n",
              " [261, 3, 19],\n",
              " [280, 0, 2],\n",
              " [321, 1, 36],\n",
              " [345, 8, 7],\n",
              " [380, 12, 6],\n",
              " [397, 1, 47],\n",
              " [437, 1, 11],\n",
              " [439, 0, 3],\n",
              " [477, 5, 9],\n",
              " [478, 6, 7],\n",
              " [510, 1, 9],\n",
              " [527, 0, 1],\n",
              " [538, 18, 23],\n",
              " [560, 3, 32],\n",
              " [585, 3, 44],\n",
              " [587, 10, 73],\n",
              " [606, 3, 3],\n",
              " [615, 2, 12],\n",
              " [633, 8, 10],\n",
              " [639, 1, 22],\n",
              " [644, 5, 18],\n",
              " [653, 6, 6],\n",
              " [663, 4, 3],\n",
              " [673, 0, 39],\n",
              " [673, 1, 3],\n",
              " [709, 12, 2]]"
            ]
          },
          "metadata": {},
          "execution_count": 13
        }
      ],
      "source": [
        "# B4:SanityCheck\n",
        "\n",
        "# Output the indices for monster\n",
        "index['monster']"
      ]
    },
    {
      "cell_type": "markdown",
      "metadata": {
        "id": "MHfP73O38R04"
      },
      "source": [
        "__B5.__ _(5 pts)_ Finally, make a new function called `fast_kwic` that takes a `document` and `index` from our new `load_book` function as well as a provided list of `search_terms` (just like our original kwic function). The function should loops through all specified `search_terms` to identify indices from `index[word]` for the key word-containing sentences and use them to extract these sentences from `document` into the same data structure as output by __B2__:\n",
        "```\n",
        "data['word'] = [[[i, j, k], [\"These\", \"are\", \"sentences\", \"containing\", \"the\", \"word\", \"'word'\", \".\"]],\n",
        "                ...,]\n",
        "```"
      ]
    },
    {
      "cell_type": "code",
      "execution_count": 14,
      "metadata": {
        "id": "sgqcmxHH8R05"
      },
      "outputs": [],
      "source": [
        "# B5:Function(5/5)\n",
        "\n",
        "def fast_kwic(document, index, search_terms = {}):\n",
        "\n",
        "    #---Your code starts here---\n",
        "    data = defaultdict(list)\n",
        "    \n",
        "    for term in search_terms:\n",
        "        for i,j,k in index[term]:\n",
        "            data[term].append([[i,j,k],document[i][j]])\n",
        "    #---Your code ends here---\n",
        "    \n",
        "    return(data)"
      ]
    },
    {
      "cell_type": "markdown",
      "metadata": {
        "id": "J9rYNYIG8R05"
      },
      "source": [
        "To test our new function, lets test it on the same keywords as before: `Frankenstein` and `monster`. Note that the output from this sanity check should be the same as the one from **B3**. "
      ]
    },
    {
      "cell_type": "code",
      "execution_count": 15,
      "metadata": {
        "id": "gl_6LtGH8R05",
        "colab": {
          "base_uri": "https://localhost:8080/"
        },
        "outputId": "66c3f51c-2eb2-4cf8-85c2-7362a41bdaa9"
      },
      "outputs": [
        {
          "output_type": "stream",
          "name": "stdout",
          "text": [
            "# of sentences 'Frankenstein' appears in: 27\n",
            "# of sentences 'monster' appears in: 31\n",
            "\n",
            "  She nursed Madame \n",
            " Frankenstein , my aunt , in her last illness , with the greatest affection \n",
            " and care and afterwards attended her own mother during a tedious \n",
            " illness , in a manner that excited the admiration of all who knew her , \n",
            " after which she again lived in my uncle 's house , where she was beloved \n",
            " by all the family .\n",
            "\n",
            "\n",
            " I started from my sleep with horror ; a cold dew covered my forehead , my \n",
            " teeth chattered , and every limb became convulsed ; when , by the dim and \n",
            " yellow light of the moon , as it forced its way through the window \n",
            " shutters , I beheld the wretch -- the miserable monster whom I had \n",
            " created .\n"
          ]
        }
      ],
      "source": [
        "# B5:SanityCheck\n",
        "\n",
        "fast_results = fast_kwic(document, index, {'Frankenstein', 'monster'})\n",
        "\n",
        "print(\"# of sentences 'Frankenstein' appears in: {}\".format(len(fast_results['Frankenstein'])))\n",
        "print(\"# of sentences 'monster' appears in: {}\".format(len(fast_results['monster'])))\n",
        "print()\n",
        "\n",
        "print(\" \".join(fast_results['Frankenstein'][7][1]))\n",
        "print()\n",
        "print(\" \".join(fast_results['monster'][0][1]))"
      ]
    },
    {
      "cell_type": "markdown",
      "metadata": {
        "id": "6sVBl6vY8R05"
      },
      "source": [
        "__B6.__ _(5 pts)_ Your goal here is to modify the pre-processing in `load_book` one more time! Make a small modification to the input: `load_book(book_id, pos = True, lemma = True):`, to accept two boolean arguments, `pos` and `lemma` specifying how to identify each word as a key term. In particular, each word will now be represented in both of the `document` and `index` as a tuple: `heading = (text, tag)`, where `text` contains the `word.text` attribute from `spacy` if `lemma = False`, and `word.lemma_` attribute if `True`. Similarly, `tag` should be left empty as `\"\"` if `pos = False` and otherwise contain `word.pos_`.\n",
        "\n",
        "Note this functions output should still consist of a `document` and `index` in the same format aside from the replacement of `word` with `heading`, which will allow for the same use of output in `fast_kwic`, although more specified by the textual features."
      ]
    },
    {
      "cell_type": "code",
      "execution_count": 16,
      "metadata": {
        "id": "ljL1QXGE8R05"
      },
      "outputs": [],
      "source": [
        "# B6:Function(5/5)\n",
        "\n",
        "def load_book(book_id, pos = True, lemma = True):\n",
        "    \n",
        "    #---Your code starts here---\n",
        "    some = open(f\"./data/books/{book_id}.txt\",'r').read()\n",
        "    content = some.strip()\n",
        "    \n",
        "    document = []\n",
        "    index = defaultdict(list)\n",
        "    paragraphs = re.split('\\n\\n+',content)\n",
        "    \n",
        "    for i, paragraph in enumerate(paragraphs):\n",
        "        doc = nlp(paragraph)\n",
        "        document.append([])\n",
        "        \n",
        "        for j, sentence in enumerate(doc.sents):\n",
        "            document[i].append([])\n",
        "            for k, word in enumerate(sentence):\n",
        "                document[i][j].append(word.text)\n",
        "                \n",
        "                heading = (word.lemma_ if lemma else word.text, word.pos_ if pos else \"\")\n",
        "                loc = [i,j,k]\n",
        "                index[heading].append(loc)  \n",
        "    #---Your code ends here---\n",
        "    \n",
        "    return document, index"
      ]
    },
    {
      "cell_type": "code",
      "execution_count": 17,
      "metadata": {
        "id": "Oeb0Xy--8R06"
      },
      "outputs": [],
      "source": [
        "# B6:SanityCheck\n",
        "document, index = load_book(\"84\", pos = True, lemma = True)"
      ]
    },
    {
      "cell_type": "code",
      "execution_count": 18,
      "metadata": {
        "id": "YHCSKUXP8R06",
        "colab": {
          "base_uri": "https://localhost:8080/",
          "height": 88
        },
        "outputId": "b9123a77-45ef-457d-d876-e24984ac787f"
      },
      "outputs": [
        {
          "output_type": "stream",
          "name": "stdout",
          "text": [
            "Sentence with ('cold', 'NOUN'):\n"
          ]
        },
        {
          "output_type": "execute_result",
          "data": {
            "text/plain": [
              "'  The \\n cold is not excessive , if you are wrapped in furs -- a dress which I have \\n already adopted , for there is a great difference between walking the \\n deck and remaining seated motionless for hours , when no exercise \\n prevents the blood from actually freezing in your veins .'"
            ],
            "application/vnd.google.colaboratory.intrinsic+json": {
              "type": "string"
            }
          },
          "metadata": {},
          "execution_count": 18
        }
      ],
      "source": [
        "# B6:SanityCheck\n",
        "print(\"Sentence with ('cold', 'NOUN'):\")\n",
        "\" \".join(fast_kwic(document, index, search_terms = {('cold', 'NOUN')})[('cold', 'NOUN')][0][1])"
      ]
    },
    {
      "cell_type": "code",
      "execution_count": 19,
      "metadata": {
        "id": "dCu2mpEU8R06",
        "colab": {
          "base_uri": "https://localhost:8080/",
          "height": 70
        },
        "outputId": "26f9a7c8-01a0-4bfd-e742-34ffe1fd9fa6"
      },
      "outputs": [
        {
          "output_type": "stream",
          "name": "stdout",
          "text": [
            "Sentence with ('cold', 'ADJ'):\n"
          ]
        },
        {
          "output_type": "execute_result",
          "data": {
            "text/plain": [
              "'I am already far north of London , and as I walk in the streets of \\n Petersburgh , I feel a cold northern breeze play upon my cheeks , which \\n braces my nerves and fills me with delight .'"
            ],
            "application/vnd.google.colaboratory.intrinsic+json": {
              "type": "string"
            }
          },
          "metadata": {},
          "execution_count": 19
        }
      ],
      "source": [
        "# B6:SanityCheck\n",
        "print(\"Sentence with ('cold', 'ADJ'):\")\n",
        "\" \".join(fast_kwic(document, index, search_terms = {('cold', 'ADJ')})[('cold', 'ADJ')][0][1])"
      ]
    }
  ],
  "metadata": {
    "kernelspec": {
      "display_name": "Python 3",
      "language": "python",
      "name": "python3"
    },
    "language_info": {
      "codemirror_mode": {
        "name": "ipython",
        "version": 3
      },
      "file_extension": ".py",
      "mimetype": "text/x-python",
      "name": "python",
      "nbconvert_exporter": "python",
      "pygments_lexer": "ipython3",
      "version": "3.8.6"
    },
    "colab": {
      "name": "A1-module-B.ipynb",
      "provenance": [],
      "collapsed_sections": []
    }
  },
  "nbformat": 4,
  "nbformat_minor": 0
}